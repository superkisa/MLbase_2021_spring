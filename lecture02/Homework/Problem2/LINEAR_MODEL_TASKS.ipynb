{
 "cells": [
  {
   "cell_type": "code",
   "execution_count": 1,
   "metadata": {
    "ExecuteTime": {
     "end_time": "2019-10-18T07:26:47.648991Z",
     "start_time": "2019-10-18T07:26:46.395720Z"
    },
    "id": "5UgBcdSUPr7Q"
   },
   "outputs": [],
   "source": [
    "import numpy as np\n",
    "import seaborn as sns\n",
    "import matplotlib.pyplot as plt\n",
    "from scipy import stats\n",
    "import csv\n",
    "from collections import defaultdict\n",
    "import time\n",
    "%matplotlib inline"
   ]
  },
  {
   "cell_type": "markdown",
   "metadata": {
    "id": "6lTIRmqtPr7b"
   },
   "source": [
    "# Дополнительные функции"
   ]
  },
  {
   "cell_type": "code",
   "execution_count": 2,
   "metadata": {
    "ExecuteTime": {
     "end_time": "2019-10-18T07:26:47.655990Z",
     "start_time": "2019-10-18T07:26:47.650982Z"
    },
    "code_folding": [
     0
    ],
    "id": "043DtwSLPr7c"
   },
   "outputs": [],
   "source": [
    "def time_delta(func, *args, **kwargs): \n",
    "    start_time = time.time()\n",
    "    func(*args, **kwargs)\n",
    "    end_time = time.time()\n",
    "    \n",
    "    return end_time-start_time"
   ]
  },
  {
   "cell_type": "code",
   "execution_count": 3,
   "metadata": {
    "ExecuteTime": {
     "end_time": "2019-10-18T07:26:47.761930Z",
     "start_time": "2019-10-18T07:26:47.658977Z"
    },
    "code_folding": [
     0
    ],
    "id": "-2A_uWUZPr7d"
   },
   "outputs": [],
   "source": [
    "def merge_two_dicts(dict1, dict2):\n",
    "    dict3 = defaultdict(list)\n",
    "    items = list(dict1.items())+list(dict2.items())\n",
    "\n",
    "    for k, v in items:\n",
    "        for item in v:\n",
    "            dict3[k].append(item)\n",
    "    return dict3"
   ]
  },
  {
   "cell_type": "code",
   "execution_count": 4,
   "metadata": {
    "ExecuteTime": {
     "end_time": "2019-10-18T07:26:47.935818Z",
     "start_time": "2019-10-18T07:26:47.930821Z"
    },
    "code_folding": [
     0
    ],
    "id": "iZLv5eGCPr7e"
   },
   "outputs": [],
   "source": [
    "def read_task_1(file_name, header, sep='|'):\n",
    "    result = {}\n",
    "    data = np.genfromtxt(file_name, delimiter=sep, skip_header=1)\n",
    "    for i, name in enumerate(header):\n",
    "        result[name] = data[:,i]\n",
    "    return result"
   ]
  },
  {
   "cell_type": "code",
   "execution_count": 5,
   "metadata": {
    "ExecuteTime": {
     "end_time": "2019-10-18T07:26:48.495498Z",
     "start_time": "2019-10-18T07:26:48.443538Z"
    },
    "code_folding": [
     0
    ],
    "id": "WcdTLEKpPr7e"
   },
   "outputs": [],
   "source": [
    "def read_task_2_3(file_name, sep='|', test_size=.3, bias=True):\n",
    "    data = np.genfromtxt(file_name, delimiter=sep, skip_header=1)\n",
    "    \n",
    "    train_idx = np.random.choice(range(data.shape[0]), size=int(data.shape[0]*(1 - test_size)), replace = False)\n",
    "    test_idx  = np.array([i for i in range(data.shape[0]) if i not in train_idx])\n",
    "    \n",
    "    if bias:\n",
    "        X_train = np.hstack((data[train_idx,:-1], \n",
    "                             np.ones((train_idx.shape[0], 1))\n",
    "                            ))\n",
    "        X_test =  np.hstack((data[test_idx,:-1],\n",
    "                         np.ones((test_idx.shape[0], 1))\n",
    "                        ))\n",
    "    else:\n",
    "        X_train = data[train_idx,:-1]\n",
    "        X_test = data[test_idx,:-1]\n",
    "        \n",
    "    y_train = data[train_idx,-1] \n",
    "    \n",
    "   \n",
    "    y_test = data[test_idx,-1]\n",
    "    return X_train, y_train, X_test, y_test"
   ]
  },
  {
   "cell_type": "code",
   "execution_count": 6,
   "metadata": {
    "ExecuteTime": {
     "end_time": "2019-10-18T07:32:12.744073Z",
     "start_time": "2019-10-18T07:32:12.739080Z"
    },
    "code_folding": [
     0
    ],
    "id": "r9Ujh_GyPr7f"
   },
   "outputs": [],
   "source": [
    "def plot_correlation_matrix(corr_mtrx):\n",
    "    f = plt.figure(figsize=(8, 8))\n",
    "    plt.matshow(corr_mtrx, fignum=f.number)\n",
    "    plt.xticks(range(corr_mtrx.shape[1]), fontsize=9, rotation=45)\n",
    "    plt.yticks(range(corr_mtrx.shape[1]), fontsize=9)\n",
    "    cb = plt.colorbar()\n",
    "    plt.title('Correlation Matrix', fontsize=10)"
   ]
  },
  {
   "cell_type": "markdown",
   "metadata": {
    "id": "UuIw68vMPr7f"
   },
   "source": [
    "# План\n",
    "\n",
    "__Вы научитесь:__\n",
    "    1. Решать задачу линейной регрессии аналитически\n",
    "    2. Понимать как работают классические метрики оценки качества линейной регрессии\n",
    "    3. Разбираться что такое полиномиальная регрессия и как сделать линейную регрессию не совсем линейной (как так выходит?)\n",
    "    4. Понимать что такое значимость коэффициентов  и зачем она нужна (Difference in Differences?)\n",
    "    5. Реализовывать градиентный и стохастический градиентый спуск для задачи линейной регрессии\n",
    "    6. Понимать как работает регуляризация \n",
    "    7. Превращать линейный регрессор в линейный классификатор\n",
    "    \n",
    "__Важно:__ Ноутбук стоит проходить последовательно. Каждое новое задание использует результат и функции предыдущих шагов"
   ]
  },
  {
   "cell_type": "markdown",
   "metadata": {
    "id": "U_l8IqyFPr7g"
   },
   "source": [
    "# Regression"
   ]
  },
  {
   "cell_type": "markdown",
   "metadata": {
    "id": "fLcogtHgPr7g"
   },
   "source": [
    "## Одномерный случай"
   ]
  },
  {
   "cell_type": "markdown",
   "metadata": {
    "id": "bPKwHrELPr7h"
   },
   "source": [
    "<font size=3>__Загрузка данных__</font>\n",
    "\n",
    "Вы получите __словарь__ со следубщими ключами:\n",
    "- __x_train__:  значение некоторого показателя\n",
    "- __y_train__:  целевое значение некоторой функции\n",
    "- __mainfold__: идеальное значение предсказания\n",
    "\n",
    "Значения словаря: одномерный numpy массив.\n",
    "\n",
    "P.S. Да, тестовых данных тут нет"
   ]
  },
  {
   "cell_type": "code",
   "execution_count": 7,
   "metadata": {
    "ExecuteTime": {
     "end_time": "2019-10-18T07:26:51.220197Z",
     "start_time": "2019-10-18T07:26:51.213202Z"
    },
    "code_folding": [],
    "id": "OMvy2SyWPr7h"
   },
   "outputs": [],
   "source": [
    "\n",
    "data = read_task_1('./task_1.csv', header=['x_train', 'y_train', 'manifold'])"
   ]
  },
  {
   "cell_type": "markdown",
   "metadata": {
    "id": "1y_sdetOPr7i"
   },
   "source": [
    "<font size=3, color=\"green\">__Задание №0.1: визуализация__</font>\n",
    "\n",
    "Визуализируйте зависимость _y_train_ от _x_train_ и значения _manifold_"
   ]
  },
  {
   "cell_type": "code",
   "execution_count": 8,
   "metadata": {
    "ExecuteTime": {
     "end_time": "2019-10-18T07:27:59.367573Z",
     "start_time": "2019-10-18T07:27:59.365590Z"
    },
    "colab": {
     "base_uri": "https://localhost:8080/",
     "height": 621
    },
    "id": "fYWZsaI1Pr7i",
    "outputId": "0d560680-5549-4d01-e5d1-44417dbfb1f3"
   },
   "outputs": [
    {
     "data": {
      "image/png": "[encoded data removed]",
      "text/plain": [
       "<Figure size 1440x720 with 1 Axes>"
      ]
     },
     "metadata": {
      "needs_background": "light"
     },
     "output_type": "display_data"
    }
   ],
   "source": [
    "margin = 0.3\n",
    "plt.figure(figsize=(20,10))\n",
    "\n",
    "# YOUR CODE HERE\n",
    "plt.plot(data['y_train'], data['x_train'], label='y_train')\n",
    "plt.plot(data['manifold'], data['x_train'], label='manifold')\n",
    "plt.legend()\n",
    "###\n",
    "\n",
    "plt.xlim(data['x_train'].min() - margin, data['x_train'].max() + margin)\n",
    "plt.ylim(data['y_train'].min() - margin, data['y_train'].max() + margin)\n",
    "\n",
    "plt.legend(loc='upper left', prop={'size': 20})\n",
    "plt.title('True manifold and noised data')\n",
    "plt.xlabel('x')\n",
    "plt.ylabel('y')\n",
    "plt.show()"
   ]
  },
  {
   "cell_type": "markdown",
   "metadata": {
    "id": "GvEh4flUPr7k"
   },
   "source": [
    "### Метод наименьших квадратов (Ordinary Least Squares)"
   ]
  },
  {
   "cell_type": "markdown",
   "metadata": {
    "id": "7q50ct7-Pr7l"
   },
   "source": [
    "\n",
    "<font size=3>__Немного теории__</font>\n",
    "\n",
    "Линейная регрессия позволяет прогнозировать значения количественного показателя в виде ___линейной комбинацией признаков___ с некоторыми весами. Поиск ___весов___ является целью обучения данного алгоритма, что достигается при помощи ___минимизации___ некоторого ___функционала ошибки___.\n",
    "\n",
    "<font size=2.3>__Как строится предсказание?__</font>\n",
    "\n",
    "Функция зависимости $y$ от $x$ будет иметь следующий вид $y_i=\\sum_{j=1}^m{w_jx_{ij}}+w_{0}+\\epsilon_i$, что и является ___линейной комбинацией признаков___. Обобщить данное выражение можно с помощью добавления фиктивной переменной $x_0=1$ (bais). И тогда в матричном виде получаем:\n",
    "\n",
    "<font size=4>$$y=Xw+\\epsilon$$</font>\n",
    "где:\n",
    "- $w$ $-$ оценка коэффициентов регрессии\n",
    "- $X$ $-$ матрица наблюдений состоящая из $n$ строк и $m+1$ столбцов (вопрос в студию: почему +1?)\n",
    "- $\\epsilon$ $-$ случайная ошибка модели\n",
    "\n",
    "<font size=2.3>__Как найти \"подходящие\" веса?__</font>\n",
    "\n",
    "\n",
    "Метод наименьших квадратов один из способов их поиска, в рамках которого используется __среднеквадратичная ошибка__\n",
    "\n",
    "<font size=4>\\begin{array}{rcl}\\mathcal{L}\\left( X, {y}, {w} \\right) &=& \\frac{1}{2n} \\sum_{i=1}^n \\left(y_i - {w}^\\text{T} {x}_i\\right)^2 \\\\\n",
    "&=& \\frac{1}{2n} \\left\\| {y} -  X {w} \\right\\|_2^2 \\\\\n",
    "&=& \\frac{1}{2n} \\left({y} -  X {w}\\right)^\\text{T} \\left({y} -  X {w}\\right)\n",
    "\\end{array}</font>\n",
    "\n",
    "\n",
    "Для решения задачи оптимизации необходимо взять производную по весам $w$ и прировнять ее к нулю:\n",
    "\n",
    "\\begin{array}{rcl} \\frac{\\partial \\mathcal{L}}{\\partial {w}} &=& \\frac{1}{2n} \\left( {y}^{\\text{T}} {y} -2{y}^{\\text{T}} {X} {w} + {w}^{\\text{T}} {X}^{\\text{T}} {X} {w}\\right) \\\\\n",
    "&=& \\frac{1}{2n} \\left(-2 {X}^{\\text{T}} {y} + 2{X}^{\\text{T}} {X} {w}\\right)\n",
    "\\end{array}\n",
    "\n",
    "\n",
    "\\begin{array}{rcl} \\frac{\\partial \\mathcal{L}}{\\partial {w}} = 0 &\\Leftrightarrow& \\frac{1}{2n} \\left(-2 {X}^{\\text{T}} {y} + 2{X}^{\\text{T}} {X} {w}\\right) = 0 \\\\\n",
    "&\\Leftrightarrow& -{X}^{\\text{T}} {y} + {X}^{\\text{T}} {X} {w} = 0 \\\\\n",
    "&\\Leftrightarrow& {X}^{\\text{T}} {X} {w} = {X}^{\\text{T}} {y} \\\\\n",
    "\\end{array} \n",
    "\n",
    "<font size=4>$$ {w} = \\left({X}^{\\text{T}} {X}\\right)^{-1} {X}^{\\text{T}} {y}$$ </font>\n",
    "\n",
    "Решение, полученные МНК, имеет наименьшую дисперсию среди всех линейных и несмещенных оценок, при условии выполнения \n",
    "[теоремы Гаусса - Маркова](https://ru.wikipedia.org/wiki/Теорема_Гаусса_—_Маркова).\n",
    "\n",
    "Также эту задачу можно решать численно с помощью градиентного спуска, об этом речь пойдет дальше.\n",
    "\n",
    "<font size=3 color=\"green\">__Задание №1: Аналитическое решение МНК__</font>\n",
    "\n",
    "__В данном задании вам необходимо реализовать 2 функции:__\n",
    "- __least_squares_weights__: в рамках которой необходимо реализовать МНК подход к поиску коэфициентов регрессии. Функция должна возвращать одномерный numpy массив длины $m$, где $m$ $-$ число признаков матрицы $x$\n",
    "- __least_squares_predict__: Функция должна возвращать одномерный numpy массив длины $n$, где $n$ $-$ число объектов матрицы $x$. Принимает на вход матрицу объекты-признаки $x$ и веса $w$. \n",
    "\n",
    "__!!ВАЖНО!!__: \n",
    "- не используйте в этих функциях циклы $-$ тогда она будет вычислительно неэффективной\n",
    "- не изменяйте значения X_train и Y_train, иначе проверка не отработает (необходимо только в этом задании).\n"
   ]
  },
  {
   "cell_type": "code",
   "execution_count": 9,
   "metadata": {
    "ExecuteTime": {
     "end_time": "2019-10-18T06:48:31.695928Z",
     "start_time": "2019-10-18T06:48:31.692930Z"
    },
    "id": "pDZ3V6Z1Pr7m"
   },
   "outputs": [],
   "source": [
    "X_train = np.array([data['x_train']]).T\n",
    "Y_train = data['y_train']"
   ]
  },
  {
   "cell_type": "code",
   "execution_count": 10,
   "metadata": {
    "ExecuteTime": {
     "end_time": "2019-10-18T07:29:01.082705Z",
     "start_time": "2019-10-18T07:29:01.079715Z"
    },
    "code_folding": [],
    "id": "yYe2kgQrPr7m"
   },
   "outputs": [],
   "source": [
    "def least_squares_weights(x, y):\n",
    "    # YOUR CODE HERE\n",
    "    w = np.dot(np.dot(np.linalg.inv(np.dot(x.T, x)), x.T), y)\n",
    "    ###\n",
    "    return w\n",
    "\n",
    "W = least_squares_weights(X_train, Y_train)\n",
    "\n",
    "# TESTS\n",
    "assert type(W) == np.ndarray, 'Возвращается не корректный тип'\n",
    "assert W.shape == (1,), 'Проверьте размерность выходящего вектора'\n",
    "assert round(W[0], 3) == 0.493, 'Не верно реализован расчёт весов'\n",
    "assert time_delta(least_squares_weights, X_train, Y_train) < 1.5, 'Функция работает слишком долго, возможно вы используете лишние циклы'"
   ]
  },
  {
   "cell_type": "code",
   "execution_count": 11,
   "metadata": {
    "ExecuteTime": {
     "end_time": "2019-10-18T06:48:32.860259Z",
     "start_time": "2019-10-18T06:48:32.854261Z"
    },
    "id": "FnCidjyjPr7o"
   },
   "outputs": [],
   "source": [
    "def least_squares_predict(w, x):\n",
    "    # YOUR CODE HERE\n",
    "    result = np.dot(x, w)\n",
    "    return result\n",
    "\n",
    "Y_train_predict = least_squares_predict(W, X_train)\n",
    "\n",
    "# TESTS\n",
    "assert type(Y_train) == np.ndarray, 'Возвращается не корректный тип'\n",
    "assert Y_train_predict.shape == (500,), 'Проверьте размерность выходящего вектора'\n",
    "assert round(Y_train_predict[123], 3) == -3.706, 'Не верно реализован расчёт весов'\n",
    "assert time_delta(least_squares_predict, W, X_train) < 1.5, 'Функция работает слишком долго, возможно вы используете лишние циклы'"
   ]
  },
  {
   "cell_type": "markdown",
   "metadata": {
    "id": "cKTYUT9iPr7o"
   },
   "source": [
    "### Errors"
   ]
  },
  {
   "cell_type": "markdown",
   "metadata": {
    "id": "aRcUreciPr7p"
   },
   "source": [
    "<font size=3 >__Немного теории__</font>\n",
    "\n",
    "Мы разберем __основные метрики качества и функционалы потерь__ задачи регрессии. Далее все будем называть __метриками__.\n",
    "\n",
    "__Метрики необходимы для:__\n",
    "- поиска оптимального решения\n",
    "- оценки качества работы модели\n",
    "- сравнения моделей\n",
    "- интерпретации результатов\n",
    "\n",
    "\n",
    "\n",
    "<table border=\"1\" width=\"100%\">\n",
    " <tr>\n",
    "    <td width=\"50%\"> \n",
    "        <p> <font size=3> $MAE= \\frac{1}{n} \\sum_{i=1}^n |y_i-\\hat{y_i}|$  </font> </p> \n",
    "        <p> \n",
    "            <font size=2> \n",
    "                <span style=\"color:green; margin-left:2em\">$ +$ </span>\n",
    "                легко интерпретировать \n",
    "            </font><br/>\n",
    "            <font size=2> \n",
    "                <span style=\"color:green; margin-left:2em\">$ +$ </span>\n",
    "                единицы измерения таргета и метрики – эквивалентны\n",
    "            </font><br/>\n",
    "            <font size=2> \n",
    "                <span style=\"color:green; margin-left:2em\">$ +$ </span>\n",
    "                устойчива к выбросам \n",
    "            </font><br/>\n",
    "            <font size=2> \n",
    "                <span style=\"color:red; margin-left:2em\">$ -$ </span>\n",
    "                не ограничена сверху \n",
    "            </font><br/>\n",
    "            <font size=2> \n",
    "                <span style=\"color:red; margin-left:2em\">$ -$ </span>\n",
    "                не дифференцируема в таком виде \n",
    "            </font>\n",
    "        </p><br/>\n",
    "        <p> <font size=3> $MSE= \\frac{1}{n} \\sum_{i=1}^n (y_i-\\hat{y_i})^2$  </font> </p> \n",
    "        <p> \n",
    "            <font size=2> \n",
    "                <span style=\"color:green; margin-left:2em\">$ +$ </span>\n",
    "                дифференцируема\n",
    "            </font><br/>\n",
    "            <font size=2> \n",
    "                <span style=\"color:green; margin-left:2em\">$ +$ </span>\n",
    "                чувствительна к выбросам\n",
    "            </font><br/>\n",
    "            <font size=2> \n",
    "                <span style=\"color:red; margin-left:2em\">$ -$ </span>\n",
    "                не ограничена сверху \n",
    "            </font><br/>\n",
    "            <font size=2> \n",
    "                <span style=\"color:red; margin-left:2em\">$ -$ </span>\n",
    "                сложно интерпретировать \n",
    "            </font><br/>\n",
    "        </p><br/>\n",
    "        <p> <font size=3> $RMSE=\\sqrt{\\frac{1}{n} \\sum_{i=1}^n (y_i-\\hat{y_i})^2} $  </font> </p> \n",
    "        <p> \n",
    "            <font size=2> \n",
    "                <span style=\"color:green; margin-left:2em\">$ +$ </span>\n",
    "                дифференцируема\n",
    "            </font><br/>\n",
    "            <font size=2> \n",
    "                <span style=\"color:red; margin-left:2em\">$ -$ </span>\n",
    "                не ограничена сверху \n",
    "            </font><br/>\n",
    "            <font size=2> \n",
    "                <span style=\"color:red; margin-left:2em\">$ -$ </span>\n",
    "                еще сложнее интерпретировать \n",
    "            </font>\n",
    "        <p>Основное различие $RMSE$ и $MAE$ заключается в том, что минимизация $RMSE$ сремиться к средней оценке, а  $MAE$ к медиане</p><br/><p>$y$ $-$ истинное значение; $\\hat{y}$ $-$ предсказанное значение</p>\n",
    "        </p><br/>\n",
    "     </td>\n",
    "    <td><img src=\"./errors_2.png\" align=\"right\"></td>\n",
    " </tr>\n",
    "</table>\n",
    "\n",
    "Две попытки __объединить__ положительные __свойства метрик__:\n",
    "- [Функция потерь Хьюбера](https://en.wikipedia.org/wiki/Huber_loss): \n",
    "    * ведет себя как $MSE$ на ошибках меньше $\\sigma$ и как $MAE$ в противном случае. __Что не дает \"взрываться\" метрике на больших значениях и \"жестко\" реагирует на маленькие остатки__\n",
    "    * все так же не удобно дифференцировать\n",
    "- [Log-Cosh Loss](https://heartbeat.fritz.ai/5-regression-loss-functions-all-machine-learners-should-know-4fb140e9d4b0):\n",
    "    * принимает меньшие значения по сравнению с функцией потерь Хьюбера на всем множестве\n",
    "    * __дважды дифференцируема__, что необходимо в некоторых методах численной оптимизации.\n",
    "________________________\n",
    "__Проблема:__ все предыдущие метрики __не подходят для оценки конкретного решения__ а только для сравнения моделей, что следует из того что __функции не ограничены сверху.__ \n",
    "\n",
    "Эта проблема так же решается посредством доработок $MAE$: [MAPE](https://en.wikipedia.org/wiki/Mean_absolute_percentage_error) и [SMAPE](https://en.wikipedia.org/wiki/Symmetric_mean_absolute_percentage_error). Однако, подробно рассмотрим метрику $R^2$\n",
    "и мотивы появления $R^2_{adj}$.\n",
    "\n",
    "$$R^2=1-\\frac{\\sum_{i=1}^n (y_i-\\hat{y_i})^2}{\\sum_{i=1}^n (y_i-\\bar{y_i})^2}$$\n",
    "\n",
    "Данная метрика обладает следующими свойствами:\n",
    "\n",
    "<font size=2> \n",
    "    <span style=\"color:green; margin-left:2em\">$ +$ </span>\n",
    "     ограничена сверху и снизу, что позволяет дать оценку конкретному решению без сравнения с другими\n",
    "</font><br/>\n",
    "<font size=2> \n",
    "    <span style=\"color:green; margin-left:2em\">$ +$ </span>\n",
    "     хорошо интерпретируется: на сколько наша модель лучше, чем константное решение\n",
    "</font><br/>\n",
    "<font size=2> \n",
    "    <span style=\"color:red; margin-left:2em\">$ -$ </span>\n",
    "     не диффиренцируема\n",
    "</font><br/>\n",
    "<font size=2> \n",
    "    <span style=\"color:red; margin-left:2em\">$ -$ </span>\n",
    "     значение метрики растет (не уменьшается) при добавлении новых переменных, даже если они никак не объясняют целевой показатель. Поэтому нельзя сравнивать модели с разным количеством признаков. Данная проблема решается с помощью $R^2_{adj}$\n",
    "</font>\n",
    "\n",
    "$$R^2_{adj}=1-(1-R^2)\\frac{n-1}{n-p-1}$$\n",
    "\n",
    "где $p -$ число признаков, а $n -$ количество объектов\n",
    "\n",
    "__Рекомендации:__ использовать $R^2_{adj}$ для сравнения моделей и оценки количества переменных, а $R^2$ для оценки качества на новых объектах\n",
    "\n",
    "<font size=3 color=\"green\">__Задание №2: Метрики качества__</font>\n",
    "\n",
    "__В данном задании вам необходимо реализовать 4 основные метрики:__ $MAE; MSE; RMSE; R^2$\n",
    "\n",
    "Каждая из метрик принимает на вход 2 одномерных numpy массива:\n",
    "- __y_true__ - истинные значения \n",
    "- __y_predict__ - предсказанные значения\n",
    "\n",
    "Каждая из функций должна возврашать одно число \n",
    "\n",
    "__!!ВАЖНО!!__: не используйте в этих функциях циклы $-$ тогда она будет вычислительно неэффективной."
   ]
  },
  {
   "cell_type": "code",
   "execution_count": 12,
   "metadata": {
    "ExecuteTime": {
     "end_time": "2019-10-18T06:48:34.210482Z",
     "start_time": "2019-10-18T06:48:34.197494Z"
    },
    "code_folding": [],
    "id": "BDNySJSbPr7q"
   },
   "outputs": [],
   "source": [
    "def MAError(y_true, y_predict):\n",
    "    # YOUR CODE HERE\n",
    "    error = np.sum(np.abs(y_true - y_predict)) / y_true.shape[0]\n",
    "    ###\n",
    "    return error\n",
    "\n",
    "def MSError(y_true, y_predict):\n",
    "    # YOUR CODE HERE\n",
    "    error = np.sum((y_true - y_predict)**2) / y_true.shape[0]\n",
    "    ###\n",
    "    return error\n",
    "\n",
    "def RMSError(y_true, y_predict):\n",
    "    # YOUR CODE HERE\n",
    "    error = (np.sum((y_true - y_predict)**2) / y_true.shape[0])**0.5\n",
    "    ###\n",
    "    return error\n",
    "\n",
    "def R_square(y_true, y_predict):\n",
    "    # YOUR CODE HERE\n",
    "    y_mean = np.mean(y_true)\n",
    "    error = 1 - np.sum((y_true - y_predict)**2) / np.sum((y_true - y_mean)**2)\n",
    "    #error = 1 - (1 - R_sq) * (y_true.shape[0] - 1) / (y_true.shape[0] - 2)\n",
    "    ###\n",
    "    return error\n",
    "\n",
    "def all_metric(y_true, y_predict):\n",
    "    d = {}\n",
    "    d['MAE'] = [MAError(y_true, y_predict)] \n",
    "    d['MSE'] = [MSError(y_true, y_predict)] \n",
    "    d['RMSE'] = [RMSError(y_true, y_predict)]\n",
    "    d['R_square'] = [R_square(y_true, y_predict)]\n",
    "    return d\n",
    "\n",
    "# print(R_square(data['manifold'], Y_train_predict))\n",
    "\n",
    "# TESTS\n",
    "assert round(MAError(y_true=Y_train, y_predict=Y_train_predict), 3) == 1.274, 'Не верно реализован расчёт'\n",
    "assert time_delta(MAError, Y_train, Y_train_predict) < 1.5, 'Функция работает слишком долго, возможно вы используете лишние циклы'\n",
    "\n",
    "assert round(MSError(y_true=Y_train, y_predict=Y_train_predict), 3) == 2.22, 'Не верно реализован расчёт'\n",
    "assert time_delta(MSError, Y_train, Y_train_predict) < 1.5, 'Функция работает слишком долго, возможно вы используете лишние циклы'\n",
    "\n",
    "assert round(RMSError(y_true=Y_train, y_predict=Y_train_predict), 3)== 1.49, 'Не верно реализован расчёт'\n",
    "assert time_delta(RMSError, Y_train, Y_train_predict) < 1.5, 'Функция работает слишком долго, возможно вы используете лишние циклы'\n",
    "\n",
    "assert round(R_square(y_true=Y_train, y_predict=Y_train_predict), 3)== 0.843, 'Не верно реализован расчёт'\n",
    "assert time_delta(R_square, Y_train, Y_train_predict) < 1.5, 'Функция работает слишком долго, возможно вы используете лишние циклы'"
   ]
  },
  {
   "cell_type": "markdown",
   "metadata": {
    "id": "2cw4vGDTPr7r"
   },
   "source": [
    "<font size=3, color=\"green\">__Задание №0.2: визуализация__</font>\n",
    "\n",
    "Визуализируйте зависимость _y_train_ от _x_train_; значения _manifold_; а так же предсказанные значения для каждой точки"
   ]
  },
  {
   "cell_type": "code",
   "execution_count": 13,
   "metadata": {
    "ExecuteTime": {
     "end_time": "2019-10-18T07:30:26.478171Z",
     "start_time": "2019-10-18T07:30:26.475173Z"
    },
    "colab": {
     "base_uri": "https://localhost:8080/",
     "height": 621
    },
    "id": "7OxwQzv0Pr7t",
    "outputId": "76311b27-2c42-4477-86e1-c7b09a838423"
   },
   "outputs": [
    {
     "data": {
      "image/png": "[encoded data removed]",
      "text/plain": [
       "<Figure size 1440x720 with 1 Axes>"
      ]
     },
     "metadata": {
      "needs_background": "light"
     },
     "output_type": "display_data"
    }
   ],
   "source": [
    "plt.figure(figsize=(20,10))\n",
    "\n",
    "# YOUR CODE HERE\n",
    "Y_train = data['y_train']\n",
    "plt.plot(Y_train_predict, X_train, label='y_predict')\n",
    "plt.plot(data['y_train'], data['x_train'], label='y_train')\n",
    "plt.plot(data['manifold'], data['x_train'], label='manifold')\n",
    "plt.legend()\n",
    "\n",
    "\n",
    "plt.legend(loc='upper right', prop={'size': 20})\n",
    "plt.title('True manifold and noised data')\n",
    "plt.xlabel('x')\n",
    "plt.ylabel('y')\n",
    "plt.show()"
   ]
  },
  {
   "cell_type": "markdown",
   "metadata": {
    "ExecuteTime": {
     "end_time": "2019-09-25T13:03:16.500775Z",
     "start_time": "2019-09-25T13:03:16.469796Z"
    },
    "id": "ZoyvsVP7Pr7u"
   },
   "source": [
    "<font size=3, color=\"green\">__Задание №3: Улучшить модель__</font>\n",
    "\n",
    "Если все сделано верно, то ваш текуший результат $R^2 \\approx 0.84$, что в целом неплохо, но из графика видно, что можно лучше.\n",
    "\n",
    "_Сообщите, если это нет так_\n",
    "\n",
    "__Цель:__ Улучшить результат, оставив линейный характер предсказания. Кажется, что это можно сделать, добавив лишь один признак."
   ]
  },
  {
   "cell_type": "code",
   "execution_count": 14,
   "metadata": {
    "ExecuteTime": {
     "end_time": "2019-10-18T06:48:36.669083Z",
     "start_time": "2019-10-18T06:48:36.662072Z"
    },
    "id": "wZ3Q61ZGPr7u"
   },
   "outputs": [],
   "source": [
    "# YOUR CODE HERE\n",
    "X_train_ = np.zeros((X_train.shape[0], 2))\n",
    "X_train_[:, 0] = 1\n",
    "X_train_[:, 1] = X_train[:,0]\n",
    "###\n",
    "\n",
    "W_new = least_squares_weights(X_train_, Y_train)\n",
    "Y_train_predict_new = least_squares_predict(W_new, X_train_)\n",
    "# print(X_train_)\n",
    "\n",
    "assert round(R_square(y_true=Y_train, y_predict=Y_train_predict_new), 3) >= .95, 'можно лучше'\n",
    "assert X_train_.shape[1] == 2, 'должно быть 2 признака'"
   ]
  },
  {
   "cell_type": "markdown",
   "metadata": {
    "id": "3eM0fI22Pr7v"
   },
   "source": [
    "### Полиномиальная регрессия"
   ]
  },
  {
   "cell_type": "markdown",
   "metadata": {
    "id": "ywIF4ZSMPr7w"
   },
   "source": [
    "Ленейная модель требует линейную зависимость между целевой и объясняющей переменной, что часто нет так. Однако можно \"скривить\" предсказание.\n",
    "\n",
    "<font size=3 >__Немного теории__</font>\n",
    "\n",
    "Что бы __увеличить сложность модели__ нам необходимо увеличить сложность признаков. В общем случае мы переходим от __линейного уровнения к полиному__:\n",
    "\n",
    "$$Y=w_0+w_1x \\Rightarrow Y=w_0+w_1x+w_2x^2$$\n",
    "\n",
    "Это __все еще линейная модель__ так как веса все еще линейны. $x^2$ всего лишь признак описывающий квадратичную зависимость $y$ от $x$.\n",
    "\n",
    "В целом, не обязательно нужно брать полиномы. Можно накладывать любую нелинейную функцию, а также функции от нескольких переменных, если у нас более одной описывающей переменной.\n",
    "\n",
    "<font size=3, color=\"green\">__Задание №4: Полиномиальная регрессия__</font>\n",
    "\n",
    "В данном задании вы увидите поведение предсказания и метрик качества в зависимости от степени полинома. Исходная функция предсказания примет следующий вид:\n",
    "   \n",
    "   $$Y=w_0+\\sum_{j=1}^nw^j_1x$$\n",
    "\n",
    "__Цель__: Реализовать __код или функцию__, которая будет вызываться в уже написанном цикле, принимать на вход размер полинома (значение из degree_variance) и значения $X$ и возвращать пространство соответствующего размера.\n",
    "\n",
    "\n",
    "__!!ВАЖНО!!__: \n",
    "- большая часть кода уже написана, не стоит ее менять\n",
    "- не забывайте $w_0$ (bais вектор), сделать это необхомо посредством добавления фиктивной переменной"
   ]
  },
  {
   "cell_type": "code",
   "execution_count": 15,
   "metadata": {
    "ExecuteTime": {
     "end_time": "2019-10-18T07:31:28.953931Z",
     "start_time": "2019-10-18T07:31:28.949934Z"
    },
    "colab": {
     "base_uri": "https://localhost:8080/",
     "height": 1000
    },
    "id": "Yysc7BtaPr7w",
    "outputId": "bec3b8bd-74ba-43e1-e32b-8eb04c1006c7"
   },
   "outputs": [
    {
     "data": {
      "image/png": "[encoded data removed]",
      "text/plain": [
       "<Figure size 1440x1800 with 5 Axes>"
      ]
     },
     "metadata": {
      "needs_background": "light"
     },
     "output_type": "display_data"
    }
   ],
   "source": [
    "degree_variance = range(1,24, 2) \n",
    "train_errors, test_errors = {}, {}\n",
    "\n",
    "# PLOT SET\n",
    "fig = plt.figure(figsize=(20, 25))\n",
    "colors = [plt.get_cmap('gist_rainbow')(i) for i in np.linspace(0,1,len(degree_variance))]\n",
    "\n",
    "ax1 = plt.subplot(311)\n",
    "ax1.plot(data['x_train'], data['manifold'], 'b--', alpha=0.5, label='manifold')\n",
    "ax1.scatter(data['x_train'], data['y_train'], 40, 'g', 'o', alpha=0.8, label='train_data')\n",
    "ax1.set_xlim(data['x_train'].min() - margin, data['x_train'].max() + margin)\n",
    "ax1.set_ylim(data['y_train'].min() - margin, data['y_train'].max() + margin)\n",
    "\n",
    "\n",
    "for i, v in enumerate(degree_variance):\n",
    " \n",
    "    # TRAIN\n",
    "    # X_train = # YOUR CODE HERE\n",
    "\n",
    "    X_train = np.zeros((data['x_train'].shape[0], v + 1))\n",
    "    for j in range(v + 1):\n",
    "        X_train[:, j] = (data['x_train'])**j\n",
    "    ###\n",
    "\n",
    "    assert X_train.shape[1] == 1+v, 'Количество признаков определяется как степень полинома + basi'\n",
    "    \n",
    "    \n",
    "    Y_train = data['y_train']\n",
    "\n",
    "    # PREDICT\n",
    "    W = least_squares_weights(X_train, Y_train)\n",
    "    Y_train_predict = least_squares_predict(W, X_train)\n",
    "    \n",
    "    # PLOT SOLUTION\n",
    "    ax1.plot(data['x_train'], Y_train_predict, color = colors[i], alpha=0.8, label='degree: {}'.format(v))   \n",
    "    ax1.legend(loc='upper left', prop={'size': 12})\n",
    "    \n",
    "    # ERRORS\n",
    "    train_errors = merge_two_dicts(train_errors, all_metric(Y_train, Y_train_predict))\n",
    "\n",
    "# PLOT ERRORS\n",
    "for i, key in enumerate(train_errors.keys()):\n",
    "    plt.subplot(3,2,i+3)\n",
    "    plt.plot(degree_variance, train_errors[key], 'go-', alpha=0.5, label='train {}'.format(key));\n",
    "    plt.legend()\n"
   ]
  },
  {
   "cell_type": "code",
   "execution_count": 16,
   "metadata": {
    "ExecuteTime": {
     "end_time": "2019-10-18T06:48:39.717243Z",
     "start_time": "2019-10-18T06:48:39.712245Z"
    },
    "colab": {
     "base_uri": "https://localhost:8080/",
     "height": 203
    },
    "id": "xnrEMi-ePr7x",
    "outputId": "94ff05a8-cd3c-43c5-af49-9aeb906ad9f5"
   },
   "outputs": [],
   "source": [
    "assert len(train_errors['MAE']) == 12, 'степеней полинома должно быть 12 как указано в коде'\n",
    "assert sum(map(lambda i: train_errors['R_square'][i]>train_errors['R_square'][i-1], range(1, 12))) == 10, 'на каждой итерации, кроме последней, значение метрики должно расти по сравнению с предыдущей'"
   ]
  },
  {
   "cell_type": "markdown",
   "metadata": {
    "id": "uYabWFa_Pr7x"
   },
   "source": [
    "## Многомерный случай"
   ]
  },
  {
   "cell_type": "markdown",
   "metadata": {
    "id": "CJseKW04Pr7x"
   },
   "source": [
    "Далее будем работать с новыми данными. Теперь у нас 15 описывающих показателей.\n",
    "\n",
    "__!!ВАЖНО!!__: Добавлять bias не нужно. В данных уже есть переменная $X_{14}=1$, вес при которой, будет отвечать за bias"
   ]
  },
  {
   "cell_type": "code",
   "execution_count": 17,
   "metadata": {
    "ExecuteTime": {
     "end_time": "2019-10-18T06:48:41.036485Z",
     "start_time": "2019-10-18T06:48:40.726663Z"
    },
    "code_folding": [],
    "colab": {
     "base_uri": "https://localhost:8080/"
    },
    "id": "CQBr_muNPr7y",
    "outputId": "757a36fe-057c-403b-8de3-b80d9ef97bfb"
   },
   "outputs": [
    {
     "data": {
      "text/plain": [
       "((7000, 15), (3000, 15))"
      ]
     },
     "execution_count": 17,
     "metadata": {},
     "output_type": "execute_result"
    }
   ],
   "source": [
    "np.random.seed(0) \n",
    "\n",
    "X_train, Y_train, X_test, Y_test = read_task_2_3('./task_2.csv')\n",
    "\n",
    "X_train.shape, X_test.shape"
   ]
  },
  {
   "cell_type": "markdown",
   "metadata": {
    "id": "l0LqlhEJPr7y"
   },
   "source": [
    "### линейно зависимые признаки"
   ]
  },
  {
   "cell_type": "markdown",
   "metadata": {
    "ExecuteTime": {
     "end_time": "2019-10-16T09:35:48.643271Z",
     "start_time": "2019-10-16T09:35:48.638259Z"
    },
    "id": "H8L9c6rvPr7z"
   },
   "source": [
    "Воспользуемся функциями из предыдущих заданий и посчитаем веса и метрики для многомерного случая"
   ]
  },
  {
   "cell_type": "code",
   "execution_count": 18,
   "metadata": {
    "ExecuteTime": {
     "end_time": "2019-10-18T06:48:42.286768Z",
     "start_time": "2019-10-18T06:48:42.271774Z"
    },
    "colab": {
     "base_uri": "https://localhost:8080/"
    },
    "id": "d8Zk31_3Pr7z",
    "outputId": "2f42cf10-f50a-492f-ef7c-53c45996396a"
   },
   "outputs": [
    {
     "name": "stdout",
     "output_type": "stream",
     "text": [
      "[-1949.38, -0.05, 1299.66, -8.19, 90.0, 0.0, 16.23, 23.23, 91.42, 99.11, 0.0, -20.06, 10.64, 6.02, 0.29]\n",
      "{'MAE': [5.585287892376245], 'MSE': [49.376522168598086], 'RMSE': [7.0268429730995186], 'R_square': [0.998183386306156]}\n",
      "{'MAE': [5.6864633857595415], 'MSE': [50.48895088937429], 'RMSE': [7.105557746537163], 'R_square': [0.9980554950001325]}\n"
     ]
    }
   ],
   "source": [
    "W = least_squares_weights(X_train[:,:], Y_train)\n",
    "\n",
    "Y_train_predict = least_squares_predict(W, X_train[:,:])\n",
    "Y_test_predict  = least_squares_predict(W, X_test[:,:])\n",
    "\n",
    "\n",
    "# все ОК аналитическое решение работает \n",
    "print([round(i, 2) for i in W])\n",
    "print(all_metric(Y_train, Y_train_predict))\n",
    "print(all_metric(Y_test, Y_test_predict))"
   ]
  },
  {
   "cell_type": "markdown",
   "metadata": {
    "id": "pECchcJTPr7z"
   },
   "source": [
    "$R^2$ почти идеальный, но, кажется, что остальные метрики могут быть лучше"
   ]
  },
  {
   "cell_type": "markdown",
   "metadata": {
    "id": "cTEDz_gLPr7z"
   },
   "source": [
    "Признаки не должны быть скоррелированны $-$ одно из необходимых условий для получения оптимальных несмещенных оценок c помощью МНК. Напомню, что данное требование вытекает из [теоремы Гаусса - Маркова](https://ru.wikipedia.org/wiki/Теорема_Гаусса_—_Маркова).\n",
    "\n",
    "Давайте проверим, выполняется ли это условие в нашем случае. Рассчитаем значение [корреляции Пирсона](https://en.wikipedia.org/wiki/Pearson_correlation_coefficient) для каждой пары признаков.\n",
    "\n",
    "$$\\rho_{x_ix_j}=\\frac{\\sum_{k=1}^n(x_i-\\bar{x_i})(x_j-\\bar{x_j})}{\\sqrt{\\sum_{k=1}^n(x_i-\\bar{x_i})^2\\sum_{k=1}^n(x_j-\\bar{x_j})^2}}$$\n",
    "\n",
    "__где__,\n",
    "\n",
    "- $i, j$ $-$ индексы признаков\n",
    "- $k$ $-$ индекс объекта\n",
    "\n",
    "<font size=3, color=\"green\">__Задание №5: Корреляция__</font>\n",
    "\n",
    "Релизовать функцию __correlation_matrix__:\n",
    "\n",
    "- __вход:__ матрица объекты-признаки ($X$) размером $m\\times n$, где $m -$ количество объектов; $n -$ количество признаков\n",
    "- __выход:__ матрица, заполненная значениями корреляции Пирсона\n",
    "    - матрица квадратная\n",
    "    - симметричная матрица\n",
    "    - значение элемента выходной матрицы $a_{ij} - $ значение корреляции Пирсона $i$-ом и $j$-ом признаком \n",
    "    - корреляция не может быть расчитана, когда один из признаков константный\n",
    "   \n",
    "__!!ВАЖНО!!__: не стоит реализовывать функцию \"в лоб\" поищите ответ в numpy"
   ]
  },
  {
   "cell_type": "code",
   "execution_count": 19,
   "metadata": {
    "ExecuteTime": {
     "end_time": "2019-10-18T07:33:02.986898Z",
     "start_time": "2019-10-18T07:33:02.983885Z"
    },
    "code_folding": [],
    "colab": {
     "base_uri": "https://localhost:8080/",
     "height": 238
    },
    "id": "hhRaMw39Pr70",
    "outputId": "f0548407-b8e8-4cdd-ef15-8158e03a3e60"
   },
   "outputs": [
    {
     "data": {
      "image/png": "[encoded data removed]",
      "text/plain": [
       "<Figure size 576x576 with 2 Axes>"
      ]
     },
     "metadata": {
      "needs_background": "light"
     },
     "output_type": "display_data"
    }
   ],
   "source": [
    "def correlation_matrix(x):\n",
    "    # YOUR CODE HERE\n",
    "    x_new = x[:, :-1]\n",
    "    result = np.corrcoef(x_new, rowvar=False)\n",
    "    ###\n",
    "    return result\n",
    "\n",
    "corr_matrix = correlation_matrix(X_train) \n",
    "\n",
    "#TESTS\n",
    "assert type(corr_matrix) == np.ndarray, 'Возвращается не корректный тип'\n",
    "assert corr_matrix.shape[0] == corr_matrix.shape[1], 'Матрица не квадратная'\n",
    "assert corr_matrix.shape[0] == 14, 'Выбраны не все необходимы показатели для матрицы корреляций или вы не убрали показатель, отвечающий за bais'\n",
    "assert sum(map(lambda n: corr_matrix[n,n], range(0, corr_matrix.shape[0]))) == 14, 'Не диагональная матрица'\n",
    "assert sum(map(lambda n, k: round(corr_matrix[n,k], 3)==round(corr_matrix[k,n],3), \n",
    "                   range(0, corr_matrix.shape[0]), \n",
    "                   np.random.randint(14, size=14))), 'Матрица не симметрична'\n",
    "\n",
    "# Визуализация матрицы\n",
    "plot_correlation_matrix(corr_matrix)"
   ]
  },
  {
   "cell_type": "markdown",
   "metadata": {
    "id": "Mry4mtOOPr70"
   },
   "source": [
    "Как видно из графика выше, некоторые признаки сильно скоррелированы друг с другом. \n",
    "\n",
    "<font size=3, color=\"green\">__Задание №5.1: очистить лишнее__</font>\n",
    "\n",
    "Создайте 2 новые переменные __X_train_new__ и __X_test_new__ из __X_train__ и __X_test__, которые будут содержать только некоррелированные признаки. И обновите веса.\n",
    "\n",
    "__Результат:__ обновленные значения метрик на train и test датасетах"
   ]
  },
  {
   "cell_type": "code",
   "execution_count": 20,
   "metadata": {
    "ExecuteTime": {
     "end_time": "2019-10-18T06:48:46.352448Z",
     "start_time": "2019-10-18T06:48:46.338437Z"
    },
    "id": "Ntl_YNUVPr70"
   },
   "outputs": [],
   "source": [
    "X_train_new = X_train[:, [0, 1, 3, 4, 5, 6, 7, 8, 9, 10]] # YOUR CODE HERE\n",
    "X_test_new  = X_test[:, [0, 1, 3, 4, 5, 6, 7, 8, 9, 10]] # YOUR CODE HERE\n",
    "\n",
    "\n",
    "# TESTS\n",
    "assert type(X_train_new) == np.ndarray, 'Возвращается не корректный тип'\n",
    "assert type(X_test_new) == np.ndarray, 'Возвращается не корректный тип'\n",
    "assert X_test_new.shape[1] == X_train_new.shape[1], 'Количество признаков в train и test различно'\n",
    "assert X_test_new.shape[1] == 10, 'Количество признаков неверно'\n",
    "\n",
    "\n",
    "# Обновление весов\n",
    "W = least_squares_weights(X_train_new[:,:], Y_train)\n",
    "#print(W)\n",
    "\n",
    "Y_train_predict = least_squares_predict(W, X_train_new[:,:])\n",
    "Y_test_predict  = least_squares_predict(W, X_test_new[:,:])\n",
    "\n",
    "# TESTS\n",
    "assert len(W) == 10, 'Количество весов неверно'\n",
    "assert R_square(Y_train, Y_train_predict) > .98, 'Что-то пошло не так, метрики должны быть выше'\n",
    "assert R_square(Y_test, Y_test_predict) > .98, 'Что-то пошло не так, метрики должны быть выше'"
   ]
  },
  {
   "cell_type": "markdown",
   "metadata": {
    "id": "204q3m7cPr71"
   },
   "source": [
    "### T-test"
   ]
  },
  {
   "cell_type": "markdown",
   "metadata": {
    "id": "t9fKz9B5Pr71"
   },
   "source": [
    "__Вектор оценок весов $w$ является случайной величиной.__ \n",
    "Данный факт следует из аналитического решения $\\left({X}^{\\text{T}} {X}\\right)^{-1} {X}^{\\text{T}} {y}$, где $y$ так же случайная величина.\n",
    "\n",
    "Вывод этого утверждения довольно неприятен, и был разобран на лекции. Сейчас важно, что оценки коэффициентов $w_i$ имеют асимптотически нормальное распределение. \n",
    "\n",
    "------\n",
    "\n",
    "Данное свойство позволяет проверять гипотезу о равенстве коэффициента нулю.\n",
    "\n",
    "$$H_0: w_i=0 \\\\ H_1: w_i\\not=0$$\n",
    "\n",
    "__Статистика $t$__ имеет [распределение Стьюдента](https://ru.wikipedia.org/wiki/%D0%A0%D0%B0%D1%81%D0%BF%D1%80%D0%B5%D0%B4%D0%B5%D0%BB%D0%B5%D0%BD%D0%B8%D0%B5_%D0%A1%D1%82%D1%8C%D1%8E%D0%B4%D0%B5%D0%BD%D1%82%D0%B0) с $n-k$ степенями свободы при справедливости $H_0$:\n",
    "\n",
    "$$t=\\frac{w_i}{se(w_i)}$$\n",
    "\n",
    "__где__, \n",
    "\n",
    "- $n$ $-$ число объектов\n",
    "- $k$ $-$ число признаков\n",
    "- $se(w_i)$ $-$ стандартная ошибка $w_i$\n",
    "\n",
    "значения $se(w_i)$ - корень из диагональных элементов ковариационной матрицы $\\hat{Var}(w|X)$\n",
    "\n",
    "$$\\hat{Var}(w|X)=\\hat\\sigma^2({X}^{\\text{T}} {X})^{-1}$$\n",
    "\n",
    "__где__, $\\hat\\sigma^2$ является оценкой истинного значиния $\\sigma^2$ и вычисляется\n",
    "\n",
    "$$\\hat\\sigma^2=\\frac{RSS}{n-k}=\\frac{\\sum_{i=1}^n(y_i-wx_i)^2}{n-k}$$\n",
    "\n",
    "Таким образом, мы получили одновыборочный t-критерий Стьюдента. $\\text{p_value}$ в данном случае вычисляется как:\n",
    "\n",
    "$$\\text{p_value}=2(1-cdf(t, df=n-k))$$\n",
    "\n",
    "__где__,\n",
    "$cdf(t, df=n-k)$ $-$ __значение функции распределения__ Стьюдента c $n-k$ степенями свободы в точке $t$.\n",
    "\n",
    "________________\n",
    "\n",
    "Большинство реализаций данного метода сами расчитывают значения $t$-статистики и $\\text{p_value}$. Пример ниже:"
   ]
  },
  {
   "cell_type": "code",
   "execution_count": 21,
   "metadata": {
    "ExecuteTime": {
     "end_time": "2019-10-18T06:48:47.996485Z",
     "start_time": "2019-10-18T06:48:47.938519Z"
    },
    "id": "DzMoWgUlPr72"
   },
   "outputs": [],
   "source": [
    "from statsmodels.regression.linear_model import OLS\n",
    "model = OLS(Y_train,X_train_new[:,:], random_seed = 2)\n",
    "results = model.fit()"
   ]
  },
  {
   "cell_type": "code",
   "execution_count": 22,
   "metadata": {
    "ExecuteTime": {
     "end_time": "2019-10-18T06:48:48.290329Z",
     "start_time": "2019-10-18T06:48:48.284319Z"
    },
    "id": "K07zCZyDPr72"
   },
   "outputs": [
    {
     "name": "stdout",
     "output_type": "stream",
     "text": [
      "W OLS  [-0.005, 0.001, -0.001, 90.084, 0.008, 8.285, 11.354, 91.419, 99.104, -0.002]\n",
      "t-stat [-1.505, 0.411, -0.435, 25514.753, 2.277, 7809.592, 3240.363, 25483.605, 27776.828, -0.609]\n",
      "pvalue [0.132, 0.681, 0.664, 0.0, 0.023, 0.0, 0.0, 0.0, 0.0, 0.542]\n"
     ]
    }
   ],
   "source": [
    "print('W OLS ', [round(i, 3) for i in results.params])\n",
    "print('t-stat', [round(i, 3) for i in results.tvalues])\n",
    "print('pvalue', [round(i, 3) for i in results.pvalues])"
   ]
  },
  {
   "cell_type": "markdown",
   "metadata": {
    "ExecuteTime": {
     "end_time": "2019-10-16T07:37:22.645870Z",
     "start_time": "2019-10-16T07:37:22.634870Z"
    },
    "id": "yRsgtE0MPr73"
   },
   "source": [
    "Можете сверить значение весов, которые вы получили в предудыщих заданиях, с результатом работы матода OLS из пакета statsmodels. Если с точностью до 3-го знака все хорошо, то двигайся дальше, если нет, то что-то пошло не так.\n",
    "\n",
    "<font size=3, color=\"green\">__Задание №6: $\\text{p_value}$__</font>\n",
    "\n",
    "__В данном задании вам необходимо реализовать 3 функции и дать ответ на один вопрос:__\n",
    "- __variance_matrix__: расчет ковариационной матрицы. \n",
    "    - _Вход_: признаковое пространство $X$, истинные значения меток $\\text{y_true}$ и предсказанные значения $\\text{y_predict}$\n",
    "    - _Выход_: ковариационная матрица\n",
    "    \n",
    "    \n",
    "- __t_values__: расчет $t$-статистики\n",
    "    - _Вход_: массив весов $w$ и ковариационная матрица $\\text{X_variance}$\n",
    "    - _выход_: массив значений $t$-статистики для каждого из весов $w$\n",
    "    \n",
    "    \n",
    "- __p_values__: расчет $\\text{p_value}$\n",
    "    - _Вход_: массив значений $t$-статистики для каждого из весов $w$ и количество степеней свободы $df$\n",
    "    - _выход_: массив значений $\\text{p_value}$-статистики для каждого из весов $w$\n",
    "    \n",
    "    \n",
    "- Для скольких весов отвергается $H_0$ на уровне значимости $\\alpha=0.05$?\n",
    "    - Первый кто реализует все функции и скажет верный ответ, получит дополнительные баллы\n",
    "    \n",
    "__!!ВАЖНО!!__\n",
    "\n",
    "- Задание считается решенным, если все три функции работают корректно\n",
    "- Не используйте в этих функциях лишние циклы,  иначе они будут вычислительно неэффективными"
   ]
  },
  {
   "cell_type": "code",
   "execution_count": 23,
   "metadata": {
    "ExecuteTime": {
     "end_time": "2019-10-18T06:48:49.586625Z",
     "start_time": "2019-10-18T06:48:49.575633Z"
    },
    "code_folding": [],
    "id": "swmoSKSZPr73"
   },
   "outputs": [],
   "source": [
    "def variance_matrix(X, y_true, y_predict):\n",
    "    # YOUR CODE HERE\n",
    "    sig_sq = np.sum((y_true - y_predict)**2) / (X.shape[0] - X.shape[1])\n",
    "    variance = np.dot(sig_sq, np.linalg.inv(np.dot(X.T, X)))\n",
    "    ###\n",
    "    return variance\n",
    "\n",
    "vcov =  variance_matrix (X_train_new[:,:], Y_train, Y_train_predict)\n",
    "\n",
    "#TESTS\n",
    "assert type(vcov) == np.ndarray, 'Возвращается не корректный тип'\n",
    "assert vcov.shape[0] == vcov.shape[1], 'Матрица не квадратная'\n",
    "assert vcov.shape[0] == W.shape[0], 'Матрица не верного размера'\n",
    "assert np.round(sum(map(lambda n: vcov[n,n], range(0, vcov.shape[0]))), 5) == 0.00011, 'Матрица рассчитана не корректно'\n",
    "# проверка на необходимые библиотеки"
   ]
  },
  {
   "cell_type": "code",
   "execution_count": 24,
   "metadata": {
    "ExecuteTime": {
     "end_time": "2019-10-18T06:48:50.086347Z",
     "start_time": "2019-10-18T06:48:50.081341Z"
    },
    "code_folding": [],
    "id": "Y6rRcyX-Pr73"
   },
   "outputs": [],
   "source": [
    "def t_values(w, X_variance):\n",
    "    # YOUR CODE HERE\n",
    "    result = w / np.diagonal(X_variance)**0.5\n",
    "    ###\n",
    "    return result\n",
    "\n",
    "t = t_values(W, vcov) \n",
    "\n",
    "assert type(t) == np.ndarray, 'Возвращается не корректный тип'\n",
    "assert t.shape == W.shape, 'Размерность массива весов и массива t-статистик не совпадает'\n",
    "assert [round(i, 3) for i in t] == [round(i, 3) for i in results.tvalues], 'Результат рассчитан некорректно'\n",
    "# проверка на необходимые билиотеки"
   ]
  },
  {
   "cell_type": "code",
   "execution_count": 25,
   "metadata": {
    "ExecuteTime": {
     "end_time": "2019-10-18T06:48:50.653035Z",
     "start_time": "2019-10-18T06:48:50.644030Z"
    },
    "code_folding": [],
    "id": "Hp3IPpaBPr74"
   },
   "outputs": [],
   "source": [
    "from scipy.stats import t as te\n",
    "def p_values(t, df):\n",
    "    # YOUR CODE HERE\n",
    "    result = 2 * (1 - te.cdf(np.abs(t), df = df))\n",
    "    return result\n",
    "\n",
    "p = p_values(t, X_train_new.shape[0]-X_train_new.shape[1])\n",
    "\n",
    "assert type(p) == np.ndarray, 'Возвращается не корректный тип'\n",
    "assert p.shape == W.shape, 'Размерность массива весов и массива p_value не совпадает'\n",
    "assert [round(i, 3) for i in p] == [round(i, 3) for i in results.pvalues], 'Результат рассчитан некорректно'"
   ]
  },
  {
   "cell_type": "markdown",
   "metadata": {
    "id": "Cvn23yiWPr74"
   },
   "source": [
    "### Gradient descent"
   ]
  },
  {
   "cell_type": "markdown",
   "metadata": {
    "id": "aMThoPv_Pr74"
   },
   "source": [
    "<font size=3>__Немного теории__</font>\n",
    "\n",
    "У классического аналитического решения есть ряд недостатков:\n",
    "1. расчет псевдообратной матрицы является довольно сложной операцией и работает долго на больших объемах данных\n",
    "2. данный метод требует выполнения уловий [теоремы Гаусса - Маркова](https://ru.wikipedia.org/wiki/Теорема_Гаусса_—_Маркова) иначе оценки будут смещенными.\n",
    "\n",
    "__Градиентный спуск__\n",
    "\n",
    "Способ решить задачу численно. Нивелирует недостатки аналитического решения, однако не дает возможности вычислять значимость весов\\коэффициентов регрессии.\n",
    "\n",
    "В общем случае в процессе обучения, с помощью градиентного спуска, веса обновляются следующим образом:\n",
    "\n",
    "$$w^{n+1}_i=w^{n}_i-\\gamma\\bigtriangledown L(w^{n}_i)$$\n",
    "\n",
    "__где__,\n",
    "\n",
    "- $n$ $-$ индекc итерации\n",
    "- $i$ $-$ индекc признака\n",
    "- $\\gamma$ $-$ величина шага градиентного спуска\n",
    "- $\\bigtriangledown F(w^{n}_i)$ $-$ значение [градиентда](https://ru.wikipedia.org/wiki/%D0%93%D1%80%D0%B0%D0%B4%D0%B8%D0%B5%D0%BD%D1%82) функции потерь для $i$-го веса на шаге $n$\n",
    "\n",
    "__Недостаток градиентного спуска:__ На каждой итерации $n$ необходимо рассчитывать значение градиента для каждого объекта выборки. __Стохастический градиентный спуск__ является альтернативой. Единственное отличительное свойство: на каждой итерации градиент рассчитывается только на одном объекте, иногда на нескольких объектах.\n",
    "\n",
    "<font size=3, color=\"green\">__Задание №:7 Градиентный спуск__</font>\n",
    "\n",
    "__Цель:__ Релизовать метод стахостического градиентного спуска для решения задачи линейной регрессии с квадратичной функцией потерь и отследить процесс обучения с помощью визуализации.\n",
    "\n",
    "$$ L(y,X,w)=\\frac{1}{n} \\sum_{i=1}^n (y_i-Xw)^2$$\n",
    "\n",
    "Для решения этой задачи понадобится две функции, одна из которых уже полностью реализована\n",
    "\n",
    "функция __fit уже реализована__ и отвечает за:\n",
    "1. первичную инициализацию весов\n",
    "2. итерационное обновление весов (__iters__ - количество итераций)\n",
    "    - семплирует __batch_size__ элементов из исходного множества объектов. Обратите внимание, что объектов > 1 на каждой итерации\n",
    "    - вызывает функцию расчета градиента для заданных объектов (__stochastic_gradient_step__)\n",
    "3. визуализацию обучения (__plot__=True)\n",
    "\n",
    "__Вход__: матрица объект-признак $X$ и истинные значения $y$; значения весов, полученных аналитическим методом  $\\text{analytical_w}$\n",
    "\n",
    "__Выход__: значения весов $w$ на последней итерации стохастического градиентного спуска и значения весов при аналитическом решении\n",
    "_________\n",
    "\n",
    "__Вам необходимо:__ реализовать функцию __stochastic_gradient_step__, цель которой рассчитать значение градиента по каждому из весов на заданных объектах.\n",
    "\n",
    "__Вход:__\n",
    "\n",
    "- $w$ $-$ значения весов с предыдущего шага\n",
    "- $X$ $-$ матрица объект-признак, размера ($\\text{batch_size}$, $N$). $N$ $-$ число признаков\n",
    "- $y$ $-$ вектор истинных значений $y$ длины $\\text{batch_size}$\n",
    "\n",
    "__Выход:__ вектор значений градиента для каждого из весов\n",
    "\n"
   ]
  },
  {
   "cell_type": "code",
   "execution_count": 26,
   "metadata": {
    "ExecuteTime": {
     "end_time": "2019-10-18T07:35:22.719660Z",
     "start_time": "2019-10-18T07:35:22.714649Z"
    },
    "code_folding": [
     9
    ],
    "id": "gIIs76DvPr75"
   },
   "outputs": [
    {
     "data": {
      "application/javascript": [
       "/* Put everything inside the global mpl namespace */\n",
       "/* global mpl */\n",
       "window.mpl = {};\n",
       "\n",
       "mpl.get_websocket_type = function () {\n",
       "    if (typeof WebSocket !== 'undefined') {\n",
       "        return WebSocket;\n",
       "    } else if (typeof MozWebSocket !== 'undefined') {\n",
       "        return MozWebSocket;\n",
       "    } else {\n",
       "        alert(\n",
       "            'Your browser does not have WebSocket support. ' +\n",
       "                'Please try Chrome, Safari or Firefox ≥ 6. ' +\n",
       "                'Firefox 4 and 5 are also supported but you ' +\n",
       "                'have to enable WebSockets in about:config.'\n",
       "        );\n",
       "    }\n",
       "};\n",
       "\n",
       "mpl.figure = function (figure_id, websocket, ondownload, parent_element) {\n",
       "    this.id = figure_id;\n",
       "\n",
       "    this.ws = websocket;\n",
       "\n",
       "    this.supports_binary = this.ws.binaryType !== undefined;\n",
       "\n",
       "    if (!this.supports_binary) {\n",
       "        var warnings = document.getElementById('mpl-warnings');\n",
       "        if (warnings) {\n",
       "            warnings.style.display = 'block';\n",
       "            warnings.textContent =\n",
       "                'This browser does not support binary websocket messages. ' +\n",
       "                'Performance may be slow.';\n",
       "        }\n",
       "    }\n",
       "\n",
       "    this.imageObj = new Image();\n",
       "\n",
       "    this.context = undefined;\n",
       "    this.message = undefined;\n",
       "    this.canvas = undefined;\n",
       "    this.rubberband_canvas = undefined;\n",
       "    this.rubberband_context = undefined;\n",
       "    this.format_dropdown = undefined;\n",
       "\n",
       "    this.image_mode = 'full';\n",
       "\n",
       "    this.root = document.createElement('div');\n",
       "    this.root.setAttribute('style', 'display: inline-block');\n",
       "    this._root_extra_style(this.root);\n",
       "\n",
       "    parent_element.appendChild(this.root);\n",
       "\n",
       "    this._init_header(this);\n",
       "    this._init_canvas(this);\n",
       "    this._init_toolbar(this);\n",
       "\n",
       "    var fig = this;\n",
       "\n",
       "    this.waiting = false;\n",
       "\n",
       "    this.ws.onopen = function () {\n",
       "        fig.send_message('supports_binary', { value: fig.supports_binary });\n",
       "        fig.send_message('send_image_mode', {});\n",
       "        if (fig.ratio !== 1) {\n",
       "            fig.send_message('set_dpi_ratio', { dpi_ratio: fig.ratio });\n",
       "        }\n",
       "        fig.send_message('refresh', {});\n",
       "    };\n",
       "\n",
       "    this.imageObj.onload = function () {\n",
       "        if (fig.image_mode === 'full') {\n",
       "            // Full images could contain transparency (where diff images\n",
       "            // almost always do), so we need to clear the canvas so that\n",
       "            // there is no ghosting.\n",
       "            fig.context.clearRect(0, 0, fig.canvas.width, fig.canvas.height);\n",
       "        }\n",
       "        fig.context.drawImage(fig.imageObj, 0, 0);\n",
       "    };\n",
       "\n",
       "    this.imageObj.onunload = function () {\n",
       "        fig.ws.close();\n",
       "    };\n",
       "\n",
       "    this.ws.onmessage = this._make_on_message_function(this);\n",
       "\n",
       "    this.ondownload = ondownload;\n",
       "};\n",
       "\n",
       "mpl.figure.prototype._init_header = function () {\n",
       "    var titlebar = document.createElement('div');\n",
       "    titlebar.classList =\n",
       "        'ui-dialog-titlebar ui-widget-header ui-corner-all ui-helper-clearfix';\n",
       "    var titletext = document.createElement('div');\n",
       "    titletext.classList = 'ui-dialog-title';\n",
       "    titletext.setAttribute(\n",
       "        'style',\n",
       "        'width: 100%; text-align: center; padding: 3px;'\n",
       "    );\n",
       "    titlebar.appendChild(titletext);\n",
       "    this.root.appendChild(titlebar);\n",
       "    this.header = titletext;\n",
       "};\n",
       "\n",
       "mpl.figure.prototype._canvas_extra_style = function (_canvas_div) {};\n",
       "\n",
       "mpl.figure.prototype._root_extra_style = function (_canvas_div) {};\n",
       "\n",
       "mpl.figure.prototype._init_canvas = function () {\n",
       "    var fig = this;\n",
       "\n",
       "    var canvas_div = (this.canvas_div = document.createElement('div'));\n",
       "    canvas_div.setAttribute(\n",
       "        'style',\n",
       "        'border: 1px solid #ddd;' +\n",
       "            'box-sizing: content-box;' +\n",
       "            'clear: both;' +\n",
       "            'min-height: 1px;' +\n",
       "            'min-width: 1px;' +\n",
       "            'outline: 0;' +\n",
       "            'overflow: hidden;' +\n",
       "            'position: relative;' +\n",
       "            'resize: both;'\n",
       "    );\n",
       "\n",
       "    function on_keyboard_event_closure(name) {\n",
       "        return function (event) {\n",
       "            return fig.key_event(event, name);\n",
       "        };\n",
       "    }\n",
       "\n",
       "    canvas_div.addEventListener(\n",
       "        'keydown',\n",
       "        on_keyboard_event_closure('key_press')\n",
       "    );\n",
       "    canvas_div.addEventListener(\n",
       "        'keyup',\n",
       "        on_keyboard_event_closure('key_release')\n",
       "    );\n",
       "\n",
       "    this._canvas_extra_style(canvas_div);\n",
       "    this.root.appendChild(canvas_div);\n",
       "\n",
       "    var canvas = (this.canvas = document.createElement('canvas'));\n",
       "    canvas.classList.add('mpl-canvas');\n",
       "    canvas.setAttribute('style', 'box-sizing: content-box;');\n",
       "\n",
       "    this.context = canvas.getContext('2d');\n",
       "\n",
       "    var backingStore =\n",
       "        this.context.backingStorePixelRatio ||\n",
       "        this.context.webkitBackingStorePixelRatio ||\n",
       "        this.context.mozBackingStorePixelRatio ||\n",
       "        this.context.msBackingStorePixelRatio ||\n",
       "        this.context.oBackingStorePixelRatio ||\n",
       "        this.context.backingStorePixelRatio ||\n",
       "        1;\n",
       "\n",
       "    this.ratio = (window.devicePixelRatio || 1) / backingStore;\n",
       "\n",
       "    var rubberband_canvas = (this.rubberband_canvas = document.createElement(\n",
       "        'canvas'\n",
       "    ));\n",
       "    rubberband_canvas.setAttribute(\n",
       "        'style',\n",
       "        'box-sizing: content-box; position: absolute; left: 0; top: 0; z-index: 1;'\n",
       "    );\n",
       "\n",
       "    // Apply a ponyfill if ResizeObserver is not implemented by browser.\n",
       "    if (this.ResizeObserver === undefined) {\n",
       "        if (window.ResizeObserver !== undefined) {\n",
       "            this.ResizeObserver = window.ResizeObserver;\n",
       "        } else {\n",
       "            var obs = _JSXTOOLS_RESIZE_OBSERVER({});\n",
       "            this.ResizeObserver = obs.ResizeObserver;\n",
       "        }\n",
       "    }\n",
       "\n",
       "    this.resizeObserverInstance = new this.ResizeObserver(function (entries) {\n",
       "        var nentries = entries.length;\n",
       "        for (var i = 0; i < nentries; i++) {\n",
       "            var entry = entries[i];\n",
       "            var width, height;\n",
       "            if (entry.contentBoxSize) {\n",
       "                if (entry.contentBoxSize instanceof Array) {\n",
       "                    // Chrome 84 implements new version of spec.\n",
       "                    width = entry.contentBoxSize[0].inlineSize;\n",
       "                    height = entry.contentBoxSize[0].blockSize;\n",
       "                } else {\n",
       "                    // Firefox implements old version of spec.\n",
       "                    width = entry.contentBoxSize.inlineSize;\n",
       "                    height = entry.contentBoxSize.blockSize;\n",
       "                }\n",
       "            } else {\n",
       "                // Chrome <84 implements even older version of spec.\n",
       "                width = entry.contentRect.width;\n",
       "                height = entry.contentRect.height;\n",
       "            }\n",
       "\n",
       "            // Keep the size of the canvas and rubber band canvas in sync with\n",
       "            // the canvas container.\n",
       "            if (entry.devicePixelContentBoxSize) {\n",
       "                // Chrome 84 implements new version of spec.\n",
       "                canvas.setAttribute(\n",
       "                    'width',\n",
       "                    entry.devicePixelContentBoxSize[0].inlineSize\n",
       "                );\n",
       "                canvas.setAttribute(\n",
       "                    'height',\n",
       "                    entry.devicePixelContentBoxSize[0].blockSize\n",
       "                );\n",
       "            } else {\n",
       "                canvas.setAttribute('width', width * fig.ratio);\n",
       "                canvas.setAttribute('height', height * fig.ratio);\n",
       "            }\n",
       "            canvas.setAttribute(\n",
       "                'style',\n",
       "                'width: ' + width + 'px; height: ' + height + 'px;'\n",
       "            );\n",
       "\n",
       "            rubberband_canvas.setAttribute('width', width);\n",
       "            rubberband_canvas.setAttribute('height', height);\n",
       "\n",
       "            // And update the size in Python. We ignore the initial 0/0 size\n",
       "            // that occurs as the element is placed into the DOM, which should\n",
       "            // otherwise not happen due to the minimum size styling.\n",
       "            if (fig.ws.readyState == 1 && width != 0 && height != 0) {\n",
       "                fig.request_resize(width, height);\n",
       "            }\n",
       "        }\n",
       "    });\n",
       "    this.resizeObserverInstance.observe(canvas_div);\n",
       "\n",
       "    function on_mouse_event_closure(name) {\n",
       "        return function (event) {\n",
       "            return fig.mouse_event(event, name);\n",
       "        };\n",
       "    }\n",
       "\n",
       "    rubberband_canvas.addEventListener(\n",
       "        'mousedown',\n",
       "        on_mouse_event_closure('button_press')\n",
       "    );\n",
       "    rubberband_canvas.addEventListener(\n",
       "        'mouseup',\n",
       "        on_mouse_event_closure('button_release')\n",
       "    );\n",
       "    rubberband_canvas.addEventListener(\n",
       "        'dblclick',\n",
       "        on_mouse_event_closure('dblclick')\n",
       "    );\n",
       "    // Throttle sequential mouse events to 1 every 20ms.\n",
       "    rubberband_canvas.addEventListener(\n",
       "        'mousemove',\n",
       "        on_mouse_event_closure('motion_notify')\n",
       "    );\n",
       "\n",
       "    rubberband_canvas.addEventListener(\n",
       "        'mouseenter',\n",
       "        on_mouse_event_closure('figure_enter')\n",
       "    );\n",
       "    rubberband_canvas.addEventListener(\n",
       "        'mouseleave',\n",
       "        on_mouse_event_closure('figure_leave')\n",
       "    );\n",
       "\n",
       "    canvas_div.addEventListener('wheel', function (event) {\n",
       "        if (event.deltaY < 0) {\n",
       "            event.step = 1;\n",
       "        } else {\n",
       "            event.step = -1;\n",
       "        }\n",
       "        on_mouse_event_closure('scroll')(event);\n",
       "    });\n",
       "\n",
       "    canvas_div.appendChild(canvas);\n",
       "    canvas_div.appendChild(rubberband_canvas);\n",
       "\n",
       "    this.rubberband_context = rubberband_canvas.getContext('2d');\n",
       "    this.rubberband_context.strokeStyle = '#000000';\n",
       "\n",
       "    this._resize_canvas = function (width, height, forward) {\n",
       "        if (forward) {\n",
       "            canvas_div.style.width = width + 'px';\n",
       "            canvas_div.style.height = height + 'px';\n",
       "        }\n",
       "    };\n",
       "\n",
       "    // Disable right mouse context menu.\n",
       "    this.rubberband_canvas.addEventListener('contextmenu', function (_e) {\n",
       "        event.preventDefault();\n",
       "        return false;\n",
       "    });\n",
       "\n",
       "    function set_focus() {\n",
       "        canvas.focus();\n",
       "        canvas_div.focus();\n",
       "    }\n",
       "\n",
       "    window.setTimeout(set_focus, 100);\n",
       "};\n",
       "\n",
       "mpl.figure.prototype._init_toolbar = function () {\n",
       "    var fig = this;\n",
       "\n",
       "    var toolbar = document.createElement('div');\n",
       "    toolbar.classList = 'mpl-toolbar';\n",
       "    this.root.appendChild(toolbar);\n",
       "\n",
       "    function on_click_closure(name) {\n",
       "        return function (_event) {\n",
       "            return fig.toolbar_button_onclick(name);\n",
       "        };\n",
       "    }\n",
       "\n",
       "    function on_mouseover_closure(tooltip) {\n",
       "        return function (event) {\n",
       "            if (!event.currentTarget.disabled) {\n",
       "                return fig.toolbar_button_onmouseover(tooltip);\n",
       "            }\n",
       "        };\n",
       "    }\n",
       "\n",
       "    fig.buttons = {};\n",
       "    var buttonGroup = document.createElement('div');\n",
       "    buttonGroup.classList = 'mpl-button-group';\n",
       "    for (var toolbar_ind in mpl.toolbar_items) {\n",
       "        var name = mpl.toolbar_items[toolbar_ind][0];\n",
       "        var tooltip = mpl.toolbar_items[toolbar_ind][1];\n",
       "        var image = mpl.toolbar_items[toolbar_ind][2];\n",
       "        var method_name = mpl.toolbar_items[toolbar_ind][3];\n",
       "\n",
       "        if (!name) {\n",
       "            /* Instead of a spacer, we start a new button group. */\n",
       "            if (buttonGroup.hasChildNodes()) {\n",
       "                toolbar.appendChild(buttonGroup);\n",
       "            }\n",
       "            buttonGroup = document.createElement('div');\n",
       "            buttonGroup.classList = 'mpl-button-group';\n",
       "            continue;\n",
       "        }\n",
       "\n",
       "        var button = (fig.buttons[name] = document.createElement('button'));\n",
       "        button.classList = 'mpl-widget';\n",
       "        button.setAttribute('role', 'button');\n",
       "        button.setAttribute('aria-disabled', 'false');\n",
       "        button.addEventListener('click', on_click_closure(method_name));\n",
       "        button.addEventListener('mouseover', on_mouseover_closure(tooltip));\n",
       "\n",
       "        var icon_img = document.createElement('img');\n",
       "        icon_img.src = '_images/' + image + '.png';\n",
       "        icon_img.srcset = '_images/' + image + '_large.png 2x';\n",
       "        icon_img.alt = tooltip;\n",
       "        button.appendChild(icon_img);\n",
       "\n",
       "        buttonGroup.appendChild(button);\n",
       "    }\n",
       "\n",
       "    if (buttonGroup.hasChildNodes()) {\n",
       "        toolbar.appendChild(buttonGroup);\n",
       "    }\n",
       "\n",
       "    var fmt_picker = document.createElement('select');\n",
       "    fmt_picker.classList = 'mpl-widget';\n",
       "    toolbar.appendChild(fmt_picker);\n",
       "    this.format_dropdown = fmt_picker;\n",
       "\n",
       "    for (var ind in mpl.extensions) {\n",
       "        var fmt = mpl.extensions[ind];\n",
       "        var option = document.createElement('option');\n",
       "        option.selected = fmt === mpl.default_extension;\n",
       "        option.innerHTML = fmt;\n",
       "        fmt_picker.appendChild(option);\n",
       "    }\n",
       "\n",
       "    var status_bar = document.createElement('span');\n",
       "    status_bar.classList = 'mpl-message';\n",
       "    toolbar.appendChild(status_bar);\n",
       "    this.message = status_bar;\n",
       "};\n",
       "\n",
       "mpl.figure.prototype.request_resize = function (x_pixels, y_pixels) {\n",
       "    // Request matplotlib to resize the figure. Matplotlib will then trigger a resize in the client,\n",
       "    // which will in turn request a refresh of the image.\n",
       "    this.send_message('resize', { width: x_pixels, height: y_pixels });\n",
       "};\n",
       "\n",
       "mpl.figure.prototype.send_message = function (type, properties) {\n",
       "    properties['type'] = type;\n",
       "    properties['figure_id'] = this.id;\n",
       "    this.ws.send(JSON.stringify(properties));\n",
       "};\n",
       "\n",
       "mpl.figure.prototype.send_draw_message = function () {\n",
       "    if (!this.waiting) {\n",
       "        this.waiting = true;\n",
       "        this.ws.send(JSON.stringify({ type: 'draw', figure_id: this.id }));\n",
       "    }\n",
       "};\n",
       "\n",
       "mpl.figure.prototype.handle_save = function (fig, _msg) {\n",
       "    var format_dropdown = fig.format_dropdown;\n",
       "    var format = format_dropdown.options[format_dropdown.selectedIndex].value;\n",
       "    fig.ondownload(fig, format);\n",
       "};\n",
       "\n",
       "mpl.figure.prototype.handle_resize = function (fig, msg) {\n",
       "    var size = msg['size'];\n",
       "    if (size[0] !== fig.canvas.width || size[1] !== fig.canvas.height) {\n",
       "        fig._resize_canvas(size[0], size[1], msg['forward']);\n",
       "        fig.send_message('refresh', {});\n",
       "    }\n",
       "};\n",
       "\n",
       "mpl.figure.prototype.handle_rubberband = function (fig, msg) {\n",
       "    var x0 = msg['x0'] / fig.ratio;\n",
       "    var y0 = (fig.canvas.height - msg['y0']) / fig.ratio;\n",
       "    var x1 = msg['x1'] / fig.ratio;\n",
       "    var y1 = (fig.canvas.height - msg['y1']) / fig.ratio;\n",
       "    x0 = Math.floor(x0) + 0.5;\n",
       "    y0 = Math.floor(y0) + 0.5;\n",
       "    x1 = Math.floor(x1) + 0.5;\n",
       "    y1 = Math.floor(y1) + 0.5;\n",
       "    var min_x = Math.min(x0, x1);\n",
       "    var min_y = Math.min(y0, y1);\n",
       "    var width = Math.abs(x1 - x0);\n",
       "    var height = Math.abs(y1 - y0);\n",
       "\n",
       "    fig.rubberband_context.clearRect(\n",
       "        0,\n",
       "        0,\n",
       "        fig.canvas.width / fig.ratio,\n",
       "        fig.canvas.height / fig.ratio\n",
       "    );\n",
       "\n",
       "    fig.rubberband_context.strokeRect(min_x, min_y, width, height);\n",
       "};\n",
       "\n",
       "mpl.figure.prototype.handle_figure_label = function (fig, msg) {\n",
       "    // Updates the figure title.\n",
       "    fig.header.textContent = msg['label'];\n",
       "};\n",
       "\n",
       "mpl.figure.prototype.handle_cursor = function (fig, msg) {\n",
       "    var cursor = msg['cursor'];\n",
       "    switch (cursor) {\n",
       "        case 0:\n",
       "            cursor = 'pointer';\n",
       "            break;\n",
       "        case 1:\n",
       "            cursor = 'default';\n",
       "            break;\n",
       "        case 2:\n",
       "            cursor = 'crosshair';\n",
       "            break;\n",
       "        case 3:\n",
       "            cursor = 'move';\n",
       "            break;\n",
       "    }\n",
       "    fig.rubberband_canvas.style.cursor = cursor;\n",
       "};\n",
       "\n",
       "mpl.figure.prototype.handle_message = function (fig, msg) {\n",
       "    fig.message.textContent = msg['message'];\n",
       "};\n",
       "\n",
       "mpl.figure.prototype.handle_draw = function (fig, _msg) {\n",
       "    // Request the server to send over a new figure.\n",
       "    fig.send_draw_message();\n",
       "};\n",
       "\n",
       "mpl.figure.prototype.handle_image_mode = function (fig, msg) {\n",
       "    fig.image_mode = msg['mode'];\n",
       "};\n",
       "\n",
       "mpl.figure.prototype.handle_history_buttons = function (fig, msg) {\n",
       "    for (var key in msg) {\n",
       "        if (!(key in fig.buttons)) {\n",
       "            continue;\n",
       "        }\n",
       "        fig.buttons[key].disabled = !msg[key];\n",
       "        fig.buttons[key].setAttribute('aria-disabled', !msg[key]);\n",
       "    }\n",
       "};\n",
       "\n",
       "mpl.figure.prototype.handle_navigate_mode = function (fig, msg) {\n",
       "    if (msg['mode'] === 'PAN') {\n",
       "        fig.buttons['Pan'].classList.add('active');\n",
       "        fig.buttons['Zoom'].classList.remove('active');\n",
       "    } else if (msg['mode'] === 'ZOOM') {\n",
       "        fig.buttons['Pan'].classList.remove('active');\n",
       "        fig.buttons['Zoom'].classList.add('active');\n",
       "    } else {\n",
       "        fig.buttons['Pan'].classList.remove('active');\n",
       "        fig.buttons['Zoom'].classList.remove('active');\n",
       "    }\n",
       "};\n",
       "\n",
       "mpl.figure.prototype.updated_canvas_event = function () {\n",
       "    // Called whenever the canvas gets updated.\n",
       "    this.send_message('ack', {});\n",
       "};\n",
       "\n",
       "// A function to construct a web socket function for onmessage handling.\n",
       "// Called in the figure constructor.\n",
       "mpl.figure.prototype._make_on_message_function = function (fig) {\n",
       "    return function socket_on_message(evt) {\n",
       "        if (evt.data instanceof Blob) {\n",
       "            var img = evt.data;\n",
       "            if (img.type !== 'image/png') {\n",
       "                /* FIXME: We get \"Resource interpreted as Image but\n",
       "                 * transferred with MIME type text/plain:\" errors on\n",
       "                 * Chrome.  But how to set the MIME type?  It doesn't seem\n",
       "                 * to be part of the websocket stream */\n",
       "                img.type = 'image/png';\n",
       "            }\n",
       "\n",
       "            /* Free the memory for the previous frames */\n",
       "            if (fig.imageObj.src) {\n",
       "                (window.URL || window.webkitURL).revokeObjectURL(\n",
       "                    fig.imageObj.src\n",
       "                );\n",
       "            }\n",
       "\n",
       "            fig.imageObj.src = (window.URL || window.webkitURL).createObjectURL(\n",
       "                img\n",
       "            );\n",
       "            fig.updated_canvas_event();\n",
       "            fig.waiting = false;\n",
       "            return;\n",
       "        } else if (\n",
       "            typeof evt.data === 'string' &&\n",
       "            evt.data.slice(0, 21) === 'data:image/png;base64'\n",
       "        ) {\n",
       "            fig.imageObj.src = evt.data;\n",
       "            fig.updated_canvas_event();\n",
       "            fig.waiting = false;\n",
       "            return;\n",
       "        }\n",
       "\n",
       "        var msg = JSON.parse(evt.data);\n",
       "        var msg_type = msg['type'];\n",
       "\n",
       "        // Call the  \"handle_{type}\" callback, which takes\n",
       "        // the figure and JSON message as its only arguments.\n",
       "        try {\n",
       "            var callback = fig['handle_' + msg_type];\n",
       "        } catch (e) {\n",
       "            console.log(\n",
       "                \"No handler for the '\" + msg_type + \"' message type: \",\n",
       "                msg\n",
       "            );\n",
       "            return;\n",
       "        }\n",
       "\n",
       "        if (callback) {\n",
       "            try {\n",
       "                // console.log(\"Handling '\" + msg_type + \"' message: \", msg);\n",
       "                callback(fig, msg);\n",
       "            } catch (e) {\n",
       "                console.log(\n",
       "                    \"Exception inside the 'handler_\" + msg_type + \"' callback:\",\n",
       "                    e,\n",
       "                    e.stack,\n",
       "                    msg\n",
       "                );\n",
       "            }\n",
       "        }\n",
       "    };\n",
       "};\n",
       "\n",
       "// from http://stackoverflow.com/questions/1114465/getting-mouse-location-in-canvas\n",
       "mpl.findpos = function (e) {\n",
       "    //this section is from http://www.quirksmode.org/js/events_properties.html\n",
       "    var targ;\n",
       "    if (!e) {\n",
       "        e = window.event;\n",
       "    }\n",
       "    if (e.target) {\n",
       "        targ = e.target;\n",
       "    } else if (e.srcElement) {\n",
       "        targ = e.srcElement;\n",
       "    }\n",
       "    if (targ.nodeType === 3) {\n",
       "        // defeat Safari bug\n",
       "        targ = targ.parentNode;\n",
       "    }\n",
       "\n",
       "    // pageX,Y are the mouse positions relative to the document\n",
       "    var boundingRect = targ.getBoundingClientRect();\n",
       "    var x = e.pageX - (boundingRect.left + document.body.scrollLeft);\n",
       "    var y = e.pageY - (boundingRect.top + document.body.scrollTop);\n",
       "\n",
       "    return { x: x, y: y };\n",
       "};\n",
       "\n",
       "/*\n",
       " * return a copy of an object with only non-object keys\n",
       " * we need this to avoid circular references\n",
       " * http://stackoverflow.com/a/24161582/3208463\n",
       " */\n",
       "function simpleKeys(original) {\n",
       "    return Object.keys(original).reduce(function (obj, key) {\n",
       "        if (typeof original[key] !== 'object') {\n",
       "            obj[key] = original[key];\n",
       "        }\n",
       "        return obj;\n",
       "    }, {});\n",
       "}\n",
       "\n",
       "mpl.figure.prototype.mouse_event = function (event, name) {\n",
       "    var canvas_pos = mpl.findpos(event);\n",
       "\n",
       "    if (name === 'button_press') {\n",
       "        this.canvas.focus();\n",
       "        this.canvas_div.focus();\n",
       "    }\n",
       "\n",
       "    var x = canvas_pos.x * this.ratio;\n",
       "    var y = canvas_pos.y * this.ratio;\n",
       "\n",
       "    this.send_message(name, {\n",
       "        x: x,\n",
       "        y: y,\n",
       "        button: event.button,\n",
       "        step: event.step,\n",
       "        guiEvent: simpleKeys(event),\n",
       "    });\n",
       "\n",
       "    /* This prevents the web browser from automatically changing to\n",
       "     * the text insertion cursor when the button is pressed.  We want\n",
       "     * to control all of the cursor setting manually through the\n",
       "     * 'cursor' event from matplotlib */\n",
       "    event.preventDefault();\n",
       "    return false;\n",
       "};\n",
       "\n",
       "mpl.figure.prototype._key_event_extra = function (_event, _name) {\n",
       "    // Handle any extra behaviour associated with a key event\n",
       "};\n",
       "\n",
       "mpl.figure.prototype.key_event = function (event, name) {\n",
       "    // Prevent repeat events\n",
       "    if (name === 'key_press') {\n",
       "        if (event.key === this._key) {\n",
       "            return;\n",
       "        } else {\n",
       "            this._key = event.key;\n",
       "        }\n",
       "    }\n",
       "    if (name === 'key_release') {\n",
       "        this._key = null;\n",
       "    }\n",
       "\n",
       "    var value = '';\n",
       "    if (event.ctrlKey && event.key !== 'Control') {\n",
       "        value += 'ctrl+';\n",
       "    }\n",
       "    else if (event.altKey && event.key !== 'Alt') {\n",
       "        value += 'alt+';\n",
       "    }\n",
       "    else if (event.shiftKey && event.key !== 'Shift') {\n",
       "        value += 'shift+';\n",
       "    }\n",
       "\n",
       "    value += 'k' + event.key;\n",
       "\n",
       "    this._key_event_extra(event, name);\n",
       "\n",
       "    this.send_message(name, { key: value, guiEvent: simpleKeys(event) });\n",
       "    return false;\n",
       "};\n",
       "\n",
       "mpl.figure.prototype.toolbar_button_onclick = function (name) {\n",
       "    if (name === 'download') {\n",
       "        this.handle_save(this, null);\n",
       "    } else {\n",
       "        this.send_message('toolbar_button', { name: name });\n",
       "    }\n",
       "};\n",
       "\n",
       "mpl.figure.prototype.toolbar_button_onmouseover = function (tooltip) {\n",
       "    this.message.textContent = tooltip;\n",
       "};\n",
       "\n",
       "///////////////// REMAINING CONTENT GENERATED BY embed_js.py /////////////////\n",
       "// prettier-ignore\n",
       "var _JSXTOOLS_RESIZE_OBSERVER=function(A){var t,i=new WeakMap,n=new WeakMap,a=new WeakMap,r=new WeakMap,o=new Set;function s(e){if(!(this instanceof s))throw new TypeError(\"Constructor requires 'new' operator\");i.set(this,e)}function h(){throw new TypeError(\"Function is not a constructor\")}function c(e,t,i,n){e=0 in arguments?Number(arguments[0]):0,t=1 in arguments?Number(arguments[1]):0,i=2 in arguments?Number(arguments[2]):0,n=3 in arguments?Number(arguments[3]):0,this.right=(this.x=this.left=e)+(this.width=i),this.bottom=(this.y=this.top=t)+(this.height=n),Object.freeze(this)}function d(){t=requestAnimationFrame(d);var s=new WeakMap,p=new Set;o.forEach((function(t){r.get(t).forEach((function(i){var r=t instanceof window.SVGElement,o=a.get(t),d=r?0:parseFloat(o.paddingTop),f=r?0:parseFloat(o.paddingRight),l=r?0:parseFloat(o.paddingBottom),u=r?0:parseFloat(o.paddingLeft),g=r?0:parseFloat(o.borderTopWidth),m=r?0:parseFloat(o.borderRightWidth),w=r?0:parseFloat(o.borderBottomWidth),b=u+f,F=d+l,v=(r?0:parseFloat(o.borderLeftWidth))+m,W=g+w,y=r?0:t.offsetHeight-W-t.clientHeight,E=r?0:t.offsetWidth-v-t.clientWidth,R=b+v,z=F+W,M=r?t.width:parseFloat(o.width)-R-E,O=r?t.height:parseFloat(o.height)-z-y;if(n.has(t)){var k=n.get(t);if(k[0]===M&&k[1]===O)return}n.set(t,[M,O]);var S=Object.create(h.prototype);S.target=t,S.contentRect=new c(u,d,M,O),s.has(i)||(s.set(i,[]),p.add(i)),s.get(i).push(S)}))})),p.forEach((function(e){i.get(e).call(e,s.get(e),e)}))}return s.prototype.observe=function(i){if(i instanceof window.Element){r.has(i)||(r.set(i,new Set),o.add(i),a.set(i,window.getComputedStyle(i)));var n=r.get(i);n.has(this)||n.add(this),cancelAnimationFrame(t),t=requestAnimationFrame(d)}},s.prototype.unobserve=function(i){if(i instanceof window.Element&&r.has(i)){var n=r.get(i);n.has(this)&&(n.delete(this),n.size||(r.delete(i),o.delete(i))),n.size||r.delete(i),o.size||cancelAnimationFrame(t)}},A.DOMRectReadOnly=c,A.ResizeObserver=s,A.ResizeObserverEntry=h,A}; // eslint-disable-line\n",
       "mpl.toolbar_items = [[\"Home\", \"Reset original view\", \"fa fa-home icon-home\", \"home\"], [\"Back\", \"Back to previous view\", \"fa fa-arrow-left icon-arrow-left\", \"back\"], [\"Forward\", \"Forward to next view\", \"fa fa-arrow-right icon-arrow-right\", \"forward\"], [\"\", \"\", \"\", \"\"], [\"Pan\", \"Left button pans, Right button zooms\\nx/y fixes axis, CTRL fixes aspect\", \"fa fa-arrows icon-move\", \"pan\"], [\"Zoom\", \"Zoom to rectangle\\nx/y fixes axis, CTRL fixes aspect\", \"fa fa-square-o icon-check-empty\", \"zoom\"], [\"\", \"\", \"\", \"\"], [\"Download\", \"Download plot\", \"fa fa-floppy-o icon-save\", \"download\"]];\n",
       "\n",
       "mpl.extensions = [\"eps\", \"jpeg\", \"pgf\", \"pdf\", \"png\", \"ps\", \"raw\", \"svg\", \"tif\"];\n",
       "\n",
       "mpl.default_extension = \"png\";/* global mpl */\n",
       "\n",
       "var comm_websocket_adapter = function (comm) {\n",
       "    // Create a \"websocket\"-like object which calls the given IPython comm\n",
       "    // object with the appropriate methods. Currently this is a non binary\n",
       "    // socket, so there is still some room for performance tuning.\n",
       "    var ws = {};\n",
       "\n",
       "    ws.binaryType = comm.kernel.ws.binaryType;\n",
       "    ws.readyState = comm.kernel.ws.readyState;\n",
       "    function updateReadyState(_event) {\n",
       "        if (comm.kernel.ws) {\n",
       "            ws.readyState = comm.kernel.ws.readyState;\n",
       "        } else {\n",
       "            ws.readyState = 3; // Closed state.\n",
       "        }\n",
       "    }\n",
       "    comm.kernel.ws.addEventListener('open', updateReadyState);\n",
       "    comm.kernel.ws.addEventListener('close', updateReadyState);\n",
       "    comm.kernel.ws.addEventListener('error', updateReadyState);\n",
       "\n",
       "    ws.close = function () {\n",
       "        comm.close();\n",
       "    };\n",
       "    ws.send = function (m) {\n",
       "        //console.log('sending', m);\n",
       "        comm.send(m);\n",
       "    };\n",
       "    // Register the callback with on_msg.\n",
       "    comm.on_msg(function (msg) {\n",
       "        //console.log('receiving', msg['content']['data'], msg);\n",
       "        var data = msg['content']['data'];\n",
       "        if (data['blob'] !== undefined) {\n",
       "            data = {\n",
       "                data: new Blob(msg['buffers'], { type: data['blob'] }),\n",
       "            };\n",
       "        }\n",
       "        // Pass the mpl event to the overridden (by mpl) onmessage function.\n",
       "        ws.onmessage(data);\n",
       "    });\n",
       "    return ws;\n",
       "};\n",
       "\n",
       "mpl.mpl_figure_comm = function (comm, msg) {\n",
       "    // This is the function which gets called when the mpl process\n",
       "    // starts-up an IPython Comm through the \"matplotlib\" channel.\n",
       "\n",
       "    var id = msg.content.data.id;\n",
       "    // Get hold of the div created by the display call when the Comm\n",
       "    // socket was opened in Python.\n",
       "    var element = document.getElementById(id);\n",
       "    var ws_proxy = comm_websocket_adapter(comm);\n",
       "\n",
       "    function ondownload(figure, _format) {\n",
       "        window.open(figure.canvas.toDataURL());\n",
       "    }\n",
       "\n",
       "    var fig = new mpl.figure(id, ws_proxy, ondownload, element);\n",
       "\n",
       "    // Call onopen now - mpl needs it, as it is assuming we've passed it a real\n",
       "    // web socket which is closed, not our websocket->open comm proxy.\n",
       "    ws_proxy.onopen();\n",
       "\n",
       "    fig.parent_element = element;\n",
       "    fig.cell_info = mpl.find_output_cell(\"<div id='\" + id + \"'></div>\");\n",
       "    if (!fig.cell_info) {\n",
       "        console.error('Failed to find cell for figure', id, fig);\n",
       "        return;\n",
       "    }\n",
       "    fig.cell_info[0].output_area.element.on(\n",
       "        'cleared',\n",
       "        { fig: fig },\n",
       "        fig._remove_fig_handler\n",
       "    );\n",
       "};\n",
       "\n",
       "mpl.figure.prototype.handle_close = function (fig, msg) {\n",
       "    var width = fig.canvas.width / fig.ratio;\n",
       "    fig.cell_info[0].output_area.element.off(\n",
       "        'cleared',\n",
       "        fig._remove_fig_handler\n",
       "    );\n",
       "    fig.resizeObserverInstance.unobserve(fig.canvas_div);\n",
       "\n",
       "    // Update the output cell to use the data from the current canvas.\n",
       "    fig.push_to_output();\n",
       "    var dataURL = fig.canvas.toDataURL();\n",
       "    // Re-enable the keyboard manager in IPython - without this line, in FF,\n",
       "    // the notebook keyboard shortcuts fail.\n",
       "    IPython.keyboard_manager.enable();\n",
       "    fig.parent_element.innerHTML =\n",
       "        '<img src=\"' + dataURL + '\" width=\"' + width + '\">';\n",
       "    fig.close_ws(fig, msg);\n",
       "};\n",
       "\n",
       "mpl.figure.prototype.close_ws = function (fig, msg) {\n",
       "    fig.send_message('closing', msg);\n",
       "    // fig.ws.close()\n",
       "};\n",
       "\n",
       "mpl.figure.prototype.push_to_output = function (_remove_interactive) {\n",
       "    // Turn the data on the canvas into data in the output cell.\n",
       "    var width = this.canvas.width / this.ratio;\n",
       "    var dataURL = this.canvas.toDataURL();\n",
       "    this.cell_info[1]['text/html'] =\n",
       "        '<img src=\"' + dataURL + '\" width=\"' + width + '\">';\n",
       "};\n",
       "\n",
       "mpl.figure.prototype.updated_canvas_event = function () {\n",
       "    // Tell IPython that the notebook contents must change.\n",
       "    IPython.notebook.set_dirty(true);\n",
       "    this.send_message('ack', {});\n",
       "    var fig = this;\n",
       "    // Wait a second, then push the new image to the DOM so\n",
       "    // that it is saved nicely (might be nice to debounce this).\n",
       "    setTimeout(function () {\n",
       "        fig.push_to_output();\n",
       "    }, 1000);\n",
       "};\n",
       "\n",
       "mpl.figure.prototype._init_toolbar = function () {\n",
       "    var fig = this;\n",
       "\n",
       "    var toolbar = document.createElement('div');\n",
       "    toolbar.classList = 'btn-toolbar';\n",
       "    this.root.appendChild(toolbar);\n",
       "\n",
       "    function on_click_closure(name) {\n",
       "        return function (_event) {\n",
       "            return fig.toolbar_button_onclick(name);\n",
       "        };\n",
       "    }\n",
       "\n",
       "    function on_mouseover_closure(tooltip) {\n",
       "        return function (event) {\n",
       "            if (!event.currentTarget.disabled) {\n",
       "                return fig.toolbar_button_onmouseover(tooltip);\n",
       "            }\n",
       "        };\n",
       "    }\n",
       "\n",
       "    fig.buttons = {};\n",
       "    var buttonGroup = document.createElement('div');\n",
       "    buttonGroup.classList = 'btn-group';\n",
       "    var button;\n",
       "    for (var toolbar_ind in mpl.toolbar_items) {\n",
       "        var name = mpl.toolbar_items[toolbar_ind][0];\n",
       "        var tooltip = mpl.toolbar_items[toolbar_ind][1];\n",
       "        var image = mpl.toolbar_items[toolbar_ind][2];\n",
       "        var method_name = mpl.toolbar_items[toolbar_ind][3];\n",
       "\n",
       "        if (!name) {\n",
       "            /* Instead of a spacer, we start a new button group. */\n",
       "            if (buttonGroup.hasChildNodes()) {\n",
       "                toolbar.appendChild(buttonGroup);\n",
       "            }\n",
       "            buttonGroup = document.createElement('div');\n",
       "            buttonGroup.classList = 'btn-group';\n",
       "            continue;\n",
       "        }\n",
       "\n",
       "        button = fig.buttons[name] = document.createElement('button');\n",
       "        button.classList = 'btn btn-default';\n",
       "        button.href = '#';\n",
       "        button.title = name;\n",
       "        button.innerHTML = '<i class=\"fa ' + image + ' fa-lg\"></i>';\n",
       "        button.addEventListener('click', on_click_closure(method_name));\n",
       "        button.addEventListener('mouseover', on_mouseover_closure(tooltip));\n",
       "        buttonGroup.appendChild(button);\n",
       "    }\n",
       "\n",
       "    if (buttonGroup.hasChildNodes()) {\n",
       "        toolbar.appendChild(buttonGroup);\n",
       "    }\n",
       "\n",
       "    // Add the status bar.\n",
       "    var status_bar = document.createElement('span');\n",
       "    status_bar.classList = 'mpl-message pull-right';\n",
       "    toolbar.appendChild(status_bar);\n",
       "    this.message = status_bar;\n",
       "\n",
       "    // Add the close button to the window.\n",
       "    var buttongrp = document.createElement('div');\n",
       "    buttongrp.classList = 'btn-group inline pull-right';\n",
       "    button = document.createElement('button');\n",
       "    button.classList = 'btn btn-mini btn-primary';\n",
       "    button.href = '#';\n",
       "    button.title = 'Stop Interaction';\n",
       "    button.innerHTML = '<i class=\"fa fa-power-off icon-remove icon-large\"></i>';\n",
       "    button.addEventListener('click', function (_evt) {\n",
       "        fig.handle_close(fig, {});\n",
       "    });\n",
       "    button.addEventListener(\n",
       "        'mouseover',\n",
       "        on_mouseover_closure('Stop Interaction')\n",
       "    );\n",
       "    buttongrp.appendChild(button);\n",
       "    var titlebar = this.root.querySelector('.ui-dialog-titlebar');\n",
       "    titlebar.insertBefore(buttongrp, titlebar.firstChild);\n",
       "};\n",
       "\n",
       "mpl.figure.prototype._remove_fig_handler = function (event) {\n",
       "    var fig = event.data.fig;\n",
       "    if (event.target !== this) {\n",
       "        // Ignore bubbled events from children.\n",
       "        return;\n",
       "    }\n",
       "    fig.close_ws(fig, {});\n",
       "};\n",
       "\n",
       "mpl.figure.prototype._root_extra_style = function (el) {\n",
       "    el.style.boxSizing = 'content-box'; // override notebook setting of border-box.\n",
       "};\n",
       "\n",
       "mpl.figure.prototype._canvas_extra_style = function (el) {\n",
       "    // this is important to make the div 'focusable\n",
       "    el.setAttribute('tabindex', 0);\n",
       "    // reach out to IPython and tell the keyboard manager to turn it's self\n",
       "    // off when our div gets focus\n",
       "\n",
       "    // location in version 3\n",
       "    if (IPython.notebook.keyboard_manager) {\n",
       "        IPython.notebook.keyboard_manager.register_events(el);\n",
       "    } else {\n",
       "        // location in version 2\n",
       "        IPython.keyboard_manager.register_events(el);\n",
       "    }\n",
       "};\n",
       "\n",
       "mpl.figure.prototype._key_event_extra = function (event, _name) {\n",
       "    var manager = IPython.notebook.keyboard_manager;\n",
       "    if (!manager) {\n",
       "        manager = IPython.keyboard_manager;\n",
       "    }\n",
       "\n",
       "    // Check for shift+enter\n",
       "    if (event.shiftKey && event.which === 13) {\n",
       "        this.canvas_div.blur();\n",
       "        // select the cell after this one\n",
       "        var index = IPython.notebook.find_cell_index(this.cell_info[0]);\n",
       "        IPython.notebook.select(index + 1);\n",
       "    }\n",
       "};\n",
       "\n",
       "mpl.figure.prototype.handle_save = function (fig, _msg) {\n",
       "    fig.ondownload(fig, null);\n",
       "};\n",
       "\n",
       "mpl.find_output_cell = function (html_output) {\n",
       "    // Return the cell and output element which can be found *uniquely* in the notebook.\n",
       "    // Note - this is a bit hacky, but it is done because the \"notebook_saving.Notebook\"\n",
       "    // IPython event is triggered only after the cells have been serialised, which for\n",
       "    // our purposes (turning an active figure into a static one), is too late.\n",
       "    var cells = IPython.notebook.get_cells();\n",
       "    var ncells = cells.length;\n",
       "    for (var i = 0; i < ncells; i++) {\n",
       "        var cell = cells[i];\n",
       "        if (cell.cell_type === 'code') {\n",
       "            for (var j = 0; j < cell.output_area.outputs.length; j++) {\n",
       "                var data = cell.output_area.outputs[j];\n",
       "                if (data.data) {\n",
       "                    // IPython >= 3 moved mimebundle to data attribute of output\n",
       "                    data = data.data;\n",
       "                }\n",
       "                if (data['text/html'] === html_output) {\n",
       "                    return [cell, data, j];\n",
       "                }\n",
       "            }\n",
       "        }\n",
       "    }\n",
       "};\n",
       "\n",
       "// Register the function which deals with the matplotlib target/channel.\n",
       "// The kernel may be null if the page has been refreshed.\n",
       "if (IPython.notebook.kernel !== null) {\n",
       "    IPython.notebook.kernel.comm_manager.register_target(\n",
       "        'matplotlib',\n",
       "        mpl.mpl_figure_comm\n",
       "    );\n",
       "}\n"
      ],
      "text/plain": [
       "<IPython.core.display.Javascript object>"
      ]
     },
     "metadata": {},
     "output_type": "display_data"
    },
    {
     "data": {
      "text/html": [
       "<div id='a4d0f579-3e73-4355-a42e-359b0d2c24af'></div>"
      ],
      "text/plain": [
       "<IPython.core.display.HTML object>"
      ]
     },
     "metadata": {},
     "output_type": "display_data"
    },
    {
     "name": "stderr",
     "output_type": "stream",
     "text": [
      "C:\\Users\\Crokodile\\.conda\\envs\\tryedenv\\lib\\site-packages\\ipykernel_launcher.py:22: RuntimeWarning: overflow encountered in square\n",
      "C:\\Users\\Crokodile\\.conda\\envs\\tryedenv\\lib\\site-packages\\ipykernel_launcher.py:5: RuntimeWarning: overflow encountered in square\n",
      "  \"\"\"\n",
      "C:\\Users\\Crokodile\\.conda\\envs\\tryedenv\\lib\\site-packages\\numpy\\lib\\function_base.py:1057: RuntimeWarning: invalid value encountered in subtract\n",
      "  out[tuple(slice1)] = (f[tuple(slice4)] - f[tuple(slice2)]) / (2. * ax_dx)\n",
      "C:\\Users\\Crokodile\\.conda\\envs\\tryedenv\\lib\\site-packages\\numpy\\lib\\function_base.py:1078: RuntimeWarning: invalid value encountered in double_scalars\n",
      "  out[tuple(slice1)] = (f[tuple(slice2)] - f[tuple(slice3)]) / dx_0\n",
      "C:\\Users\\Crokodile\\.conda\\envs\\tryedenv\\lib\\site-packages\\numpy\\lib\\function_base.py:1085: RuntimeWarning: invalid value encountered in double_scalars\n",
      "  out[tuple(slice1)] = (f[tuple(slice2)] - f[tuple(slice3)]) / dx_n\n"
     ]
    },
    {
     "ename": "AssertionError",
     "evalue": "задание решено не верно",
     "output_type": "error",
     "traceback": [
      "\u001b[1;31m---------------------------------------------------------------------------\u001b[0m",
      "\u001b[1;31mAssertionError\u001b[0m                            Traceback (most recent call last)",
      "\u001b[1;32m<ipython-input-26-c3be4ec4f513>\u001b[0m in \u001b[0;36m<module>\u001b[1;34m\u001b[0m\n\u001b[0;32m     86\u001b[0m \u001b[1;33m\u001b[0m\u001b[0m\n\u001b[0;32m     87\u001b[0m \u001b[1;33m\u001b[0m\u001b[0m\n\u001b[1;32m---> 88\u001b[1;33m \u001b[1;32massert\u001b[0m \u001b[1;36m.98\u001b[0m \u001b[1;33m<=\u001b[0m \u001b[0mR_square\u001b[0m\u001b[1;33m(\u001b[0m\u001b[0mY_test\u001b[0m\u001b[1;33m,\u001b[0m \u001b[0mY_test_predict_OLS\u001b[0m\u001b[1;33m)\u001b[0m\u001b[1;33m/\u001b[0m\u001b[0mR_square\u001b[0m\u001b[1;33m(\u001b[0m\u001b[0mY_test\u001b[0m\u001b[1;33m,\u001b[0m \u001b[0mY_test_predict_SGD\u001b[0m\u001b[1;33m)\u001b[0m \u001b[1;33m<=\u001b[0m \u001b[1;36m1.02\u001b[0m\u001b[1;33m,\u001b[0m \u001b[1;34m'задание решено не верно'\u001b[0m\u001b[1;33m\u001b[0m\u001b[1;33m\u001b[0m\u001b[0m\n\u001b[0m",
      "\u001b[1;31mAssertionError\u001b[0m: задание решено не верно"
     ]
    }
   ],
   "source": [
    "%matplotlib notebook\n",
    "\n",
    "def stochastic_gradient_step(w, X, y):\n",
    "    # YOUR CODE HERE\n",
    "    grad = np.gradient((y - np.dot(X, w))**2)\n",
    "    ###\n",
    "    return grad   \n",
    "\n",
    "\n",
    "\n",
    "def fit(X, y, analytical_w, random_state=42, iters=100, batch_size=10, learning_rate=0.05, plot=True):\n",
    "    random_gen = np.random.RandomState(random_state)\n",
    "    errors = []\n",
    "    \n",
    "    \n",
    "    # получаем размерности матрицы\n",
    "    size, dim = X.shape\n",
    "\n",
    "    # случайная начальная инициализация\n",
    "    w = random_gen.rand(dim)\n",
    "    \n",
    "    weights_history = w\n",
    "    colors = [plt.get_cmap('gist_rainbow')(i) for i in np.linspace(0,1,dim)]\n",
    "    \n",
    "    # plt \n",
    "    if plot:\n",
    "        fig = plt.figure(figsize=(15, 10))\n",
    "        ax1 = fig.add_subplot(221)\n",
    "        ax2 = fig.add_subplot(222)\n",
    "        ax3 = fig.add_subplot(212)\n",
    "        fig.suptitle('Gradient descent')\n",
    "        \n",
    "        \n",
    "    for _ in range(iters):  \n",
    "        # берём случайный набор элементов\n",
    "        rand_indices = random_gen.choice(size, batch_size)\n",
    "        X_ = X[rand_indices]\n",
    "        y_ = y[rand_indices]\n",
    "\n",
    "        # считаем производные\n",
    "        grad = stochastic_gradient_step(w, X_, y_)\n",
    "        assert type(grad) == np.ndarray, 'неверный тип'\n",
    "        assert len(grad.shape) == 1, 'Необходимо вернуть одномерный вектор'\n",
    "        assert grad.shape[0] == len(w), 'длина вектора должна быть равной количеству весов'\n",
    "        \n",
    "        w   -= grad * learning_rate\n",
    "        \n",
    "        # Обновляем веса\n",
    "        weights_history = np.vstack((weights_history, w))\n",
    "        \n",
    "        # error\n",
    "        predict = least_squares_predict(w, X)\n",
    "        errors.append(R_square(y, predict))\n",
    "        \n",
    "        if plot:\n",
    "            ax1.clear()            \n",
    "            ax1.plot(range(dim), analytical_w, 'bo-', label='Analytical solution')\n",
    "            ax1.plot(range(dim), w, 'ro-', label='Gradient solution')\n",
    "            ax1.legend(loc=\"upper left\")\n",
    "            ax1.set_title('weights')\n",
    "            ax1.set_ylabel(r'$\\bar \\beta$')\n",
    "            ax1.set_xlabel('weight ID')\n",
    "            \n",
    "            \n",
    "            ax2.plot(range(_+1), errors, 'g-')\n",
    "            ax2.set_title('R_square')\n",
    "            ax2.set_xlabel('itarations')\n",
    "            \n",
    "            ax3.plot(weights_history)\n",
    "            ax3.set_title('update weights')\n",
    "            ax3.set_ylabel('value')\n",
    "            ax3.set_xlabel('itarations')\n",
    "            \n",
    "            time.sleep(0.3)\n",
    "            fig.canvas.draw()   \n",
    "            \n",
    "    return w, analytical_w\n",
    "\n",
    "# X_train_new матрица объект-признаки, полученная после выполнения задания №5.1:\n",
    "# должно быть 10 признаков\n",
    "\n",
    "w_SGD, w_OLS = fit(X_train_new, Y_train, analytical_w=W, plot=True)\n",
    "\n",
    "Y_test_predict_OLS  = least_squares_predict(w_OLS, X_test_new[:,:])\n",
    "Y_test_predict_SGD  = least_squares_predict(w_SGD, X_test_new[:,:])\n",
    "\n",
    "\n",
    "assert .98 <= R_square(Y_test, Y_test_predict_OLS)/R_square(Y_test, Y_test_predict_SGD) <= 1.02, 'задание решено не верно'"
   ]
  },
  {
   "cell_type": "markdown",
   "metadata": {
    "id": "3VL6N_zXPr75"
   },
   "source": [
    "<font size=3>__Немного теории__</font>\n",
    "\n",
    "Решение методом градиентного спуска имеет ряд недостатков:\n",
    "1.\tРешение получается не стабильным и переобученным в случае наличие коррелированных признаков. Градиент стремится завышать веса таких признаков, «игнорируя» другие признаки\n",
    "2.\tДанный метод не предполагает наличие незначимых признаков и стремиться выдать им хоть какой-то вес тем самым модель становиться менее устойчивой \n",
    "\n",
    "Решить эти проблемы можно с помощью регуляризаторов:\n",
    "- __$L2$ Rige regression.__ Штрафует за сильно высокие веса, срамясь уменьшить эффект 1-ой проблемы.\n",
    "\n",
    "$$L(y,X,w)=\\frac{1}{n} \\sum_{i=1}^n (y_i-Xw)^2+\\delta\\sum_{j=1}^pw_i^2$$ \n",
    "где $n$ $-$ количество объектов; $p$ $-$ количество признаков; $\\lambda$ $-$ коэффициент регуляризации\n",
    "\n",
    "- __$L1$ Lasso.__ Стремится обнулить наибольшее количество весов. Таким образом решается 2-ая проблема\n",
    "\n",
    "$$L(y,X,w)=\\frac{1}{n} \\sum_{i=1}^n (y_i-Xw)^2+\\lambda\\sum_{j=1}^p|w_i|$$ \n",
    "\n",
    "где $n$ $-$ количество объектов; $p$ $-$ количество признаков; $\\delta$ $-$ коэффициент регуляризации\n",
    "\n",
    "- __ElasticNet.__ Обобщенная форма $L1$ и $L2$\n",
    "\n",
    "$$L(y,X,w)=\\frac{1}{n} \\sum_{i=1}^n (y_i-Xw)^2+\\alpha\\gamma\\sum_{j=1}^p|w_i|+0.5\\alpha(1-\\gamma)\\sum_{j=1}^pw_i^2$$ \n",
    "\n",
    "Если при условии простого суммирования $\\lambda\\text{L1}+\\delta\\text{L2}$, то\n",
    "\n",
    "$\\alpha=\\lambda+\\delta$ $-$ общий множитель регуляризаторов. При $\\alpha=0$ получаем исходную функцию потерь, без штрафов. \n",
    "\n",
    "$\\gamma=\\frac{\\lambda}{\\lambda+\\delta}$ $-$ коэфициент вклада $L1$. Принимает значения от 0 до 1. При $\\gamma=0 \\rightarrow \\text{ElasticNet}=L2$; $\\gamma=1 \\rightarrow \\text{ElasticNet}=L1$\n",
    "\n",
    "<font size=3, color=\"green\">__Задание №:8 Градиентный спуск и регуляризация__</font>\n",
    "\n",
    "Вам необходимо __переаисать__ функцию __stochastic_gradient_step__ что бы она расчитывала значения градиентов для функции потерь __ElasticNet__.\n",
    "\n",
    "__Вход:__   \n",
    "- аналогично заданию №7\n",
    "- alpha $(\\alpha)$ $-$ общий множитель регуляризаторов \n",
    "- l1_ratio $(\\gamma)$ $-$ коэфициент вклада $L1$\n",
    "\n",
    "__Выход:__ вектор значений градиента для каждого из весов\n",
    "\n",
    "__!!ВАЖНО!!__: \n",
    "\n",
    "- Посмотрите на то как меняются веса при изменении параметра $\\text{l1_ratio}$\n",
    "- Функция __fit__ останется прежней"
   ]
  },
  {
   "cell_type": "code",
   "execution_count": null,
   "metadata": {
    "ExecuteTime": {
     "end_time": "2019-10-18T07:36:14.703686Z",
     "start_time": "2019-10-18T07:36:14.701680Z"
    },
    "id": "C8jVmmuHPr76"
   },
   "outputs": [],
   "source": [
    "# Изменить код необходимы функций так что бы можно использовать как l1 так и l2 регуляризацию одновременно\n",
    "# Как изменяются веса в краевых случаях\n",
    "def stochastic_gradient_step(w, X, y, alpha=1, l1_ratio=0.5):\n",
    "    # YOUR CODE HERE\n",
    "    return grad \n",
    "\n",
    "# Будем обучаться на исходном множестве признаков (14)\n",
    "# a_w - веса полученные аналитическим решением. Уменьшил некоторые сознательно, что бы график обучения был читабелен\n",
    "a_w = [-8.21, 12.21, 7.38, 29.11, 34.44, 62.33, 12.95, 149.06, 91.42, 99.11, -0.0, -20.72, -41.53, 86.23, 1]\n",
    "w = fit(X_train, Y_train, analytical_w=a_w)\n",
    "\n",
    "# проверка!!!"
   ]
  },
  {
   "cell_type": "markdown",
   "metadata": {
    "id": "fr7V24KBPr76"
   },
   "source": [
    "# Classification"
   ]
  },
  {
   "cell_type": "code",
   "execution_count": null,
   "metadata": {
    "ExecuteTime": {
     "end_time": "2019-10-18T06:49:36.849018Z",
     "start_time": "2019-10-18T06:49:36.844039Z"
    },
    "id": "k7ak6FdxPr76"
   },
   "outputs": [],
   "source": [
    "%matplotlib inline"
   ]
  },
  {
   "cell_type": "code",
   "execution_count": null,
   "metadata": {
    "ExecuteTime": {
     "end_time": "2019-10-18T06:49:46.021853Z",
     "start_time": "2019-10-18T06:49:45.953890Z"
    },
    "id": "gF29Ay0HPr77",
    "outputId": "e73223c8-d80a-4856-a3f6-0490ee868877"
   },
   "outputs": [],
   "source": [
    "X_train, Y_train, X_test, Y_test = read_task_2_3('./task_3.csv', bias=False)\n",
    "\n",
    "X_train.shape, X_test.shape"
   ]
  },
  {
   "cell_type": "code",
   "execution_count": null,
   "metadata": {
    "ExecuteTime": {
     "end_time": "2019-10-18T06:49:52.186725Z",
     "start_time": "2019-10-18T06:49:51.732989Z"
    },
    "id": "CQq_EbJCPr77",
    "outputId": "b59fc977-640a-4b9b-9ce6-4e58f33a545d"
   },
   "outputs": [],
   "source": [
    "fig = plt.figure(figsize=(20, 10))\n",
    "\n",
    "plt.subplot(1,2,1)\n",
    "plt.title('train set')\n",
    "plt.scatter(X_train[:,0], X_train[:,1], s=40, c=Y_train)\n",
    "\n",
    "plt.subplot(1,2,2)\n",
    "plt.title('test set')\n",
    "plt.scatter(X_test[:,0], X_test[:,1], s=40, c=Y_test)"
   ]
  },
  {
   "cell_type": "markdown",
   "metadata": {
    "id": "_0XEDMLYPr78"
   },
   "source": [
    "## Logistic regression"
   ]
  },
  {
   "cell_type": "markdown",
   "metadata": {
    "id": "hBzizpoBPr78"
   },
   "source": [
    "<font size=3, color=\"green\">__Задание №:9 Логистическая регрессия__</font>\n",
    "\n",
    "__Необходимо реазлизовать 2 функции:__\n",
    "\n",
    "- __probability__ отвечающая за реализацию логистической функции потерь\n",
    "\n",
    "$$L(X,w)=\\frac{1}{1+\\exp^{(-Xw)}}$$\n",
    "\n",
    "__Вход:__\n",
    "\n",
    "- $w$ $-$ значения весов\n",
    "- $X$ $-$ матрица объект-признак\n",
    "\n",
    "__Выход:__ массив значений функции потерь, длины $N$. Где $N$ $-$ количество объектов\n",
    "\n",
    "__________\n",
    "- __binary_class_prediction__ вызывает функцию __probability__ и на основе ее результата присваивает метки класса по следующей логике: if prob>threshold then 1 else 0\n",
    "\n",
    "__Выход:__ массив предсказанных меток класса\n",
    "\n",
    "\n",
    "__!!Важно!!:__ Веса получаем аналитическим методом для из заданий с регрессией\n"
   ]
  },
  {
   "cell_type": "code",
   "execution_count": null,
   "metadata": {
    "ExecuteTime": {
     "end_time": "2019-10-18T07:06:28.418866Z",
     "start_time": "2019-10-18T07:06:28.414869Z"
    },
    "id": "PhUD7xSWPr79"
   },
   "outputs": [],
   "source": [
    "W = least_squares_weights(X_train, Y_train)"
   ]
  },
  {
   "cell_type": "code",
   "execution_count": null,
   "metadata": {
    "ExecuteTime": {
     "end_time": "2019-10-18T07:12:54.484788Z",
     "start_time": "2019-10-18T07:12:54.477794Z"
    },
    "id": "qjn0vesUPr79"
   },
   "outputs": [],
   "source": [
    "def probability(W, X):\n",
    "    # YOUR CODE HERE\n",
    "    return result\n",
    "\n",
    "prob = probability(W, X_train)\n",
    "\n",
    "#TESTS\n",
    "assert type(prob) == np.ndarray, 'Возвращается неверный тип'\n",
    "assert prob.shape == (X_train.shape[0],), 'Неверный размер массива'\n",
    "assert [round(i,3) for i in prob[[1, -1, 12]]] == [0.451, 0.624, 0.511], 'Функция считается неверно'"
   ]
  },
  {
   "cell_type": "code",
   "execution_count": null,
   "metadata": {
    "ExecuteTime": {
     "end_time": "2019-10-18T07:24:29.360016Z",
     "start_time": "2019-10-18T07:24:29.353015Z"
    },
    "id": "uQAavoLBPr7-"
   },
   "outputs": [],
   "source": [
    "def binary_class_prediction(W, X, threshold =.5):\n",
    "    prob =  probability(W, X)\n",
    "    # YOUR CODE HERE\n",
    "    return result\n",
    "\n",
    "Y_train_predict = binary_class_prediction(W, X_train)\n",
    "Y_test_predict = binary_class_prediction(W, X_test)\n",
    "\n",
    "#TESTS\n",
    "assert type(Y_train_predict) == np.ndarray, 'Возвращается неверный тип'\n",
    "assert Y_train_predict.shape == (X_train.shape[0],), 'Неверный размер массива'\n",
    "assert min(Y_train_predict) == 0, 'Функция считается неверно'\n",
    "assert max(Y_train_predict) == 1, 'Функция считается неверно'"
   ]
  },
  {
   "cell_type": "code",
   "execution_count": null,
   "metadata": {
    "ExecuteTime": {
     "end_time": "2019-10-18T07:37:47.224781Z",
     "start_time": "2019-10-18T07:37:47.221784Z"
    },
    "id": "kgl3OVfqPr7_"
   },
   "outputs": [],
   "source": [
    "plt.figure(figsize=(20,10))\n",
    "plt.title('train set')\n",
    "plt.scatter(X_train[:,0], X_train[:,1], s=40, c=Y_train)\n",
    "\n",
    "# create grid to evaluate model\n",
    "x_min, x_max = plt.xlim() \n",
    "y_min, y_max = plt.ylim() \n",
    "xx, yy = np.meshgrid(np.arange(x_min, x_max, .01),\n",
    "                     np.arange(y_min, y_max, .01))\n",
    "Z = binary_class_prediction(W, np.c_[xx.ravel(), yy.ravel()])\n",
    "Z = Z.reshape(xx.shape)\n",
    "\n",
    "plt.contour(xx, yy, Z, colors='r', linewidths=0.7)"
   ]
  },
  {
   "cell_type": "markdown",
   "metadata": {
    "id": "RPByG49oPr7_"
   },
   "source": [
    "## Errors"
   ]
  },
  {
   "cell_type": "markdown",
   "metadata": {
    "id": "6kBmSkBTPr7_"
   },
   "source": [
    "<font size=3, color=\"green\">__Задание №:10 accuracy__</font>\n",
    "\n",
    "Реализуйте функцию __binary_accuracy__ рассчитывающую долю верно размеченных единиц\n",
    "\n",
    "__Вход:__\n",
    "\n",
    "- y_true $-$ истинные метки классов\n",
    "- y_predict $-$ предсказанные метки классов\n",
    "\n",
    "__Выход:__ значение от 0 до 1"
   ]
  },
  {
   "cell_type": "code",
   "execution_count": null,
   "metadata": {
    "ExecuteTime": {
     "end_time": "2019-10-18T07:37:42.492392Z",
     "start_time": "2019-10-18T07:37:42.488413Z"
    },
    "id": "AaJfjuquPr8A"
   },
   "outputs": [],
   "source": [
    "def binary_accuracy(y_true, y_predict):\n",
    "    # YOUR CODE HERE\n",
    "    return result\n",
    "\n",
    "assert type(binary_accuracy(Y_train, Y_train_predict)) == np.float64, 'Возвращается неверный тип' \n",
    "assert 0<=binary_accuracy(Y_train, Y_train_predict)<=1, 'Результат может принимать значения от 0 до 1'\n",
    "assert round(binary_accuracy(Y_train, Y_train_predict),2) == 0.75, 'Функция считается неверно'\n",
    "assert round(binary_accuracy(Y_test, Y_test_predict),2) == 0.71, 'Функция считается неверно'"
   ]
  },
  {
   "cell_type": "code",
   "execution_count": null,
   "metadata": {
    "id": "zHY6BacnPr8A"
   },
   "outputs": [],
   "source": []
  }
 ],
 "metadata": {
  "colab": {
   "collapsed_sections": [
    "l0LqlhEJPr7y",
    "204q3m7cPr71",
    "Cvn23yiWPr74"
   ],
   "name": "LINEAR_MODEL_TASKS.ipynb",
   "provenance": []
  },
  "kernelspec": {
   "display_name": "Python 3",
   "language": "python",
   "name": "python3"
  },
  "language_info": {
   "codemirror_mode": {
    "name": "ipython",
    "version": 3
   },
   "file_extension": ".py",
   "mimetype": "text/x-python",
   "name": "python",
   "nbconvert_exporter": "python",
   "pygments_lexer": "ipython3",
   "version": "3.7.10"
  },
  "toc": {
   "base_numbering": 1,
   "nav_menu": {},
   "number_sections": true,
   "sideBar": true,
   "skip_h1_title": false,
   "title_cell": "Table of Contents",
   "title_sidebar": "Contents",
   "toc_cell": false,
   "toc_position": {
    "height": "calc(100% - 180px)",
    "left": "10px",
    "top": "150px",
    "width": "165px"
   },
   "toc_section_display": true,
   "toc_window_display": true
  }
 },
 "nbformat": 4,
 "nbformat_minor": 4
}
