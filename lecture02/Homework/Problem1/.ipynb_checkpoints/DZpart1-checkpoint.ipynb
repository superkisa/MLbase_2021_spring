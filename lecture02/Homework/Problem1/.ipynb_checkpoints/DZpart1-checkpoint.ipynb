{
 "cells": [
  {
   "cell_type": "code",
   "execution_count": 1,
   "metadata": {
    "colab": {
     "base_uri": "https://localhost:8080/"
    },
    "id": "Vvr0n5cCOYVS",
    "outputId": "c1798dda-152c-46bf-f142-dd80555c5d97"
   },
   "outputs": [],
   "source": [
    "# !git clone https://github.com/superkisa/MLbase_2021_spring cloned-repo\n",
    "# %cd cloned-repo/lecture02/Homework/Problem1\n",
    "# !ls"
   ]
  },
  {
   "cell_type": "code",
   "execution_count": 2,
   "metadata": {
    "id": "qoizjpPvCJT8"
   },
   "outputs": [],
   "source": [
    "import numpy as np\n",
    "import pandas as pd\n",
    "import matplotlib.pyplot as plt\n",
    "import sklearn\n",
    "import time\n",
    "from sklearn.datasets import load_breast_cancer\n",
    "from sklearn.model_selection import train_test_split\n",
    "from sklearn import preprocessing\n",
    "from sklearn.metrics import classification_report"
   ]
  },
  {
   "cell_type": "markdown",
   "metadata": {
    "id": "xZKcRxPDgs-k"
   },
   "source": [
    "Посмотрим информацию о таблице и изменим ее."
   ]
  },
  {
   "cell_type": "code",
   "execution_count": 3,
   "metadata": {
    "colab": {
     "base_uri": "https://localhost:8080/"
    },
    "id": "IlaiYanJCVMk",
    "outputId": "7415e6a9-49a6-4fa6-f029-a5b6fd52aa33"
   },
   "outputs": [
    {
     "name": "stdout",
     "output_type": "stream",
     "text": [
      "Count NA in columns\n",
      "Sunshine         0.480098\n",
      "Evaporation      0.431665\n",
      "Cloud3pm         0.408071\n",
      "Cloud9am         0.384216\n",
      "Pressure9am      0.103568\n",
      "Pressure3pm      0.103314\n",
      "WindDir9am       0.072639\n",
      "WindGustDir      0.070989\n",
      "WindGustSpeed    0.070555\n",
      "Humidity3pm      0.030984\n",
      "WindDir3pm       0.029066\n",
      "Temp3pm          0.024811\n",
      "RainTomorrow     0.022460\n",
      "Rainfall         0.022419\n",
      "RainToday        0.022419\n",
      "WindSpeed3pm     0.021050\n",
      "Humidity9am      0.018246\n",
      "Temp9am          0.012148\n",
      "WindSpeed9am     0.012148\n",
      "MinTemp          0.010209\n",
      "MaxTemp          0.008669\n",
      "Location         0.000000\n",
      "Date             0.000000\n",
      "dtype: float64\n",
      "\n",
      "         Date Location  MinTemp  MaxTemp  Rainfall WindGustDir  WindGustSpeed  \\\n",
      "0  2008-12-01   Albury     13.4     22.9       0.6           W           44.0   \n",
      "1  2008-12-02   Albury      7.4     25.1       0.0         WNW           44.0   \n",
      "2  2008-12-03   Albury     12.9     25.7       0.0         WSW           46.0   \n",
      "3  2008-12-04   Albury      9.2     28.0       0.0          NE           24.0   \n",
      "4  2008-12-05   Albury     17.5     32.3       1.0           W           41.0   \n",
      "5  2008-12-06   Albury     14.6     29.7       0.2         WNW           56.0   \n",
      "6  2008-12-07   Albury     14.3     25.0       0.0           W           50.0   \n",
      "7  2008-12-08   Albury      7.7     26.7       0.0           W           35.0   \n",
      "8  2008-12-09   Albury      9.7     31.9       0.0         NNW           80.0   \n",
      "9  2008-12-10   Albury     13.1     30.1       1.4           W           28.0   \n",
      "\n",
      "  WindDir9am WindDir3pm  WindSpeed9am  WindSpeed3pm  Humidity9am  Humidity3pm  \\\n",
      "0          W        WNW          20.0          24.0         71.0         22.0   \n",
      "1        NNW        WSW           4.0          22.0         44.0         25.0   \n",
      "2          W        WSW          19.0          26.0         38.0         30.0   \n",
      "3         SE          E          11.0           9.0         45.0         16.0   \n",
      "4        ENE         NW           7.0          20.0         82.0         33.0   \n",
      "5          W          W          19.0          24.0         55.0         23.0   \n",
      "6         SW          W          20.0          24.0         49.0         19.0   \n",
      "7        SSE          W           6.0          17.0         48.0         19.0   \n",
      "8         SE         NW           7.0          28.0         42.0          9.0   \n",
      "9          S        SSE          15.0          11.0         58.0         27.0   \n",
      "\n",
      "   Pressure9am  Pressure3pm  Temp9am  Temp3pm RainToday RainTomorrow  \n",
      "0       1007.7       1007.1     16.9     21.8        No           No  \n",
      "1       1010.6       1007.8     17.2     24.3        No           No  \n",
      "2       1007.6       1008.7     21.0     23.2        No           No  \n",
      "3       1017.6       1012.8     18.1     26.5        No           No  \n",
      "4       1010.8       1006.0     17.8     29.7        No           No  \n",
      "5       1009.2       1005.4     20.6     28.9        No           No  \n",
      "6       1009.6       1008.2     18.1     24.6        No           No  \n",
      "7       1013.4       1010.1     16.3     25.5        No           No  \n",
      "8       1008.9       1003.6     18.3     30.2        No          Yes  \n",
      "9       1007.0       1005.7     20.1     28.2       Yes           No  \n",
      "<class 'pandas.core.frame.DataFrame'>\n",
      "Int64Index: 112925 entries, 0 to 145458\n",
      "Data columns (total 19 columns):\n",
      " #   Column         Non-Null Count   Dtype  \n",
      "---  ------         --------------   -----  \n",
      " 0   Date           112925 non-null  object \n",
      " 1   Location       112925 non-null  object \n",
      " 2   MinTemp        112925 non-null  float64\n",
      " 3   MaxTemp        112925 non-null  float64\n",
      " 4   Rainfall       112925 non-null  float64\n",
      " 5   WindGustDir    112925 non-null  object \n",
      " 6   WindGustSpeed  112925 non-null  float64\n",
      " 7   WindDir9am     112925 non-null  object \n",
      " 8   WindDir3pm     112925 non-null  object \n",
      " 9   WindSpeed9am   112925 non-null  float64\n",
      " 10  WindSpeed3pm   112925 non-null  float64\n",
      " 11  Humidity9am    112925 non-null  float64\n",
      " 12  Humidity3pm    112925 non-null  float64\n",
      " 13  Pressure9am    112925 non-null  float64\n",
      " 14  Pressure3pm    112925 non-null  float64\n",
      " 15  Temp9am        112925 non-null  float64\n",
      " 16  Temp3pm        112925 non-null  float64\n",
      " 17  RainToday      112925 non-null  object \n",
      " 18  RainTomorrow   112925 non-null  object \n",
      "dtypes: float64(12), object(7)\n",
      "memory usage: 17.2+ MB\n",
      "\n",
      "   Date  Location  MinTemp  MaxTemp  Rainfall  WindGustDir  WindGustSpeed  \\\n",
      "0   377         1     13.4     22.9       0.6           13           44.0   \n",
      "1   378         1      7.4     25.1       0.0           14           44.0   \n",
      "2   379         1     12.9     25.7       0.0           15           46.0   \n",
      "3   380         1      9.2     28.0       0.0            4           24.0   \n",
      "4   381         1     17.5     32.3       1.0           13           41.0   \n",
      "5   382         1     14.6     29.7       0.2           14           56.0   \n",
      "6   383         1     14.3     25.0       0.0           13           50.0   \n",
      "7   384         1      7.7     26.7       0.0           13           35.0   \n",
      "8   385         1      9.7     31.9       0.0            6           80.0   \n",
      "9   386         1     13.1     30.1       1.4           13           28.0   \n",
      "\n",
      "   WindDir9am  WindDir3pm  WindSpeed9am  WindSpeed3pm  Humidity9am  \\\n",
      "0          13          14          20.0          24.0         71.0   \n",
      "1           6          15           4.0          22.0         44.0   \n",
      "2          13          15          19.0          26.0         38.0   \n",
      "3           9           0          11.0           9.0         45.0   \n",
      "4           1           7           7.0          20.0         82.0   \n",
      "5          13          13          19.0          24.0         55.0   \n",
      "6          12          13          20.0          24.0         49.0   \n",
      "7          10          13           6.0          17.0         48.0   \n",
      "8           9           7           7.0          28.0         42.0   \n",
      "9           8          10          15.0          11.0         58.0   \n",
      "\n",
      "   Humidity3pm  Pressure9am  Pressure3pm  Temp9am  Temp3pm  RainToday  \\\n",
      "0         22.0       1007.7       1007.1     16.9     21.8          0   \n",
      "1         25.0       1010.6       1007.8     17.2     24.3          0   \n",
      "2         30.0       1007.6       1008.7     21.0     23.2          0   \n",
      "3         16.0       1017.6       1012.8     18.1     26.5          0   \n",
      "4         33.0       1010.8       1006.0     17.8     29.7          0   \n",
      "5         23.0       1009.2       1005.4     20.6     28.9          0   \n",
      "6         19.0       1009.6       1008.2     18.1     24.6          0   \n",
      "7         19.0       1013.4       1010.1     16.3     25.5          0   \n",
      "8          9.0       1008.9       1003.6     18.3     30.2          0   \n",
      "9         27.0       1007.0       1005.7     20.1     28.2          1   \n",
      "\n",
      "   RainTomorrow  \n",
      "0             0  \n",
      "1             0  \n",
      "2             0  \n",
      "3             0  \n",
      "4             0  \n",
      "5             0  \n",
      "6             0  \n",
      "7             0  \n",
      "8             1  \n",
      "9             0  \n"
     ]
    }
   ],
   "source": [
    "df = pd.read_csv('weatherAUS.csv', delimiter=',')\n",
    "df_name_columns = ['Date', 'Location', 'MinTemp', 'MaxTemp', 'Rainfall', 'Evaporation', 'Sunshine', 'WindGustDir', 'WindGustSpeed', 'WindDir9am', 'WindDir3pm', 'WindSpeed9am', 'WindSpeed3pm', 'Humidity9am', 'Humidity3pm', 'Pressure9am', 'Pressure3pm', 'Cloud9am','Cloud3pm', 'Temp9am', 'Temp3pm', 'RainToday', 'RainTomorrow']\n",
    "df.set_axis(df_name_columns, axis = 'columns', inplace = True)\n",
    "\n",
    "print('Count NA in columns')\n",
    "print(df.isna().sum().sort_values(ascending=False)/145460)\n",
    "print()\n",
    "\n",
    "\n",
    "new_df = df.drop(columns=['Sunshine', 'Evaporation', 'Cloud3pm', 'Cloud9am']).dropna()\n",
    "#.fillna(0)\n",
    "#.dropna()\n",
    "print(new_df.head(10))\n",
    "new_df.info()\n",
    "print()\n",
    "\n",
    "df_ward_columns = ['Date', 'Location', 'WindGustDir', 'WindDir9am', 'WindDir3pm', 'RainToday', 'RainTomorrow']\n",
    "labelencoder = preprocessing.LabelEncoder()\n",
    "for i in df_ward_columns:\n",
    "    new_df.loc[:, i] = labelencoder.fit_transform(new_df.loc[:, i])\n",
    "\n",
    "# new_df.loc[:, 'Date'] = labelencoder.fit_transform(new_df.loc[:, 'Date'])\n",
    "# new_df.loc[:, 'Location'] = labelencoder.fit_transform(new_df.loc[:, 'Location'])\n",
    "# new_df.loc[:, 'WindGustDir'] = labelencoder.fit_transform(new_df.loc[:, 'WindGustDir'])\n",
    "# new_df.loc[:, 'WindDir9am'] = labelencoder.fit_transform(new_df.loc[:, 'WindDir9am'])\n",
    "# new_df.loc[:, 'WindDir3pm'] = labelencoder.fit_transform(new_df.loc[:, 'WindDir3pm'])\n",
    "# new_df.loc[:, 'RainToday'] = labelencoder.fit_transform(new_df.loc[:, 'RainToday'])\n",
    "# new_df.loc[:, 'RainTomorrow'] = labelencoder.fit_transform(new_df.loc[:, 'RainTomorrow'])\n",
    "print(new_df.head(10))\n",
    "\n",
    "y = pd.Series(new_df['RainTomorrow'])\n",
    "x = pd.DataFrame(data = new_df.loc[:'RainToday'], columns = new_df.columns[:-1])\n",
    "\n",
    "x_train, x_test, y_train, y_test = \\\n",
    "    train_test_split(x, y, test_size=0.25, shuffle=False)"
   ]
  },
  {
   "cell_type": "code",
   "execution_count": 4,
   "metadata": {
    "colab": {
     "base_uri": "https://localhost:8080/",
     "height": 1000
    },
    "id": "nxqmi9FzytaN",
    "outputId": "0f67b48d-58d7-4f28-dc1f-a0cb38eba85c"
   },
   "outputs": [
    {
     "name": "stdout",
     "output_type": "stream",
     "text": [
      "Index(['Date', 'Location', 'MinTemp', 'MaxTemp', 'Rainfall', 'WindGustDir',\n",
      "       'WindGustSpeed', 'WindDir9am', 'WindDir3pm', 'WindSpeed9am',\n",
      "       'WindSpeed3pm', 'Humidity9am', 'Humidity3pm', 'Pressure9am',\n",
      "       'Pressure3pm', 'Temp9am', 'Temp3pm', 'RainToday'],\n",
      "      dtype='object')\n"
     ]
    },
    {
     "data": {
      "image/png": "[encoded data removed]",
      "text/plain": [
       "<Figure size 1368x1368 with 2 Axes>"
      ]
     },
     "metadata": {
      "needs_background": "light"
     },
     "output_type": "display_data"
    },
    {
     "data": {
      "image/png": "[encoded data removed]",
      "text/plain": [
       "<Figure size 1368x1368 with 2 Axes>"
      ]
     },
     "metadata": {
      "needs_background": "light"
     },
     "output_type": "display_data"
    }
   ],
   "source": [
    "def plot_correlation_matrix(corr_mtrx):\n",
    "    f = plt.figure(figsize=(19, 19))\n",
    "    plt.matshow(corr_mtrx, fignum=f.number)\n",
    "    plt.xticks(range(corr_mtrx.shape[1]), fontsize=9)\n",
    "    plt.yticks(range(corr_mtrx.shape[1]), fontsize=9)\n",
    "    cb = plt.colorbar()\n",
    "    plt.title('Correlation Matrix', fontsize=10)\n",
    "\n",
    "corr_matrix = np.corrcoef(x_train, rowvar=False)\n",
    "# print(corr_matrix, corr_matrix.shape)\n",
    "\n",
    "plot_correlation_matrix(corr_matrix)\n",
    "print(x_train.columns)\n",
    "x_train = x_train.drop(columns=['MaxTemp', 'WindDir3pm', 'WindSpeed9am', 'WindSpeed3pm', 'Pressure3pm', 'Temp9am', 'Temp3pm'])\n",
    "x_test = x_test.drop(columns=['MaxTemp', 'WindDir3pm', 'WindSpeed9am', 'WindSpeed3pm', 'Pressure3pm', 'Temp9am', 'Temp3pm'])\n",
    "\n",
    "corr_matrix = np.corrcoef(x_train, rowvar=False)\n",
    "plot_correlation_matrix(corr_matrix)\n",
    "\n",
    "x_train['Pressure9am'] = x_train['Pressure9am'] / np.mean(x_train['Pressure9am'])\n",
    "x_test['Pressure9am'] = x_test['Pressure9am'] / np.mean(x_test['Pressure9am'])"
   ]
  },
  {
   "cell_type": "markdown",
   "metadata": {
    "id": "mdZAWRXNjKU0"
   },
   "source": [
    "Рассмотрим метод Naive Bayes с распределением по Гауссу."
   ]
  },
  {
   "cell_type": "code",
   "execution_count": 5,
   "metadata": {
    "colab": {
     "base_uri": "https://localhost:8080/"
    },
    "id": "CQDdIl6U1TWO",
    "outputId": "db86d0ac-8aa6-47d8-a24d-50d1c5415143"
   },
   "outputs": [
    {
     "name": "stdout",
     "output_type": "stream",
     "text": [
      "Accuracy of Naive Bayes with Gaussian =  0.8429795976197223\n",
      "Time of Naive Bayes with Gaussian = 174691.00 msec\n"
     ]
    }
   ],
   "source": [
    "from sklearn.naive_bayes import  GaussianNB\n",
    "\n",
    "t1 = time.perf_counter()\n",
    "classifier = GaussianNB()\n",
    "classifier.fit(x_train, y_train)\n",
    "prediction = classifier.predict(x_test)\n",
    "t2 = time.perf_counter()\n",
    "\n",
    "GaussNB_acc = np.mean(prediction == y_test)\n",
    "print('Accuracy of Naive Bayes with Gaussian = ', GaussNB_acc)\n",
    "GaussNB_time = t2 - t1\n",
    "print(f'Time of Naive Bayes with Gaussian = {GaussNB_time * 10**6:.2f} msec')"
   ]
  },
  {
   "cell_type": "markdown",
   "metadata": {
    "id": "qVLakTiCjpCs"
   },
   "source": [
    "Рассмотрим метод KNN."
   ]
  },
  {
   "cell_type": "code",
   "execution_count": 6,
   "metadata": {
    "colab": {
     "base_uri": "https://localhost:8080/"
    },
    "id": "DCpDn3lU3klx",
    "outputId": "1333b6a4-6298-47e0-d7d0-20a9a7d7f7ee"
   },
   "outputs": [
    {
     "name": "stdout",
     "output_type": "stream",
     "text": [
      "Accuracy of KNN for k=ar1,10 =  [0.7880419382261263, 0.8258005100595069, 0.8275715500141683, 0.8373122697648059, 0.8383040521394163, 0.8419169736469255, 0.8450694247662227, 0.844183904788892, 0.8470884103145367, 0.8469113063190705, 0.8488948710682913, 0.8469113063190705, 0.84931992065741, 0.8474780391045622, 0.8496387078492491, 0.8481156134882403, 0.8500637574383678, 0.8479739302918674, 0.8497449702465287, 0.8482927174837064, 0.8501700198356474, 0.8487531878719183, 0.8507721734202324, 0.8488594502691981, 0.8504888070274865, 0.8486115046755455, 0.8507013318220459, 0.84822187588552, 0.8496741286483424, 0.8476197223009351]\n",
      "Time of KNN for k=ar1,10 =  [6.096662699999996, 7.091352699999987, 7.123980000000003, 6.830887700000005, 7.168293200000008, 7.219909999999999, 7.366074399999988, 7.343455199999994, 7.2869996000000015, 7.754522399999999, 7.722241800000006, 7.764524300000005, 7.838401900000008, 7.928208699999999, 8.07323120000001, 7.6388532, 9.11077739999999, 8.422529199999985, 8.372453699999994, 7.846668500000021, 7.6198631999999975, 7.986162999999976, 8.325739200000015, 8.527227199999999, 8.830520500000006, 9.790966799999978, 10.141621299999997, 9.50444010000001, 8.774910299999988, 8.511532700000032]\n"
     ]
    }
   ],
   "source": [
    "from sklearn.neighbors import KNeighborsClassifier\n",
    "\n",
    "KNN_acc = list()\n",
    "KNN_time = list()\n",
    "for i in range(1, 31):\n",
    "    t1 = time.perf_counter()\n",
    "    neigh = KNeighborsClassifier(n_neighbors=i)\n",
    "    neigh.fit(x_train, y_train)\n",
    "    prediction = neigh.predict(x_test)\n",
    "    t2 = time.perf_counter()\n",
    "    KNN_acc.append(np.mean(prediction == y_test))\n",
    "    KNN_time.append(t2 - t1)\n",
    "\n",
    "print('Accuracy of KNN for k= \\bar1,10 = ', KNN_acc)\n",
    "print('Time of KNN for k= \\bar1,10 = ', KNN_time)\n"
   ]
  },
  {
   "cell_type": "markdown",
   "metadata": {
    "id": "F6Y0bugLkzlN"
   },
   "source": [
    "Построим графики зависимости времени выполнения программы и точности от гиперпараметра k."
   ]
  },
  {
   "cell_type": "code",
   "execution_count": 7,
   "metadata": {
    "colab": {
     "base_uri": "https://localhost:8080/",
     "height": 330
    },
    "id": "zigHK11_4k8F",
    "outputId": "94a5c0f2-3130-4e09-c540-8d371ed2b360"
   },
   "outputs": [
    {
     "data": {
      "image/png": "[encoded data removed]",
      "text/plain": [
       "<Figure size 432x288 with 2 Axes>"
      ]
     },
     "metadata": {
      "needs_background": "light"
     },
     "output_type": "display_data"
    },
    {
     "name": "stdout",
     "output_type": "stream",
     "text": [
      "Accuracy of KNN, k=7 =  0.8450694247662227\n",
      "Time of KNN, k=7, sec =  7.366074399999988\n"
     ]
    }
   ],
   "source": [
    "fig, ax = plt.subplots()\n",
    "\n",
    "axes = [ax, ax.twinx()]\n",
    "a = np.arange(1, 31)\n",
    "KNN_acc = pd.Series(data=KNN_acc)\n",
    "KNN_time = pd.Series(data=KNN_time)\n",
    "podpisi = pd.Series(data=['Accuracy', 'Time, c'], index=['Red', 'Blue'])\n",
    "# print(KNN_acc)\n",
    "# print(KNN_time)\n",
    "data = pd.DataFrame()\n",
    "data['Red'] = KNN_acc\n",
    "data['Blue'] = KNN_time\n",
    "# print(data)\n",
    "\n",
    "\n",
    "colors = ['Red', 'Blue']\n",
    "plt.title('Accuracy and time of KNN for different k')\n",
    "for ax, color in zip(axes, colors):\n",
    "    ax.plot(a, data[color], marker='o', linestyle=':', color=color)\n",
    "    ax.set_ylabel(podpisi[color])\n",
    "    ax.tick_params(axis='y', colors=color)\n",
    "axes[0].set_xlabel('k')\n",
    "\n",
    "plt.show()\n",
    "print('Accuracy of KNN, k=7 = ', KNN_acc[6])\n",
    "print('Time of KNN, k=7, sec = ', KNN_time[6])"
   ]
  },
  {
   "cell_type": "markdown",
   "metadata": {
    "id": "mmTTqVlalK5a"
   },
   "source": [
    "Начиная с k = 7 точность перестает сильно учеличиваться. Поэтому для сравнения с другими методами будем использовать именно это значение гиперпараметра."
   ]
  },
  {
   "cell_type": "markdown",
   "metadata": {
    "id": "DrSzbtoxlLsD"
   },
   "source": [
    "Рассмотрим метод логистической регрессии."
   ]
  },
  {
   "cell_type": "code",
   "execution_count": 8,
   "metadata": {
    "colab": {
     "base_uri": "https://localhost:8080/"
    },
    "id": "aG9PAJYkOtzQ",
    "outputId": "200f6d8a-53a8-4b23-a6c1-15d1638f794e"
   },
   "outputs": [
    {
     "name": "stdout",
     "output_type": "stream",
     "text": [
      "Accuracy of Logistic regrassion =  0.8617880419382261\n",
      "Time of Logistic regrassion, sec =  9.792392899999982\n"
     ]
    }
   ],
   "source": [
    "from sklearn.linear_model import LogisticRegression\n",
    "\n",
    "t1 = time.perf_counter()\n",
    "classifier = LogisticRegression(penalty =  'l2', max_iter = 5000)\n",
    "classifier.fit(x_train, y_train)\n",
    "prediction = classifier.predict(x_test)\n",
    "t2 = time.perf_counter()\n",
    "LR_acc = np.mean(prediction == y_test)\n",
    "LR_time = t2 - t1\n",
    "print('Accuracy of Logistic regrassion = ', LR_acc)\n",
    "print('Time of Logistic regrassion, sec = ', LR_time)"
   ]
  },
  {
   "cell_type": "code",
   "execution_count": 9,
   "metadata": {
    "colab": {
     "base_uri": "https://localhost:8080/",
     "height": 545
    },
    "id": "iiJj49-ELq4J",
    "outputId": "ca98d31a-1203-4448-91b3-94c3c9ecb440"
   },
   "outputs": [
    {
     "data": {
      "image/png": "[encoded data removed]",
      "text/plain": [
       "<Figure size 432x288 with 1 Axes>"
      ]
     },
     "metadata": {
      "needs_background": "light"
     },
     "output_type": "display_data"
    },
    {
     "data": {
      "image/png": "[encoded data removed]",
      "text/plain": [
       "<Figure size 432x288 with 1 Axes>"
      ]
     },
     "metadata": {
      "needs_background": "light"
     },
     "output_type": "display_data"
    }
   ],
   "source": [
    "methods = ['NB', 'KNN, k=7', 'LR']\n",
    "a = np.arange(1, 4)\n",
    "category1_values = [GaussNB_acc, KNN_acc[6], LR_acc]\n",
    "category2_values = [GaussNB_time, KNN_time[6], LR_time]\n",
    "\n",
    "plt.figure()\n",
    "plt.plot(a,\n",
    "        category1_values,\n",
    "        color='blue', marker='o', linestyle=':')\n",
    "plt.xticks(a, methods)\n",
    "plt.title('Accuracy')\n",
    "plt.show()\n",
    "\n",
    "plt.bar(a,\n",
    "        category2_values,\n",
    "        color='orange',\n",
    "        width=0.4,\n",
    "        align='center')\n",
    "\n",
    "plt.xticks(a, methods)\n",
    "plt.title('Time')\n",
    "plt.show()"
   ]
  },
  {
   "cell_type": "markdown",
   "metadata": {
    "id": "q3ujbWtLdyYr"
   },
   "source": [
    "Для вычисления точности была использована метрика Accuracy, показывающаяя отношение попападия модели к общему количеству предсказаний.\n",
    "Таким образом, для данной таблицы нам выгоднее всего воспользоваться методом Naive Bayes, так как он работает на порядок быстрее KNN и Logistic Regression и при этом мы не сильно проигрываем в точности."
   ]
  }
 ],
 "metadata": {
  "colab": {
   "collapsed_sections": [],
   "name": "ДЗшка моя",
   "provenance": []
  },
  "kernelspec": {
   "display_name": "Python 3",
   "language": "python",
   "name": "python3"
  },
  "language_info": {
   "codemirror_mode": {
    "name": "ipython",
    "version": 3
   },
   "file_extension": ".py",
   "mimetype": "text/x-python",
   "name": "python",
   "nbconvert_exporter": "python",
   "pygments_lexer": "ipython3",
   "version": "3.7.10"
  }
 },
 "nbformat": 4,
 "nbformat_minor": 4
}
