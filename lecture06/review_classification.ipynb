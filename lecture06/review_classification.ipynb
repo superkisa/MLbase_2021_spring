{
 "cells": [
  {
   "cell_type": "markdown",
   "metadata": {
    "toc": true
   },
   "source": [
    "<h1>Table of Contents<span class=\"tocSkip\"></span></h1>\n",
    "<div class=\"toc\"><ul class=\"toc-item\"><li><span><a href=\"#Где-брать-данные?\" data-toc-modified-id=\"Где-брать-данные?-1\"><span class=\"toc-item-num\">1&nbsp;&nbsp;</span>Где брать данные?</a></span></li><li><span><a href=\"#Exploratory-Data-Analysis\" data-toc-modified-id=\"Exploratory-Data-Analysis-2\"><span class=\"toc-item-num\">2&nbsp;&nbsp;</span>Exploratory Data Analysis</a></span><ul class=\"toc-item\"><li><ul class=\"toc-item\"><li><span><a href=\"#Какие-бывают-значения-рейтинга?\" data-toc-modified-id=\"Какие-бывают-значения-рейтинга?-2.0.1\"><span class=\"toc-item-num\">2.0.1&nbsp;&nbsp;</span>Какие бывают значения рейтинга?</a></span></li><li><span><a href=\"#Добавьте-целевую-переменную\" data-toc-modified-id=\"Добавьте-целевую-переменную-2.0.2\"><span class=\"toc-item-num\">2.0.2&nbsp;&nbsp;</span>Добавьте целевую переменную</a></span></li><li><span><a href=\"#Худший-и-лучший-банк\" data-toc-modified-id=\"Худший-и-лучший-банк-2.0.3\"><span class=\"toc-item-num\">2.0.3&nbsp;&nbsp;</span>Худший и лучший банк</a></span></li><li><span><a href=\"#Отличается-ли-длина-у-хороших-и-плохих-отзывов?\" data-toc-modified-id=\"Отличается-ли-длина-у-хороших-и-плохих-отзывов?-2.0.4\"><span class=\"toc-item-num\">2.0.4&nbsp;&nbsp;</span>Отличается ли длина у хороших и плохих отзывов?</a></span></li><li><span><a href=\"#Отличается-ли-распределение-количества-восклицательных-знаков?\" data-toc-modified-id=\"Отличается-ли-распределение-количества-восклицательных-знаков?-2.0.5\"><span class=\"toc-item-num\">2.0.5&nbsp;&nbsp;</span>Отличается ли распределение количества восклицательных знаков?</a></span></li></ul></li></ul></li><li><span><a href=\"#Бейзлайн-модель-классификации\" data-toc-modified-id=\"Бейзлайн-модель-классификации-3\"><span class=\"toc-item-num\">3&nbsp;&nbsp;</span>Бейзлайн модель классификации</a></span></li><li><span><a href=\"#Обработка-текста\" data-toc-modified-id=\"Обработка-текста-4\"><span class=\"toc-item-num\">4&nbsp;&nbsp;</span>Обработка текста</a></span><ul class=\"toc-item\"><li><span><a href=\"#Модель-на-словах.-CountVectorizer\" data-toc-modified-id=\"Модель-на-словах.-CountVectorizer-4.1\"><span class=\"toc-item-num\">4.1&nbsp;&nbsp;</span>Модель на словах. CountVectorizer</a></span></li><li><span><a href=\"#Модель-на-n-gram'ах-символов.-TfidfVectorizer\" data-toc-modified-id=\"Модель-на-n-gram'ах-символов.-TfidfVectorizer-4.2\"><span class=\"toc-item-num\">4.2&nbsp;&nbsp;</span>Модель на n-gram'ах символов. TfidfVectorizer</a></span></li><li><span><a href=\"#Подбор-параметров-с-помощью-кросс-валидации\" data-toc-modified-id=\"Подбор-параметров-с-помощью-кросс-валидации-4.3\"><span class=\"toc-item-num\">4.3&nbsp;&nbsp;</span>Подбор параметров с помощью кросс-валидации</a></span></li><li><span><a href=\"#Объединение-признаков\" data-toc-modified-id=\"Объединение-признаков-4.4\"><span class=\"toc-item-num\">4.4&nbsp;&nbsp;</span>Объединение признаков</a></span></li><li><span><a href=\"#Визуализация-отзывов\" data-toc-modified-id=\"Визуализация-отзывов-4.5\"><span class=\"toc-item-num\">4.5&nbsp;&nbsp;</span>Визуализация отзывов</a></span></li></ul></li><li><span><a href=\"#Проблемы-анализа-тональности\" data-toc-modified-id=\"Проблемы-анализа-тональности-5\"><span class=\"toc-item-num\">5&nbsp;&nbsp;</span>Проблемы анализа тональности</a></span></li></ul></div>"
   ]
  },
  {
   "cell_type": "code",
   "execution_count": null,
   "metadata": {
    "ExecuteTime": {
     "end_time": "2021-04-14T09:49:53.783551Z",
     "start_time": "2021-04-14T09:49:51.250996Z"
    }
   },
   "outputs": [],
   "source": [
    "import json\n",
    "import re\n",
    "import requests\n",
    "\n",
    "import nltk\n",
    "nltk.download('stopwords')\n",
    "import pandas as pd\n",
    "import numpy as np\n",
    "import matplotlib.pyplot as plt\n",
    "plt.style.use('ggplot')\n",
    "from bs4 import BeautifulSoup\n",
    "from sklearn.model_selection import train_test_split, GridSearchCV\n",
    "from sklearn.preprocessing  import StandardScaler\n",
    "from sklearn.feature_extraction.text import TfidfVectorizer, CountVectorizer\n",
    "from sklearn.linear_model import LogisticRegression, SGDClassifier\n",
    "from sklearn.tree import DecisionTreeClassifier, plot_tree\n",
    "from sklearn.pipeline import Pipeline, FeatureUnion\n",
    "from sklearn.compose import ColumnTransformer\n",
    "from sklearn.metrics import f1_score\n",
    "from IPython.core.display import HTML, display"
   ]
  },
  {
   "cell_type": "code",
   "execution_count": null,
   "metadata": {
    "ExecuteTime": {
     "end_time": "2021-04-14T09:49:53.788973Z",
     "start_time": "2021-04-14T09:49:53.786326Z"
    }
   },
   "outputs": [],
   "source": [
    "SEED = 42\n",
    "\n",
    "TOKEN_PATTERN = \"[а-яё]+\"\n",
    "\n",
    "DATA_PATH = './data/parsed_reviews.csv.gz'"
   ]
  },
  {
   "cell_type": "markdown",
   "metadata": {},
   "source": [
    "Uncomment if you are using colab"
   ]
  },
  {
   "cell_type": "code",
   "execution_count": null,
   "metadata": {
    "ExecuteTime": {
     "end_time": "2021-04-14T09:49:53.793653Z",
     "start_time": "2021-04-14T09:49:53.790913Z"
    }
   },
   "outputs": [],
   "source": [
    "# !mkdir ./data\n",
    "# !wget https://raw.githubusercontent.com/vadim0912/MLbase_2021_spring/master/lecture06/data/parsed_reviews.csv.gz -O $DATA_PATH"
   ]
  },
  {
   "cell_type": "markdown",
   "metadata": {},
   "source": [
    "# Где брать данные?"
   ]
  },
  {
   "cell_type": "code",
   "execution_count": null,
   "metadata": {
    "ExecuteTime": {
     "end_time": "2021-04-14T09:49:53.799485Z",
     "start_time": "2021-04-14T09:49:53.796126Z"
    }
   },
   "outputs": [],
   "source": [
    "base_url = 'https://www.banki.ru/services/responses/list/?page={page}'\n",
    "\n",
    "print(base_url.format(page=1))"
   ]
  },
  {
   "cell_type": "code",
   "execution_count": null,
   "metadata": {
    "ExecuteTime": {
     "end_time": "2021-04-14T09:49:54.315995Z",
     "start_time": "2021-04-14T09:49:53.801612Z"
    }
   },
   "outputs": [],
   "source": [
    "response = requests.get(base_url.format(page=1))"
   ]
  },
  {
   "cell_type": "code",
   "execution_count": null,
   "metadata": {
    "ExecuteTime": {
     "end_time": "2021-04-14T09:49:54.387004Z",
     "start_time": "2021-04-14T09:49:54.318373Z"
    }
   },
   "outputs": [],
   "source": [
    "soup = BeautifulSoup(response.content, \"lxml\")\n",
    "\n",
    "results = soup.find_all('script', {\"type\": \"application/ld+json\"})"
   ]
  },
  {
   "cell_type": "markdown",
   "metadata": {
    "ExecuteTime": {
     "end_time": "2020-10-30T21:16:23.760727Z",
     "start_time": "2020-10-30T21:16:23.698135Z"
    }
   },
   "source": [
    "# Exploratory Data Analysis"
   ]
  },
  {
   "cell_type": "code",
   "execution_count": null,
   "metadata": {
    "ExecuteTime": {
     "end_time": "2021-04-14T09:49:54.524316Z",
     "start_time": "2021-04-14T09:49:54.388702Z"
    }
   },
   "outputs": [],
   "source": [
    "!ls -lah $DATA_PATH"
   ]
  },
  {
   "cell_type": "code",
   "execution_count": null,
   "metadata": {
    "ExecuteTime": {
     "end_time": "2021-04-14T09:49:55.307489Z",
     "start_time": "2021-04-14T09:49:54.527300Z"
    }
   },
   "outputs": [],
   "source": [
    "!gunzip -c $DATA_PATH | wc -l"
   ]
  },
  {
   "cell_type": "code",
   "execution_count": null,
   "metadata": {
    "ExecuteTime": {
     "end_time": "2021-04-14T09:49:56.918774Z",
     "start_time": "2021-04-14T09:49:55.310216Z"
    }
   },
   "outputs": [],
   "source": [
    "df = pd.read_csv(DATA_PATH, nrows=50_000)"
   ]
  },
  {
   "cell_type": "markdown",
   "metadata": {},
   "source": [
    "### Какие бывают значения рейтинга?"
   ]
  },
  {
   "cell_type": "code",
   "execution_count": null,
   "metadata": {
    "ExecuteTime": {
     "end_time": "2021-04-14T09:49:56.939305Z",
     "start_time": "2021-04-14T09:49:56.920658Z"
    }
   },
   "outputs": [],
   "source": [
    "df['rating'].value_counts()"
   ]
  },
  {
   "cell_type": "markdown",
   "metadata": {},
   "source": [
    "### Добавьте целевую переменную\n",
    "* $y = 1$, если рейтинг высокий\n",
    "* $y = 0$, если рейтинг низкий"
   ]
  },
  {
   "cell_type": "code",
   "execution_count": null,
   "metadata": {
    "ExecuteTime": {
     "end_time": "2021-04-14T09:49:56.955595Z",
     "start_time": "2021-04-14T09:49:56.941718Z"
    }
   },
   "outputs": [],
   "source": [
    "df = df[df.rating != 3].reset_index(drop=True)"
   ]
  },
  {
   "cell_type": "code",
   "execution_count": null,
   "metadata": {
    "ExecuteTime": {
     "end_time": "2021-04-14T09:49:56.982890Z",
     "start_time": "2021-04-14T09:49:56.958176Z"
    }
   },
   "outputs": [],
   "source": [
    "df['y'] = df.rating.apply(lambda x: int(x > 3)).values"
   ]
  },
  {
   "cell_type": "code",
   "execution_count": null,
   "metadata": {
    "ExecuteTime": {
     "end_time": "2021-04-14T09:49:57.000785Z",
     "start_time": "2021-04-14T09:49:56.985326Z"
    }
   },
   "outputs": [],
   "source": [
    "df.head()"
   ]
  },
  {
   "cell_type": "markdown",
   "metadata": {},
   "source": [
    "какой баланс классов?"
   ]
  },
  {
   "cell_type": "code",
   "execution_count": null,
   "metadata": {
    "ExecuteTime": {
     "end_time": "2021-04-14T09:49:57.009841Z",
     "start_time": "2021-04-14T09:49:57.002927Z"
    }
   },
   "outputs": [],
   "source": [
    "df['y'].value_counts()"
   ]
  },
  {
   "cell_type": "markdown",
   "metadata": {},
   "source": [
    "### Худший и лучший банк"
   ]
  },
  {
   "cell_type": "code",
   "execution_count": null,
   "metadata": {
    "ExecuteTime": {
     "end_time": "2021-04-14T09:49:57.029331Z",
     "start_time": "2021-04-14T09:49:57.011994Z"
    }
   },
   "outputs": [],
   "source": [
    "stat = (\n",
    "    df[['bank_name',  'date', 'rating']]\n",
    "    .groupby('bank_name', as_index=False)\n",
    "    .agg({'date': 'count', 'rating': 'mean'})\n",
    "    .rename({'date': 'review_count', 'rating': 'mean_rating'}, axis=1)\n",
    ")"
   ]
  },
  {
   "cell_type": "code",
   "execution_count": null,
   "metadata": {
    "ExecuteTime": {
     "end_time": "2021-04-14T09:49:57.042921Z",
     "start_time": "2021-04-14T09:49:57.031480Z"
    }
   },
   "outputs": [],
   "source": [
    "(\n",
    "    stat[stat['review_count'] > 3_000]\n",
    "    .sort_values('mean_rating', ascending=False)\n",
    ")"
   ]
  },
  {
   "cell_type": "markdown",
   "metadata": {},
   "source": [
    "### Отличается ли длина у хороших и плохих отзывов?\n",
    "\n",
    "посчитайте длины хороших и плохих отзывов"
   ]
  },
  {
   "cell_type": "code",
   "execution_count": null,
   "metadata": {
    "ExecuteTime": {
     "end_time": "2021-04-14T09:49:57.087527Z",
     "start_time": "2021-04-14T09:49:57.044898Z"
    }
   },
   "outputs": [],
   "source": [
    "body_len_0 = df.loc[df['y'] == 0, 'body'].str.len().values\n",
    "body_len_1 = df.loc[df['y'] == 1, 'body'].str.len().values"
   ]
  },
  {
   "cell_type": "markdown",
   "metadata": {},
   "source": [
    "постройте гистограммы для для хороших и плохих отзывов (ограничьте максимальную длину `max_body_length`)"
   ]
  },
  {
   "cell_type": "code",
   "execution_count": null,
   "metadata": {
    "ExecuteTime": {
     "end_time": "2021-04-14T09:49:57.753333Z",
     "start_time": "2021-04-14T09:49:57.089671Z"
    }
   },
   "outputs": [],
   "source": [
    "max_body_length = 5_000\n",
    "\n",
    "bins=100\n",
    "alpha=0.5\n",
    "\n",
    "plt.hist(body_len_0[body_len_0 <= max_body_length], alpha=alpha, bins=bins, label=r'$y = 0$')\n",
    "plt.hist(body_len_1[body_len_1 <= max_body_length], alpha=alpha, bins=bins, label=r'$y = 1$')\n",
    "plt.legend();"
   ]
  },
  {
   "cell_type": "markdown",
   "metadata": {},
   "source": [
    "отличаются ли медианы распределений?"
   ]
  },
  {
   "cell_type": "code",
   "execution_count": null,
   "metadata": {
    "ExecuteTime": {
     "end_time": "2021-04-14T09:49:57.760742Z",
     "start_time": "2021-04-14T09:49:57.755398Z"
    }
   },
   "outputs": [],
   "source": [
    "np.median(body_len_0), np.median(body_len_1)"
   ]
  },
  {
   "cell_type": "markdown",
   "metadata": {},
   "source": [
    "### Отличается ли распределение количества восклицательных знаков?"
   ]
  },
  {
   "cell_type": "code",
   "execution_count": null,
   "metadata": {
    "ExecuteTime": {
     "end_time": "2021-04-14T09:49:57.898391Z",
     "start_time": "2021-04-14T09:49:57.762757Z"
    }
   },
   "outputs": [],
   "source": [
    "body_exclamation_0 = df[df.y == 0].body.str.count('!')\n",
    "body_exclamation_1 = df[df.y == 1].body.str.count('!')\n",
    "\n",
    "title_exclamation_0 = df[df.y == 0].title.str.count('!')\n",
    "title_exclamation_1 = df[df.y == 1].title.str.count('!')"
   ]
  },
  {
   "cell_type": "code",
   "execution_count": null,
   "metadata": {
    "ExecuteTime": {
     "end_time": "2021-04-14T09:49:58.276123Z",
     "start_time": "2021-04-14T09:49:57.900340Z"
    }
   },
   "outputs": [],
   "source": [
    "max_symbols = 25\n",
    "title_max_symbols = 10\n",
    "\n",
    "plt.hist(\n",
    "    body_exclamation_1[body_exclamation_1 <= max_symbols],\n",
    "    label=r'$y = 1$', bins=max_symbols, alpha=alpha\n",
    ")\n",
    "plt.hist(\n",
    "    body_exclamation_0[body_exclamation_0 <= max_symbols],\n",
    "    label=r'$y = 0$', bins=max_symbols, alpha=alpha\n",
    ")\n",
    "plt.legend()\n",
    "plt.show()\n",
    "\n",
    "plt.hist(\n",
    "    title_exclamation_1[title_exclamation_1 <= title_max_symbols],\n",
    "    label=r'$y = 1$', bins=title_max_symbols, alpha=alpha\n",
    ")\n",
    "plt.hist(\n",
    "    title_exclamation_0[title_exclamation_0 <= title_max_symbols],\n",
    "    label=r'$y = 0$', bins=title_max_symbols, alpha=alpha\n",
    ")\n",
    "plt.legend()\n",
    "plt.show()"
   ]
  },
  {
   "cell_type": "code",
   "execution_count": null,
   "metadata": {
    "ExecuteTime": {
     "end_time": "2021-04-14T09:49:58.284180Z",
     "start_time": "2021-04-14T09:49:58.278496Z"
    }
   },
   "outputs": [],
   "source": [
    "np.median(body_exclamation_0), np.median(body_exclamation_1)"
   ]
  },
  {
   "cell_type": "markdown",
   "metadata": {},
   "source": [
    "# Бейзлайн модель классификации"
   ]
  },
  {
   "cell_type": "code",
   "execution_count": null,
   "metadata": {
    "ExecuteTime": {
     "end_time": "2021-04-14T09:49:58.458355Z",
     "start_time": "2021-04-14T09:49:58.286707Z"
    }
   },
   "outputs": [],
   "source": [
    "df['body_len'] = df.body.str.len()\n",
    "df['title_len'] = df.title.str.len()\n",
    "df['body_!'] = df.body.str.count('!')\n",
    "df['title_!'] = df.title.str.count('!')\n",
    "\n",
    "baseline_features = ['body_len', 'title_len', 'body_!', 'title_!']"
   ]
  },
  {
   "cell_type": "code",
   "execution_count": null,
   "metadata": {
    "ExecuteTime": {
     "end_time": "2021-04-14T09:49:58.472536Z",
     "start_time": "2021-04-14T09:49:58.460395Z"
    }
   },
   "outputs": [],
   "source": [
    "df.head()"
   ]
  },
  {
   "cell_type": "code",
   "execution_count": null,
   "metadata": {
    "ExecuteTime": {
     "end_time": "2021-04-14T09:49:58.499249Z",
     "start_time": "2021-04-14T09:49:58.474515Z"
    }
   },
   "outputs": [],
   "source": [
    "df_train, df_test = train_test_split(df, test_size=0.2, random_state=SEED)\n",
    "df_train, df_val = train_test_split(df_train, test_size=0.2, random_state=SEED)"
   ]
  },
  {
   "cell_type": "code",
   "execution_count": null,
   "metadata": {
    "ExecuteTime": {
     "end_time": "2021-04-14T09:49:58.506588Z",
     "start_time": "2021-04-14T09:49:58.501584Z"
    }
   },
   "outputs": [],
   "source": [
    "x_train = df_train[baseline_features].values\n",
    "y_train = df_train.y.values\n",
    "\n",
    "x_val = df_val[baseline_features].values\n",
    "y_val = df_val.y.values"
   ]
  },
  {
   "cell_type": "code",
   "execution_count": null,
   "metadata": {
    "ExecuteTime": {
     "end_time": "2021-04-14T09:49:58.546542Z",
     "start_time": "2021-04-14T09:49:58.508642Z"
    }
   },
   "outputs": [],
   "source": [
    "baseline = Pipeline([\n",
    "    ('scaler', StandardScaler()),\n",
    "    ('clf', LogisticRegression(random_state=SEED, solver='lbfgs', class_weight='balanced'))\n",
    "]).fit(x_train, y_train)"
   ]
  },
  {
   "cell_type": "code",
   "execution_count": null,
   "metadata": {
    "ExecuteTime": {
     "end_time": "2021-04-14T09:49:58.569829Z",
     "start_time": "2021-04-14T09:49:58.548738Z"
    }
   },
   "outputs": [],
   "source": [
    "y_train_pred = baseline.predict(x_train)\n",
    "f1_score(y_train, y_train_pred)"
   ]
  },
  {
   "cell_type": "code",
   "execution_count": null,
   "metadata": {
    "ExecuteTime": {
     "end_time": "2021-04-14T09:49:58.581764Z",
     "start_time": "2021-04-14T09:49:58.572125Z"
    }
   },
   "outputs": [],
   "source": [
    "y_val_pred = baseline.predict(x_val)\n",
    "f1_score(y_val, y_val_pred)"
   ]
  },
  {
   "cell_type": "markdown",
   "metadata": {},
   "source": [
    "оцените важность признаков. проинтерпретируйте полученный результат"
   ]
  },
  {
   "cell_type": "code",
   "execution_count": null,
   "metadata": {
    "ExecuteTime": {
     "end_time": "2021-04-14T09:49:58.587542Z",
     "start_time": "2021-04-14T09:49:58.584389Z"
    }
   },
   "outputs": [],
   "source": [
    "baseline_clf = baseline.steps[1][1]"
   ]
  },
  {
   "cell_type": "code",
   "execution_count": null,
   "metadata": {
    "ExecuteTime": {
     "end_time": "2021-04-14T09:49:58.593977Z",
     "start_time": "2021-04-14T09:49:58.590013Z"
    }
   },
   "outputs": [],
   "source": [
    "baseline_features"
   ]
  },
  {
   "cell_type": "code",
   "execution_count": null,
   "metadata": {
    "ExecuteTime": {
     "end_time": "2021-04-14T09:49:58.600986Z",
     "start_time": "2021-04-14T09:49:58.596226Z"
    }
   },
   "outputs": [],
   "source": [
    "baseline_clf.coef_"
   ]
  },
  {
   "cell_type": "code",
   "execution_count": null,
   "metadata": {
    "ExecuteTime": {
     "end_time": "2021-04-14T09:49:58.607668Z",
     "start_time": "2021-04-14T09:49:58.603238Z"
    }
   },
   "outputs": [],
   "source": [
    "baseline_clf.intercept_"
   ]
  },
  {
   "cell_type": "markdown",
   "metadata": {},
   "source": [
    "# Обработка текста"
   ]
  },
  {
   "cell_type": "markdown",
   "metadata": {},
   "source": [
    "## Модель на словах. CountVectorizer"
   ]
  },
  {
   "cell_type": "code",
   "execution_count": null,
   "metadata": {
    "ExecuteTime": {
     "end_time": "2021-04-14T09:49:58.615258Z",
     "start_time": "2021-04-14T09:49:58.609982Z"
    }
   },
   "outputs": [],
   "source": [
    "stop_words = nltk.corpus.stopwords.words('russian')"
   ]
  },
  {
   "cell_type": "code",
   "execution_count": null,
   "metadata": {
    "ExecuteTime": {
     "end_time": "2021-04-14T09:49:58.623531Z",
     "start_time": "2021-04-14T09:49:58.617998Z"
    }
   },
   "outputs": [],
   "source": [
    "count_model = Pipeline([\n",
    "    (\n",
    "        'vectorizer',\n",
    "        CountVectorizer(\n",
    "            lowercase=True, ngram_range=(1, 1), token_pattern=TOKEN_PATTERN,\n",
    "            stop_words=stop_words, min_df=3, max_df=0.8\n",
    "        )\n",
    "    ),\n",
    "    ('clf', SGDClassifier(random_state=SEED, loss='log', class_weight='balanced'))\n",
    "])"
   ]
  },
  {
   "cell_type": "code",
   "execution_count": null,
   "metadata": {
    "ExecuteTime": {
     "end_time": "2021-04-14T09:49:58.629163Z",
     "start_time": "2021-04-14T09:49:58.625993Z"
    }
   },
   "outputs": [],
   "source": [
    "x_train = df_train['body'].values\n",
    "x_val = df_val['body'].values"
   ]
  },
  {
   "cell_type": "code",
   "execution_count": null,
   "metadata": {
    "ExecuteTime": {
     "end_time": "2021-04-14T09:50:02.726749Z",
     "start_time": "2021-04-14T09:49:58.631334Z"
    }
   },
   "outputs": [],
   "source": [
    "count_model.fit(x_train, y_train)"
   ]
  },
  {
   "cell_type": "code",
   "execution_count": null,
   "metadata": {
    "ExecuteTime": {
     "end_time": "2021-04-14T09:50:02.730887Z",
     "start_time": "2021-04-14T09:50:02.728489Z"
    }
   },
   "outputs": [],
   "source": [
    "vectorizer = count_model.steps[0][1]"
   ]
  },
  {
   "cell_type": "code",
   "execution_count": null,
   "metadata": {
    "ExecuteTime": {
     "end_time": "2021-04-14T09:50:02.778301Z",
     "start_time": "2021-04-14T09:50:02.732942Z"
    }
   },
   "outputs": [],
   "source": [
    "features = np.array(vectorizer.get_feature_names())\n",
    "\n",
    "len(features)"
   ]
  },
  {
   "cell_type": "code",
   "execution_count": null,
   "metadata": {
    "ExecuteTime": {
     "end_time": "2021-04-14T09:50:02.784798Z",
     "start_time": "2021-04-14T09:50:02.780653Z"
    }
   },
   "outputs": [],
   "source": [
    "count_features = vectorizer.transform(x_train[[0]]).toarray()[0]"
   ]
  },
  {
   "cell_type": "code",
   "execution_count": null,
   "metadata": {
    "ExecuteTime": {
     "end_time": "2021-04-14T09:50:02.798936Z",
     "start_time": "2021-04-14T09:50:02.787384Z"
    }
   },
   "outputs": [],
   "source": [
    "pd.DataFrame({\n",
    "    'token': features[count_features > 0], \n",
    "    'count':count_features[count_features > 0]\n",
    "})"
   ]
  },
  {
   "cell_type": "code",
   "execution_count": null,
   "metadata": {
    "ExecuteTime": {
     "end_time": "2021-04-14T09:50:06.906186Z",
     "start_time": "2021-04-14T09:50:02.800799Z"
    }
   },
   "outputs": [],
   "source": [
    "f1_score(y_train, count_model.predict(x_train))"
   ]
  },
  {
   "cell_type": "code",
   "execution_count": null,
   "metadata": {
    "ExecuteTime": {
     "end_time": "2021-04-14T09:50:07.991122Z",
     "start_time": "2021-04-14T09:50:06.908471Z"
    }
   },
   "outputs": [],
   "source": [
    "f1_score(y_val, count_model.predict(x_val))"
   ]
  },
  {
   "cell_type": "code",
   "execution_count": null,
   "metadata": {
    "ExecuteTime": {
     "end_time": "2021-04-14T09:50:08.000682Z",
     "start_time": "2021-04-14T09:50:07.993566Z"
    }
   },
   "outputs": [],
   "source": [
    "tree_model = Pipeline([\n",
    "    (\n",
    "        'vectorizer',\n",
    "        CountVectorizer(\n",
    "            lowercase=True, ngram_range=(1, 1), token_pattern=TOKEN_PATTERN,\n",
    "            stop_words=stop_words, min_df=3, max_df=0.8\n",
    "        )\n",
    "    ),\n",
    "    ('clf', DecisionTreeClassifier(random_state=SEED, criterion='entropy', max_depth=10))\n",
    "])"
   ]
  },
  {
   "cell_type": "markdown",
   "metadata": {},
   "source": [
    "обучите деревянную модель. сравните качество на тренировочном и валидационном наборах"
   ]
  },
  {
   "cell_type": "code",
   "execution_count": null,
   "metadata": {
    "ExecuteTime": {
     "end_time": "2021-04-14T09:50:15.984473Z",
     "start_time": "2021-04-14T09:50:08.006981Z"
    }
   },
   "outputs": [],
   "source": [
    "tree_model.fit(x_train, y_train)"
   ]
  },
  {
   "cell_type": "code",
   "execution_count": null,
   "metadata": {
    "ExecuteTime": {
     "end_time": "2021-04-14T09:50:19.979550Z",
     "start_time": "2021-04-14T09:50:15.986339Z"
    }
   },
   "outputs": [],
   "source": [
    "f1_score(\n",
    "    y_train,\n",
    "    tree_model.predict(x_train)\n",
    ")"
   ]
  },
  {
   "cell_type": "code",
   "execution_count": null,
   "metadata": {
    "ExecuteTime": {
     "end_time": "2021-04-14T09:50:21.136459Z",
     "start_time": "2021-04-14T09:50:19.981614Z"
    }
   },
   "outputs": [],
   "source": [
    "f1_score(\n",
    "    y_val,\n",
    "    tree_model.predict(x_val)\n",
    ")"
   ]
  },
  {
   "cell_type": "code",
   "execution_count": null,
   "metadata": {
    "ExecuteTime": {
     "end_time": "2021-04-14T09:50:21.141445Z",
     "start_time": "2021-04-14T09:50:21.138806Z"
    }
   },
   "outputs": [],
   "source": [
    "clf = tree_model.steps[1][1]"
   ]
  },
  {
   "cell_type": "code",
   "execution_count": null,
   "metadata": {
    "ExecuteTime": {
     "end_time": "2021-04-14T09:50:22.075229Z",
     "start_time": "2021-04-14T09:50:21.145520Z"
    }
   },
   "outputs": [],
   "source": [
    "plt.style.use('default')\n",
    "plt.figure(figsize=(28,12))\n",
    "plot_tree(\n",
    "    clf, max_depth=3, fontsize=14, filled=True, precision=0, label='root',\n",
    "    impurity=False, feature_names=tree_model.steps[0][1].get_feature_names()\n",
    ");"
   ]
  },
  {
   "cell_type": "code",
   "execution_count": null,
   "metadata": {
    "ExecuteTime": {
     "end_time": "2021-04-14T09:50:22.081038Z",
     "start_time": "2021-04-14T09:50:22.077866Z"
    }
   },
   "outputs": [],
   "source": [
    "plt.style.use('ggplot')"
   ]
  },
  {
   "cell_type": "markdown",
   "metadata": {},
   "source": [
    "## Модель на n-gram'ах символов. TfidfVectorizer"
   ]
  },
  {
   "cell_type": "code",
   "execution_count": null,
   "metadata": {
    "ExecuteTime": {
     "end_time": "2021-04-14T09:50:22.086630Z",
     "start_time": "2021-04-14T09:50:22.083072Z"
    }
   },
   "outputs": [],
   "source": [
    "def preprocessor(text):\n",
    "    whitespaced_text = re.sub(\"[^а-яё!:)(]\", ' ', text.lower())\n",
    "    return re.sub(' +', ' ',  whitespaced_text)"
   ]
  },
  {
   "cell_type": "code",
   "execution_count": null,
   "metadata": {
    "ExecuteTime": {
     "end_time": "2021-04-14T09:50:22.095529Z",
     "start_time": "2021-04-14T09:50:22.088941Z"
    }
   },
   "outputs": [],
   "source": [
    "char_tfidf_model = Pipeline([\n",
    "    (\n",
    "        'vectorizer',\n",
    "        TfidfVectorizer(\n",
    "            lowercase=True, ngram_range=(2, 4), analyzer='char',\n",
    "            preprocessor=preprocessor, min_df=5, max_df=0.8\n",
    "        )\n",
    "    ),\n",
    "    ('clf', SGDClassifier(random_state=SEED, loss='log', class_weight='balanced'))\n",
    "])"
   ]
  },
  {
   "cell_type": "code",
   "execution_count": null,
   "metadata": {
    "ExecuteTime": {
     "end_time": "2021-04-14T09:51:24.000810Z",
     "start_time": "2021-04-14T09:50:22.098036Z"
    }
   },
   "outputs": [],
   "source": [
    "char_tfidf_model.fit(x_train, y_train)"
   ]
  },
  {
   "cell_type": "code",
   "execution_count": null,
   "metadata": {
    "ExecuteTime": {
     "end_time": "2021-04-14T09:51:24.076720Z",
     "start_time": "2021-04-14T09:51:24.003599Z"
    }
   },
   "outputs": [],
   "source": [
    "len(char_tfidf_model.steps[0][1].get_feature_names())"
   ]
  },
  {
   "cell_type": "code",
   "execution_count": null,
   "metadata": {
    "ExecuteTime": {
     "end_time": "2021-04-14T09:51:24.085628Z",
     "start_time": "2021-04-14T09:51:24.079009Z"
    }
   },
   "outputs": [],
   "source": [
    "weights = char_tfidf_model.steps[1][1].coef_[0]"
   ]
  },
  {
   "cell_type": "code",
   "execution_count": null,
   "metadata": {
    "ExecuteTime": {
     "end_time": "2021-04-14T09:51:24.168292Z",
     "start_time": "2021-04-14T09:51:24.088468Z"
    }
   },
   "outputs": [],
   "source": [
    "feature_names = np.array(\n",
    "    char_tfidf_model.steps[0][1].get_feature_names()\n",
    ")"
   ]
  },
  {
   "cell_type": "code",
   "execution_count": null,
   "metadata": {
    "ExecuteTime": {
     "end_time": "2021-04-14T09:51:24.178655Z",
     "start_time": "2021-04-14T09:51:24.170353Z"
    }
   },
   "outputs": [],
   "source": [
    "order = weights.argsort()"
   ]
  },
  {
   "cell_type": "code",
   "execution_count": null,
   "metadata": {
    "ExecuteTime": {
     "end_time": "2021-04-14T09:51:24.187880Z",
     "start_time": "2021-04-14T09:51:24.180975Z"
    }
   },
   "outputs": [],
   "source": [
    "feature_names[order][-20:]"
   ]
  },
  {
   "cell_type": "code",
   "execution_count": null,
   "metadata": {
    "ExecuteTime": {
     "end_time": "2021-04-14T09:52:40.667860Z",
     "start_time": "2021-04-14T09:51:24.190979Z"
    }
   },
   "outputs": [],
   "source": [
    "f1_score(y_train, char_tfidf_model.predict(x_train))"
   ]
  },
  {
   "cell_type": "code",
   "execution_count": null,
   "metadata": {
    "ExecuteTime": {
     "end_time": "2021-04-14T09:53:02.189911Z",
     "start_time": "2021-04-14T09:52:40.672648Z"
    }
   },
   "outputs": [],
   "source": [
    "f1_score(y_val, char_tfidf_model.predict(x_val))"
   ]
  },
  {
   "cell_type": "markdown",
   "metadata": {},
   "source": [
    "## Подбор параметров с помощью кросс-валидации"
   ]
  },
  {
   "cell_type": "code",
   "execution_count": null,
   "metadata": {
    "ExecuteTime": {
     "end_time": "2021-04-14T09:53:02.213214Z",
     "start_time": "2021-04-14T09:53:02.193438Z"
    }
   },
   "outputs": [],
   "source": [
    "parameters = {\n",
    "    'vectorizer__max_df': (0.5, 0.75),\n",
    "    'vectorizer__min_df': (3, 5, 7),\n",
    "    'clf__alpha': (0.0001, 0.001, 0.01),\n",
    "}"
   ]
  },
  {
   "cell_type": "code",
   "execution_count": null,
   "metadata": {
    "ExecuteTime": {
     "end_time": "2021-04-14T09:53:02.233709Z",
     "start_time": "2021-04-14T09:53:02.219464Z"
    }
   },
   "outputs": [],
   "source": [
    "grid_search = GridSearchCV(count_model, parameters, cv=3, n_jobs=-1, scoring='f1', verbose=1)"
   ]
  },
  {
   "cell_type": "code",
   "execution_count": null,
   "metadata": {
    "ExecuteTime": {
     "end_time": "2021-04-14T09:54:54.112666Z",
     "start_time": "2021-04-14T09:53:02.238243Z"
    }
   },
   "outputs": [],
   "source": [
    "grid_search.fit(x_train, y_train)"
   ]
  },
  {
   "cell_type": "code",
   "execution_count": null,
   "metadata": {
    "ExecuteTime": {
     "end_time": "2021-04-14T09:54:54.126044Z",
     "start_time": "2021-04-14T09:54:54.120479Z"
    }
   },
   "outputs": [],
   "source": [
    "best_parameters = grid_search.best_estimator_.get_params()"
   ]
  },
  {
   "cell_type": "code",
   "execution_count": null,
   "metadata": {
    "ExecuteTime": {
     "end_time": "2021-04-14T09:54:54.137345Z",
     "start_time": "2021-04-14T09:54:54.129618Z"
    }
   },
   "outputs": [],
   "source": [
    "for param_name in sorted(parameters.keys()):\n",
    "    print(\"\\t%s: %r\" % (param_name, best_parameters[param_name]))"
   ]
  },
  {
   "cell_type": "code",
   "execution_count": null,
   "metadata": {
    "ExecuteTime": {
     "end_time": "2021-04-14T09:54:54.366562Z",
     "start_time": "2021-04-14T09:54:54.141028Z"
    }
   },
   "outputs": [],
   "source": [
    "mean_score = grid_search.cv_results_['mean_test_score']\n",
    "std_score = grid_search.cv_results_['std_test_score']\n",
    "x = np.arange(0, mean_score.size)\n",
    "\n",
    "plt.errorbar(x, mean_score, yerr=std_score);"
   ]
  },
  {
   "cell_type": "code",
   "execution_count": null,
   "metadata": {
    "ExecuteTime": {
     "end_time": "2021-04-14T09:54:54.381908Z",
     "start_time": "2021-04-14T09:54:54.369523Z"
    }
   },
   "outputs": [],
   "source": [
    "grid_search.cv_results_"
   ]
  },
  {
   "cell_type": "code",
   "execution_count": null,
   "metadata": {
    "ExecuteTime": {
     "end_time": "2021-04-14T09:54:54.387929Z",
     "start_time": "2021-04-14T09:54:54.385323Z"
    }
   },
   "outputs": [],
   "source": [
    "cv_tuned_pipeline = grid_search.best_estimator_"
   ]
  },
  {
   "cell_type": "code",
   "execution_count": null,
   "metadata": {
    "ExecuteTime": {
     "end_time": "2021-04-14T09:54:58.439473Z",
     "start_time": "2021-04-14T09:54:54.390309Z"
    }
   },
   "outputs": [],
   "source": [
    "f1_score(\n",
    "    y_train,\n",
    "    cv_tuned_pipeline.predict(x_train)\n",
    ")"
   ]
  },
  {
   "cell_type": "code",
   "execution_count": null,
   "metadata": {
    "ExecuteTime": {
     "end_time": "2021-04-14T09:54:59.595016Z",
     "start_time": "2021-04-14T09:54:58.441418Z"
    }
   },
   "outputs": [],
   "source": [
    "f1_score(\n",
    "    y_val,\n",
    "    cv_tuned_pipeline.predict(x_val)\n",
    ")"
   ]
  },
  {
   "cell_type": "markdown",
   "metadata": {},
   "source": [
    "## Объединение признаков"
   ]
  },
  {
   "cell_type": "code",
   "execution_count": null,
   "metadata": {
    "ExecuteTime": {
     "end_time": "2021-04-14T09:54:59.608168Z",
     "start_time": "2021-04-14T09:54:59.598178Z"
    }
   },
   "outputs": [],
   "source": [
    "pipeline = Pipeline([\n",
    "    (\n",
    "        'features', \n",
    "        ColumnTransformer([\n",
    "            (\n",
    "                'title', \n",
    "                TfidfVectorizer(\n",
    "                    lowercase=True, ngram_range=(1, 2), token_pattern=TOKEN_PATTERN,\n",
    "                    stop_words=stop_words, min_df=5, max_df=0.75\n",
    "                ), \n",
    "                'title'\n",
    "            ),\n",
    "            (\n",
    "                'body',\n",
    "                CountVectorizer(\n",
    "                    lowercase=True, ngram_range=(1, 1), token_pattern=TOKEN_PATTERN,\n",
    "                    stop_words=stop_words, min_df=3, max_df=0.75\n",
    "                ), \n",
    "                'body'\n",
    "            )\n",
    "        ])\n",
    "    ),\n",
    "    ('clf', SGDClassifier(random_state=SEED, alpha=0.01))\n",
    "])"
   ]
  },
  {
   "cell_type": "code",
   "execution_count": null,
   "metadata": {
    "ExecuteTime": {
     "end_time": "2021-04-14T09:55:04.182966Z",
     "start_time": "2021-04-14T09:54:59.610731Z"
    }
   },
   "outputs": [],
   "source": [
    "pipeline.fit(df_train, y_train)"
   ]
  },
  {
   "cell_type": "code",
   "execution_count": null,
   "metadata": {
    "ExecuteTime": {
     "end_time": "2021-04-14T09:55:09.048104Z",
     "start_time": "2021-04-14T09:55:04.185068Z"
    }
   },
   "outputs": [],
   "source": [
    "f1_score(\n",
    "    y_train,\n",
    "    pipeline.predict(df_train)\n",
    ")"
   ]
  },
  {
   "cell_type": "code",
   "execution_count": null,
   "metadata": {
    "ExecuteTime": {
     "end_time": "2021-04-14T09:55:10.146528Z",
     "start_time": "2021-04-14T09:55:09.054258Z"
    }
   },
   "outputs": [],
   "source": [
    "f1_score(\n",
    "    y_val,\n",
    "    pipeline.predict(df_val)\n",
    ")"
   ]
  },
  {
   "cell_type": "markdown",
   "metadata": {},
   "source": [
    "получите признаки из векторизатора. посмотрите на добавленные биграммы"
   ]
  },
  {
   "cell_type": "code",
   "execution_count": null,
   "metadata": {
    "ExecuteTime": {
     "end_time": "2021-04-14T09:55:10.156282Z",
     "start_time": "2021-04-14T09:55:10.149609Z"
    }
   },
   "outputs": [],
   "source": [
    "vectorizer = pipeline[\"features\"].named_transformers_[\"title\"]"
   ]
  },
  {
   "cell_type": "code",
   "execution_count": null,
   "metadata": {
    "ExecuteTime": {
     "end_time": "2021-04-14T09:55:10.176543Z",
     "start_time": "2021-04-14T09:55:10.158706Z"
    }
   },
   "outputs": [],
   "source": [
    "vectorizer.get_feature_names()"
   ]
  },
  {
   "cell_type": "markdown",
   "metadata": {},
   "source": [
    "## Визуализация отзывов"
   ]
  },
  {
   "cell_type": "markdown",
   "metadata": {
    "ExecuteTime": {
     "end_time": "2020-11-01T21:14:31.607959Z",
     "start_time": "2020-11-01T21:14:31.540967Z"
    }
   },
   "source": [
    "Мы обучали модель классификации с помощью бинарной кросс-энтропии (log_loss):\n",
    "$$\n",
    "L = - y \\log\\left(\\hat{y}\\right) - (1 - y) \\log\\left(1 - \\hat{y}\\right)\n",
    "$$\n",
    "\n",
    "первое слагаемое в функции потерь отвечает за ложно-положительные срабатывания, второе — за ложно-отрицательные\n",
    "\n",
    "посмотрим, на каких примерах полученная модель сильнее всего ошибается в одну и другую сторону"
   ]
  },
  {
   "cell_type": "code",
   "execution_count": null,
   "metadata": {
    "ExecuteTime": {
     "end_time": "2021-04-14T09:55:11.223876Z",
     "start_time": "2021-04-14T09:55:10.181762Z"
    }
   },
   "outputs": [],
   "source": [
    "y_val_proba = count_model.predict_proba(x_val)[:, 1]\n",
    "\n",
    "y_val_rating = df_val.reset_index().rating.values"
   ]
  },
  {
   "cell_type": "code",
   "execution_count": null,
   "metadata": {
    "ExecuteTime": {
     "end_time": "2021-04-14T09:55:11.279674Z",
     "start_time": "2021-04-14T09:55:11.226124Z"
    }
   },
   "outputs": [],
   "source": [
    "def false_positive(y, y_proba, eps=1e-15):\n",
    "    if y:\n",
    "        return (-y) * np.log(y_proba + eps)\n",
    "    else:\n",
    "        return 0.0\n",
    "\n",
    "def false_negative(y, y_proba, eps=1e-15):\n",
    "    if y:\n",
    "        return 0.0\n",
    "    else:\n",
    "        return (y - 1) * np.log(1 - y_proba + eps)\n",
    "\n",
    "\n",
    "review_count = 5\n",
    "\n",
    "\n",
    "positive_error = np.array([false_positive(y, y_proba) for (y, y_proba) in zip(y_val, y_val_proba)])\n",
    "\n",
    "negative_error = np.array([false_negative(y, y_proba) for (y, y_proba) in zip(y_val, y_val_proba)])\n",
    "\n",
    "max_loss_ids = np.concatenate((\n",
    "    positive_error.argsort()[::-1][:review_count],\n",
    "    negative_error.argsort()[::-1][:review_count]\n",
    "))"
   ]
  },
  {
   "cell_type": "code",
   "execution_count": null,
   "metadata": {
    "ExecuteTime": {
     "end_time": "2021-04-14T09:55:11.334296Z",
     "start_time": "2021-04-14T09:55:11.283374Z"
    }
   },
   "outputs": [],
   "source": [
    "vectorizer = count_model.steps[0][1]\n",
    "\n",
    "token2id = {token: i for i, token in enumerate(vectorizer.get_feature_names())}\n",
    "\n",
    "importance = count_model.steps[1][1].coef_[0]\n",
    "\n",
    "min_importance = importance.min()\n",
    "max_importance = importance.max()"
   ]
  },
  {
   "cell_type": "code",
   "execution_count": null,
   "metadata": {
    "ExecuteTime": {
     "end_time": "2021-04-14T09:55:11.403249Z",
     "start_time": "2021-04-14T09:55:11.338947Z"
    },
    "scrolled": false
   },
   "outputs": [],
   "source": [
    "for i in max_loss_ids:\n",
    "    review_body = x_val[i]\n",
    "    \n",
    "    print(f'rating: {y_val_rating[i]}')\n",
    "    print(f'predicted proba: {y_val_proba[i]}')\n",
    "    \n",
    "    review_tokens = re.findall(TOKEN_PATTERN, review_body.lower())\n",
    "    \n",
    "    html_string = '''\n",
    "    <p style=\"font-size:16px; color:#000000; border: 2px solid #000; text-align: justify; background-color:#ffffff; border-radius: 25px; padding: 20px;\">\n",
    "    '''\n",
    "\n",
    "    for token in review_tokens:\n",
    "        if token in token2id:\n",
    "            weight = importance[token2id[token]]\n",
    "            if weight < 0:\n",
    "                component = hex(int(255 - 255 * weight / min_importance))[2:]\n",
    "                color = f'{component}{component}ff'\n",
    "            else:\n",
    "                component = hex(int(255 - 255 * weight / max_importance))[2:]\n",
    "                color = f'ff{component}{component}'\n",
    "        else:\n",
    "            weight = 0.0\n",
    "            color = 'ffffff'\n",
    "        html_string += f'<span style=\"background-color: #{color}\"; title=\"{weight:.2f}\">{token}</span> '\n",
    "\n",
    "    html_string += '</p>'\n",
    "\n",
    "    display(HTML(html_string))"
   ]
  },
  {
   "cell_type": "markdown",
   "metadata": {},
   "source": [
    "если присмотреться, то ошибки модели связаны с ошибками в разметке"
   ]
  },
  {
   "cell_type": "markdown",
   "metadata": {
    "ExecuteTime": {
     "end_time": "2020-11-01T20:52:06.817264Z",
     "start_time": "2020-11-01T20:52:06.810876Z"
    }
   },
   "source": [
    "# Проблемы анализа тональности\n",
    "\n",
    "это двойные отрицания и сарказм"
   ]
  },
  {
   "cell_type": "code",
   "execution_count": null,
   "metadata": {
    "ExecuteTime": {
     "end_time": "2021-04-14T09:55:11.416372Z",
     "start_time": "2021-04-14T09:55:11.406714Z"
    }
   },
   "outputs": [],
   "source": [
    "sentences = [\n",
    "    'ну да, блин, отношение к клиентам супер, спасибо вам...',\n",
    "    'такой клиентоориентированности я еще не видел, сказочные ...',\n",
    "    'выражаю огромную благодарность банку, третий раз пытаюсь оформить доставку карты, но воз и ныне там',\n",
    "    'я думал, что банк окажется хуже некуда, но обошлось',\n",
    "    'раньше ненавидел сбербанк, а теперь всем советую'\n",
    "]\n",
    "\n",
    "labels = [0, 0, 0, 1, 1]\n",
    "\n",
    "predictions = count_model.predict_proba(sentences)[:, 1]\n",
    "\n",
    "\n",
    "for sentence, label, prediction in zip(sentences, labels, predictions):\n",
    "    print(sentence)\n",
    "    print(f\"TRUE: {label} PREDICTED: {prediction:.2f}\\n\")\n",
    "    print(\"#\" * 100, end='\\n\\n')"
   ]
  },
  {
   "cell_type": "code",
   "execution_count": null,
   "metadata": {},
   "outputs": [],
   "source": []
  }
 ],
 "metadata": {
  "kernelspec": {
   "display_name": "Python 3",
   "language": "python",
   "name": "python3"
  },
  "language_info": {
   "codemirror_mode": {
    "name": "ipython",
    "version": 3
   },
   "file_extension": ".py",
   "mimetype": "text/x-python",
   "name": "python",
   "nbconvert_exporter": "python",
   "pygments_lexer": "ipython3",
   "version": "3.6.8"
  },
  "toc": {
   "base_numbering": 1,
   "nav_menu": {},
   "number_sections": true,
   "sideBar": true,
   "skip_h1_title": false,
   "title_cell": "Table of Contents",
   "title_sidebar": "Contents",
   "toc_cell": true,
   "toc_position": {},
   "toc_section_display": true,
   "toc_window_display": false
  }
 },
 "nbformat": 4,
 "nbformat_minor": 2
}
